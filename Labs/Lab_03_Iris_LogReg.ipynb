{
 "cells": [
  {
   "cell_type": "code",
   "execution_count": 1,
   "metadata": {},
   "outputs": [],
   "source": [
    "%matplotlib inline\n",
    "\n",
    "import numpy as np\n",
    "import seaborn as sns\n",
    "sns.set(style='whitegrid')\n",
    "import pandas as pd # data processing, CSV file I/O (e.g. pd.read_csv)\n",
    "import matplotlib.pyplot as plt\n",
    "import tensorflow as tf\n",
    "from sklearn import datasets"
   ]
  },
  {
   "cell_type": "markdown",
   "metadata": {},
   "source": [
    "#### Read in the data"
   ]
  },
  {
   "cell_type": "code",
   "execution_count": 2,
   "metadata": {},
   "outputs": [],
   "source": [
    "# Load the data\n",
    "# iris.data = [(Sepal Length, Sepal Width, Petal Length, Petal Width)]\n",
    "irisdataset = datasets.load_iris()"
   ]
  },
  {
   "cell_type": "code",
   "execution_count": 3,
   "metadata": {},
   "outputs": [],
   "source": [
    "x_vals = irisdataset.data\n",
    "y_vals = irisdataset.target"
   ]
  },
  {
   "cell_type": "code",
   "execution_count": 4,
   "metadata": {},
   "outputs": [
    {
     "data": {
      "text/plain": [
       "array([[5.1, 3.5, 1.4, 0.2],\n",
       "       [4.9, 3. , 1.4, 0.2],\n",
       "       [4.7, 3.2, 1.3, 0.2],\n",
       "       [4.6, 3.1, 1.5, 0.2],\n",
       "       [5. , 3.6, 1.4, 0.2]])"
      ]
     },
     "execution_count": 4,
     "metadata": {},
     "output_type": "execute_result"
    }
   ],
   "source": [
    "x_vals[:5]"
   ]
  },
  {
   "cell_type": "code",
   "execution_count": 5,
   "metadata": {},
   "outputs": [
    {
     "data": {
      "text/plain": [
       "array([0, 0, 0, 0, 0, 0, 0, 0, 0, 0, 0, 0, 0, 0, 0, 0, 0, 0, 0, 0, 0, 0,\n",
       "       0, 0, 0, 0, 0, 0, 0, 0, 0, 0, 0, 0, 0, 0, 0, 0, 0, 0, 0, 0, 0, 0,\n",
       "       0, 0, 0, 0, 0, 0, 1, 1, 1, 1, 1, 1, 1, 1, 1, 1, 1, 1, 1, 1, 1, 1,\n",
       "       1, 1, 1, 1, 1, 1, 1, 1, 1, 1, 1, 1, 1, 1, 1, 1, 1, 1, 1, 1, 1, 1,\n",
       "       1, 1, 1, 1, 1, 1, 1, 1, 1, 1, 1, 1, 2, 2, 2, 2, 2, 2, 2, 2, 2, 2,\n",
       "       2, 2, 2, 2, 2, 2, 2, 2, 2, 2, 2, 2, 2, 2, 2, 2, 2, 2, 2, 2, 2, 2,\n",
       "       2, 2, 2, 2, 2, 2, 2, 2, 2, 2, 2, 2, 2, 2, 2, 2, 2, 2])"
      ]
     },
     "execution_count": 5,
     "metadata": {},
     "output_type": "execute_result"
    }
   ],
   "source": [
    "y_vals"
   ]
  },
  {
   "cell_type": "code",
   "execution_count": 6,
   "metadata": {},
   "outputs": [
    {
     "data": {
      "text/html": [
       "<div>\n",
       "<style scoped>\n",
       "    .dataframe tbody tr th:only-of-type {\n",
       "        vertical-align: middle;\n",
       "    }\n",
       "\n",
       "    .dataframe tbody tr th {\n",
       "        vertical-align: top;\n",
       "    }\n",
       "\n",
       "    .dataframe thead th {\n",
       "        text-align: right;\n",
       "    }\n",
       "</style>\n",
       "<table border=\"1\" class=\"dataframe\">\n",
       "  <thead>\n",
       "    <tr style=\"text-align: right;\">\n",
       "      <th></th>\n",
       "      <th>SepalLengthCm</th>\n",
       "      <th>SepalWidthCm</th>\n",
       "      <th>PetalLengthCm</th>\n",
       "      <th>PetalWidthCm</th>\n",
       "      <th>CategoryId</th>\n",
       "      <th>IdLabels</th>\n",
       "    </tr>\n",
       "  </thead>\n",
       "  <tbody>\n",
       "    <tr>\n",
       "      <th>10</th>\n",
       "      <td>5.4</td>\n",
       "      <td>3.7</td>\n",
       "      <td>1.5</td>\n",
       "      <td>0.2</td>\n",
       "      <td>0</td>\n",
       "      <td>Setosa</td>\n",
       "    </tr>\n",
       "    <tr>\n",
       "      <th>113</th>\n",
       "      <td>5.7</td>\n",
       "      <td>2.5</td>\n",
       "      <td>5.0</td>\n",
       "      <td>2.0</td>\n",
       "      <td>2</td>\n",
       "      <td>Virginica</td>\n",
       "    </tr>\n",
       "    <tr>\n",
       "      <th>116</th>\n",
       "      <td>6.5</td>\n",
       "      <td>3.0</td>\n",
       "      <td>5.5</td>\n",
       "      <td>1.8</td>\n",
       "      <td>2</td>\n",
       "      <td>Virginica</td>\n",
       "    </tr>\n",
       "    <tr>\n",
       "      <th>82</th>\n",
       "      <td>5.8</td>\n",
       "      <td>2.7</td>\n",
       "      <td>3.9</td>\n",
       "      <td>1.2</td>\n",
       "      <td>1</td>\n",
       "      <td>Versicolour</td>\n",
       "    </tr>\n",
       "    <tr>\n",
       "      <th>62</th>\n",
       "      <td>6.0</td>\n",
       "      <td>2.2</td>\n",
       "      <td>4.0</td>\n",
       "      <td>1.0</td>\n",
       "      <td>1</td>\n",
       "      <td>Versicolour</td>\n",
       "    </tr>\n",
       "    <tr>\n",
       "      <th>0</th>\n",
       "      <td>5.1</td>\n",
       "      <td>3.5</td>\n",
       "      <td>1.4</td>\n",
       "      <td>0.2</td>\n",
       "      <td>0</td>\n",
       "      <td>Setosa</td>\n",
       "    </tr>\n",
       "    <tr>\n",
       "      <th>114</th>\n",
       "      <td>5.8</td>\n",
       "      <td>2.8</td>\n",
       "      <td>5.1</td>\n",
       "      <td>2.4</td>\n",
       "      <td>2</td>\n",
       "      <td>Virginica</td>\n",
       "    </tr>\n",
       "    <tr>\n",
       "      <th>93</th>\n",
       "      <td>5.0</td>\n",
       "      <td>2.3</td>\n",
       "      <td>3.3</td>\n",
       "      <td>1.0</td>\n",
       "      <td>1</td>\n",
       "      <td>Versicolour</td>\n",
       "    </tr>\n",
       "  </tbody>\n",
       "</table>\n",
       "</div>"
      ],
      "text/plain": [
       "     SepalLengthCm  SepalWidthCm  PetalLengthCm  PetalWidthCm  CategoryId  \\\n",
       "10             5.4           3.7            1.5           0.2           0   \n",
       "113            5.7           2.5            5.0           2.0           2   \n",
       "116            6.5           3.0            5.5           1.8           2   \n",
       "82             5.8           2.7            3.9           1.2           1   \n",
       "62             6.0           2.2            4.0           1.0           1   \n",
       "0              5.1           3.5            1.4           0.2           0   \n",
       "114            5.8           2.8            5.1           2.4           2   \n",
       "93             5.0           2.3            3.3           1.0           1   \n",
       "\n",
       "        IdLabels  \n",
       "10        Setosa  \n",
       "113    Virginica  \n",
       "116    Virginica  \n",
       "82   Versicolour  \n",
       "62   Versicolour  \n",
       "0         Setosa  \n",
       "114    Virginica  \n",
       "93   Versicolour  "
      ]
     },
     "execution_count": 6,
     "metadata": {},
     "output_type": "execute_result"
    }
   ],
   "source": [
    "iris = pd.DataFrame(x_vals,columns=[\"SepalLengthCm\", \"SepalWidthCm\" , \"PetalLengthCm\", \"PetalWidthCm\"])\n",
    "iris[\"CategoryId\"] = y_vals\n",
    "names={0:\"Setosa\",1:\"Versicolour\",2:\"Virginica\"}\n",
    "iris[\"IdLabels\"] = iris[\"CategoryId\"].replace(names,inplace=False)\n",
    "iris.sample(8,replace=True)"
   ]
  },
  {
   "cell_type": "code",
   "execution_count": 7,
   "metadata": {},
   "outputs": [
    {
     "name": "stdout",
     "output_type": "stream",
     "text": [
      "(150, 6)\n",
      "Virginica      50\n",
      "Setosa         50\n",
      "Versicolour    50\n",
      "Name: IdLabels, dtype: int64\n"
     ]
    }
   ],
   "source": [
    "print(iris.shape)\n",
    "print(iris[\"IdLabels\"].value_counts())"
   ]
  },
  {
   "cell_type": "markdown",
   "metadata": {},
   "source": [
    "### Pick Two Categories for binary classification\n",
    "* There are 50 from each category, and the dataset is already sorted, so we keep the first 100 rows of data\n",
    "* The Setosa iris species is linearly separable from the other two, but Virginica and Versicolor are not linearly separable from each other, so we'll compare Setosa vs Versicolour and then Versicolour vs Virginica."
   ]
  },
  {
   "cell_type": "code",
   "execution_count": 8,
   "metadata": {},
   "outputs": [],
   "source": [
    "iris = iris[:100]"
   ]
  },
  {
   "cell_type": "code",
   "execution_count": 9,
   "metadata": {},
   "outputs": [
    {
     "data": {
      "text/plain": [
       "<matplotlib.legend.Legend at 0x7efe821b7cf8>"
      ]
     },
     "execution_count": 9,
     "metadata": {},
     "output_type": "execute_result"
    },
    {
     "data": {
      "image/png": "[encoded data removed]",
      "text/plain": [
       "<Figure size 432x288 with 1 Axes>"
      ]
     },
     "metadata": {},
     "output_type": "display_data"
    }
   ],
   "source": [
    "# Note there are 50 from each category in the dataset\n",
    "plt.scatter(iris[:50].SepalLengthCm, iris[:50].SepalWidthCm, label='Iris-setosa')\n",
    "plt.scatter(iris[51:].SepalLengthCm, iris[51:].SepalWidthCm, label='Iris-versicolo')\n",
    "plt.xlabel('SepalLength')\n",
    "plt.ylabel('SepalWidth')\n",
    "plt.legend(loc='best')"
   ]
  },
  {
   "cell_type": "markdown",
   "metadata": {},
   "source": [
    "### Create X and y values"
   ]
  },
  {
   "cell_type": "code",
   "execution_count": 10,
   "metadata": {},
   "outputs": [],
   "source": [
    "X = iris.drop(labels=['CategoryId', 'IdLabels'], axis=1).values\n",
    "y = iris[\"CategoryId\"]\n",
    "\n",
    "# Set random seed for numpy and tensorflow for reproducible results\n",
    "seed = 12\n",
    "np.random.seed(seed)\n",
    "tf.set_random_seed(seed)"
   ]
  },
  {
   "cell_type": "markdown",
   "metadata": {},
   "source": [
    "#### Split data into train and test sets\n",
    "* We will be randomizing the data with `train_index` since the dataset is categegorized\n",
    "* In `np.random.choice` we set `replace=False` to avoid double-sampling"
   ]
  },
  {
   "cell_type": "code",
   "execution_count": 11,
   "metadata": {},
   "outputs": [],
   "source": [
    "# The percent of our data we want to use for training data\n",
    "train_pct = 0.8\n",
    "\n",
    "train_index = np.random.choice(len(X), round(len(X) * train_pct), replace=False)\n",
    "test_index = np.array(list(set(range(len(X))) - set(train_index)))\n",
    "train_X = X[train_index]\n",
    "train_y = y[train_index]\n",
    "test_X = X[test_index]\n",
    "test_y = y[test_index]"
   ]
  },
  {
   "cell_type": "code",
   "execution_count": 12,
   "metadata": {},
   "outputs": [
    {
     "name": "stdout",
     "output_type": "stream",
     "text": [
      "<class 'numpy.ndarray'> <class 'numpy.ndarray'> <class 'pandas.core.series.Series'> <class 'pandas.core.series.Series'>\n"
     ]
    }
   ],
   "source": [
    "print(type(train_X),type(test_X),type(train_y),type(test_y))"
   ]
  },
  {
   "cell_type": "markdown",
   "metadata": {},
   "source": [
    "#### Normalize the data\n",
    "* For logistic regression, normalization isn't strictly required\n",
    "* The main goal of normalizing features is to help convergence during optimization.\n",
    "* Remember that in logistic regression your coefficients indicate the effect of a one-unit change in your predictor variable on the log odds of 'success'. \n",
    "* The effect of transforming a variable (such as by standardizing or normalizing) is to change what we are calling a 'unit' in the context of our model. \n",
    "* The raw x data varies across some number of units in its original form. \n",
    "* After you normalize, your data ranges from **`0` to `1`**. \n",
    "* So now a change of one unit means going from the lowest valued observation to the highest valued observation. \n",
    "* The amount of increase in the log odds of success has not changed. \n",
    "* But we **DO** need to normalize for other machine learning algorithms, such as LASSO or ridge regression (because they put constraints on the size of the coefficients associated to each variable).\n",
    "* As we will see later, when we talk more extensively about batch normalization, this can be very important for neural networks as well."
   ]
  },
  {
   "cell_type": "code",
   "execution_count": 13,
   "metadata": {},
   "outputs": [],
   "source": [
    "# Define function to normalize the data\n",
    "def min_max_normalized(data):\n",
    "    col_max = np.max(data, axis=0)\n",
    "    col_min = np.min(data, axis=0)\n",
    "    return np.divide(data - col_min, col_max - col_min)\n",
    "\n",
    "# Normalized processing, must be placed after the data set segmentation, \n",
    "# otherwise the test set will be affected by the training set\n",
    "train_X = min_max_normalized(train_X)\n",
    "test_X = min_max_normalized(test_X)"
   ]
  },
  {
   "cell_type": "markdown",
   "metadata": {},
   "source": [
    "### Build the model\n",
    "* Begin building the model framework\n",
    "* Declare the variables that need to be learned (i.e. weights and biases)\n",
    "* Make sure to give your variables the right shape - you will be able to figure this out from how many features there are\n",
    "* There are 4 features here, A's dimension is (4, 1)"
   ]
  },
  {
   "cell_type": "code",
   "execution_count": 15,
   "metadata": {},
   "outputs": [],
   "source": [
    "### YOUR CODE HERE"
   ]
  },
  {
   "cell_type": "markdown",
   "metadata": {},
   "source": [
    "### Define the placeholders for our data\n",
    "* You will need placeholders for the features and labels.\n",
    "* Be sure to declare a data type, and the appropriate shape."
   ]
  },
  {
   "cell_type": "code",
   "execution_count": 16,
   "metadata": {},
   "outputs": [],
   "source": [
    "### YOUR CODE HERE"
   ]
  },
  {
   "cell_type": "markdown",
   "metadata": {},
   "source": [
    "### Declare the operations for the model that you need to learn\n",
    "* In this case we are doing logistic regression, so remember that the formula is:\n",
    "\n",
    "$$\\Large{ \\textbf{y} = \\sigma(\\textbf{A}\\times \\textbf{x} + \\textbf{b})}$$\n",
    "\n",
    "* Where $\\sigma$ is the sigmoid function\n",
    "* Keep in mind that we will be doing the sigmoid operation as part of our loss function, so we don't need to do it twice."
   ]
  },
  {
   "cell_type": "code",
   "execution_count": 17,
   "metadata": {},
   "outputs": [],
   "source": [
    "### YOUR CODE HERE\n",
    "model_output = "
   ]
  },
  {
   "cell_type": "markdown",
   "metadata": {},
   "source": [
    "### Declare a loss function\n",
    "* Use the sigmoid cross entropy loss function `tf.nn.sigmoid_cross_entropy_with_logits`"
   ]
  },
  {
   "cell_type": "code",
   "execution_count": 18,
   "metadata": {},
   "outputs": [],
   "source": [
    "### YOUR CODE HERE"
   ]
  },
  {
   "cell_type": "markdown",
   "metadata": {},
   "source": [
    "### Define the learning rate,  batch size, and the number of iterations you will run"
   ]
  },
  {
   "cell_type": "code",
   "execution_count": 19,
   "metadata": {},
   "outputs": [],
   "source": [
    "learning_rate = 0.003\n",
    "batch_size = 30\n",
    "iter_num = 2400"
   ]
  },
  {
   "cell_type": "markdown",
   "metadata": {},
   "source": [
    "### Define the optimizer\n",
    "* Use `tf.train.GradientDescentOptimizer`"
   ]
  },
  {
   "cell_type": "code",
   "execution_count": 20,
   "metadata": {},
   "outputs": [],
   "source": [
    "### YOUR CODE HERE"
   ]
  },
  {
   "cell_type": "markdown",
   "metadata": {},
   "source": [
    "### Define your training step\n",
    "* This is the **goal** of the learning/optimization process - i.e. what are we doing with loss function?"
   ]
  },
  {
   "cell_type": "code",
   "execution_count": 1,
   "metadata": {},
   "outputs": [],
   "source": [
    "### YOUR CODE HERE"
   ]
  },
  {
   "cell_type": "markdown",
   "metadata": {},
   "source": [
    "### Define the accuracy"
   ]
  },
  {
   "cell_type": "code",
   "execution_count": 22,
   "metadata": {},
   "outputs": [],
   "source": [
    "# The default threshold is 0.5, rounded off directly\n",
    "prediction = tf.round(tf.sigmoid(model_output))\n",
    "# Bool into float32 type\n",
    "correct = tf.cast(tf.equal(prediction, target), dtype=tf.float32)\n",
    "# Average\n",
    "accuracy = tf.reduce_mean(correct)"
   ]
  },
  {
   "cell_type": "markdown",
   "metadata": {},
   "source": [
    "### Train the model\n",
    "You will need to do the following:\n",
    "1. Set up a training session\n",
    "2. Initialize variables\n",
    "3. Evaluate your training step, accuracy, and loss at each epoch.\n",
    "4. Store the results"
   ]
  },
  {
   "cell_type": "code",
   "execution_count": 23,
   "metadata": {},
   "outputs": [
    {
     "name": "stdout",
     "output_type": "stream",
     "text": [
      "<class 'numpy.ndarray'> <class 'numpy.ndarray'> <class 'pandas.core.series.Series'> <class 'pandas.core.series.Series'>\n"
     ]
    }
   ],
   "source": [
    "print(type(train_X),type(test_X),type(train_y),type(test_y))"
   ]
  },
  {
   "cell_type": "code",
   "execution_count": 24,
   "metadata": {},
   "outputs": [
    {
     "name": "stdout",
     "output_type": "stream",
     "text": [
      "(80, 4) (80,)\n"
     ]
    }
   ],
   "source": [
    "train_y=np.array(train_y)\n",
    "print(train_X.shape,train_y.shape)"
   ]
  },
  {
   "cell_type": "code",
   "execution_count": 25,
   "metadata": {},
   "outputs": [
    {
     "data": {
      "text/plain": [
       "array([1, 0, 1, 1, 1, 0, 0, 1, 1, 1, 0, 1, 0, 0, 1, 0, 1, 0, 0, 1])"
      ]
     },
     "execution_count": 25,
     "metadata": {},
     "output_type": "execute_result"
    }
   ],
   "source": [
    "np.random.choice(train_y,size=20)"
   ]
  },
  {
   "cell_type": "code",
   "execution_count": 26,
   "metadata": {},
   "outputs": [
    {
     "name": "stdout",
     "output_type": "stream",
     "text": [
      "epoch:  300 loss: 0.688184 train_acc: 0.525000 test_acc: 0.400000\n",
      "epoch:  600 loss: 0.682965 train_acc: 0.525000 test_acc: 0.400000\n",
      "epoch:  900 loss: 0.694109 train_acc: 0.525000 test_acc: 0.400000\n",
      "epoch: 1200 loss: 0.492411 train_acc: 0.525000 test_acc: 0.400000\n",
      "epoch: 1500 loss: 0.591237 train_acc: 0.550000 test_acc: 0.550000\n",
      "epoch: 1800 loss: 0.508848 train_acc: 0.687500 test_acc: 0.800000\n",
      "epoch: 2100 loss: 0.390069 train_acc: 0.850000 test_acc: 1.000000\n",
      "epoch: 2400 loss: 0.484044 train_acc: 0.912500 test_acc: 1.000000\n"
     ]
    }
   ],
   "source": [
    "# Start training model\n",
    "# Define the variable that stores the result\n",
    "loss_trace = []\n",
    "train_acc = []\n",
    "test_acc = []\n",
    "\n",
    "# Set up a session and initialize variables\n",
    "### YOUR CODE HERE\n",
    "\n",
    "# training model\n",
    "for epoch in range(iter_num):\n",
    "    # Generate random batch index\n",
    "    batch_index = np.random.choice(len(train_X), size=batch_size)\n",
    "    batch_train_X = train_X[batch_index]\n",
    "    batch_train_y = np.transpose([train_y[batch_index]])\n",
    "    \n",
    "    # Evaluate your training step, accuracy, and loss at each epoch.\n",
    "    ### YOUR CODE HERE\n",
    "    temp_loss = \n",
    "    temp_train_acc = \n",
    "    temp_test_acc = \n",
    "\n",
    "    # store the results\n",
    "    ### YOUR CODE HERE\n",
    "\n",
    "    \n",
    "    # output\n",
    "    if (epoch + 1) % 300 == 0:\n",
    "        print('epoch: {:4d} loss: {:5f} train_acc: {:5f} test_acc: {:5f}'.format(epoch + 1, temp_loss,\n",
    "                                                                          temp_train_acc, temp_test_acc))\n",
    "        \n",
    "sess.close()"
   ]
  },
  {
   "cell_type": "markdown",
   "metadata": {},
   "source": [
    "### Visualize the results"
   ]
  },
  {
   "cell_type": "code",
   "execution_count": 27,
   "metadata": {},
   "outputs": [
    {
     "data": {
      "image/png": "[encoded data removed]",
      "text/plain": [
       "<Figure size 432x288 with 1 Axes>"
      ]
     },
     "metadata": {},
     "output_type": "display_data"
    }
   ],
   "source": [
    "plt.plot(loss_trace)\n",
    "plt.title('Cross Entropy Loss')\n",
    "plt.xlabel('epoch')\n",
    "plt.ylabel('loss')\n",
    "plt.show()"
   ]
  },
  {
   "cell_type": "code",
   "execution_count": 28,
   "metadata": {},
   "outputs": [
    {
     "data": {
      "image/png": "[encoded data removed]",
      "text/plain": [
       "<Figure size 432x288 with 1 Axes>"
      ]
     },
     "metadata": {},
     "output_type": "display_data"
    }
   ],
   "source": [
    "# accuracy\n",
    "plt.plot(train_acc, 'b-', label='train accuracy')\n",
    "plt.plot(test_acc, 'k-', label='test accuracy')\n",
    "plt.xlabel('epoch')\n",
    "plt.ylabel('accuracy')\n",
    "plt.title('Train and Test Accuracy')\n",
    "plt.legend(loc='best')\n",
    "plt.show()"
   ]
  },
  {
   "cell_type": "code",
   "execution_count": null,
   "metadata": {},
   "outputs": [],
   "source": []
  }
 ],
 "metadata": {
  "kernelspec": {
   "display_name": "Python 3",
   "language": "python",
   "name": "python3"
  },
  "language_info": {
   "codemirror_mode": {
    "name": "ipython",
    "version": 3
   },
   "file_extension": ".py",
   "mimetype": "text/x-python",
   "name": "python",
   "nbconvert_exporter": "python",
   "pygments_lexer": "ipython3",
   "version": "3.5.2"
  }
 },
 "nbformat": 4,
 "nbformat_minor": 2
}
