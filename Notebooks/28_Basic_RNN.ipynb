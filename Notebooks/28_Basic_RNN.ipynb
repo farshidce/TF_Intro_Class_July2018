{
 "cells": [
  {
   "cell_type": "code",
   "execution_count": 6,
   "metadata": {},
   "outputs": [],
   "source": [
    "import os\n",
    "import re\n",
    "import io\n",
    "import requests\n",
    "import numpy as np\n",
    "import tensorflow as tf\n",
    "from tensorflow.python.framework import ops\n",
    "import warnings\n",
    "\n",
    "warnings.filterwarnings(\"ignore\")\n",
    "os.environ['TF_CPP_MIN_LOG_LEVEL'] = '3'"
   ]
  },
  {
   "cell_type": "markdown",
   "metadata": {},
   "source": [
    "## Recurrent Neural Networks\n",
    "* Recurrent networks share their weights over time, thus \"recurrent\"\n",
    "* This allows them to have a kind of \"memory\" about what happened earlier in the sequence."
   ]
  },
  {
   "cell_type": "markdown",
   "metadata": {},
   "source": [
    "<img src=\"../pics/RNN-unrolled.png\">"
   ]
  },
  {
   "cell_type": "markdown",
   "metadata": {},
   "source": [
    "* Here we create an RNN composed of a layer of five recurrent neurons using ReLU for our activation function. \n",
    "* In this simple case, we are assuming that the RNN runs over only two-time steps, taking input vectors of size 3 at each time step. "
   ]
  },
  {
   "cell_type": "code",
   "execution_count": 2,
   "metadata": {},
   "outputs": [],
   "source": [
    "n_inputs = 3\n",
    "n_neurons = 5\n",
    "\n",
    "X1 = tf.placeholder(tf.float32, [None, n_inputs])\n",
    "X2 = tf.placeholder(tf.float32, [None, n_inputs])\n",
    "\n",
    "Wx = tf.get_variable(\"Wx\", shape=[n_inputs,n_neurons], dtype=tf.float32, initializer=None, regularizer=None, trainable=True, collections=None)\n",
    "\n",
    "Wy = tf.get_variable(\"Wy\", shape=[n_neurons,n_neurons], dtype=tf.float32, initializer=None, regularizer=None, trainable=True, collections=None)\n",
    "\n",
    "b = tf.get_variable(\"b\", shape=[1,n_neurons], dtype=tf.float32, initializer=None, regularizer=None, trainable=True, collections=None)\n",
    "\n",
    "Y1 = tf.nn.relu(tf.matmul(X1, Wx) + b)\n",
    "Y2 = tf.nn.relu(tf.matmul(Y1, Wy) + tf.matmul(X2, Wx) + b)\n",
    "\n",
    "init_op = tf.global_variables_initializer()"
   ]
  },
  {
   "cell_type": "markdown",
   "metadata": {},
   "source": [
    "* This network looks much like a two-layer feedforward neural network, but both layers share the same weights and bias vectors. \n",
    "* Also, we feed inputs at each layer and receive outputs from each layer."
   ]
  },
  {
   "cell_type": "code",
   "execution_count": 3,
   "metadata": {},
   "outputs": [],
   "source": [
    "# Mini-batch: instance 0,instance 1,instance 2,instance 3\n",
    "X1_batch = np.array([[0, 2, 3], [2, 8, 9], [5, 3, 8], [3, 2, 9]]) # t = 0\n",
    "X2_batch = np.array([[5, 6, 8], [1, 0, 0], [8, 2, 0], [2, 3, 6]]) # t = 1"
   ]
  },
  {
   "cell_type": "markdown",
   "metadata": {},
   "source": [
    "* These mini-batches contain four instances, each with an input sequence composed of exactly two inputs. \n",
    "* At the end, Y1_val and Y2_val contain the outputs of the network at both time steps for all neurons and all instances in the mini-batch."
   ]
  },
  {
   "cell_type": "code",
   "execution_count": 4,
   "metadata": {},
   "outputs": [
    {
     "name": "stdout",
     "output_type": "stream",
     "text": [
      "[[0.         0.         0.51920843 0.         0.8595352 ]\n",
      " [0.         0.         1.2733305  0.         0.7417767 ]\n",
      " [0.         0.         0.         0.         4.500122  ]\n",
      " [0.         0.         0.         0.         4.3668284 ]]\n",
      "\n",
      "[[0.         0.         0.         0.         3.0322785 ]\n",
      " [0.         0.         0.         0.21159875 1.2591668 ]\n",
      " [0.         0.         0.         6.5043755  5.023193  ]\n",
      " [0.         0.         0.         0.         3.5113583 ]]\n"
     ]
    }
   ],
   "source": [
    "with tf.Session() as sess:\n",
    "\tinit_op.run()\n",
    "\tY1_val, Y2_val = sess.run([Y1, Y2], feed_dict={X1: X1_batch, X2: X2_batch})\n",
    "\n",
    "print(Y1_val) # output at t = 0\n",
    "print()\n",
    "print(Y2_val) # output at t = 1"
   ]
  },
  {
   "cell_type": "markdown",
   "metadata": {},
   "source": [
    "### Using contrib"
   ]
  },
  {
   "cell_type": "code",
   "execution_count": 7,
   "metadata": {},
   "outputs": [
    {
     "name": "stdout",
     "output_type": "stream",
     "text": [
      "[[[-0.03298712  0.3656067   0.7263861  -0.39105207 -0.8217619 ]\n",
      "  [ 0.3379907   0.803342    0.9320661  -0.9895262  -0.9953831 ]]\n",
      "\n",
      " [[ 0.96835923 -0.92017645 -0.4448912  -0.9978729  -0.86391944]\n",
      "  [ 0.7141644  -0.22028413  0.58800185 -0.34547463 -0.5787524 ]]\n",
      "\n",
      " [[ 0.9746464  -0.92241496 -0.6864854  -0.9993912  -0.51832616]\n",
      "  [ 0.99151057 -0.9645286  -0.8491261  -0.9991241   0.6904297 ]]\n",
      "\n",
      " [[ 0.99596894 -0.9986037  -0.9997294  -0.9991608   0.9971175 ]\n",
      "  [ 0.82204396 -0.8652973   0.36278024 -0.7410866  -0.9432218 ]]]\n"
     ]
    }
   ],
   "source": [
    "tf.reset_default_graph()\n",
    "n_inputs = 3\n",
    "n_neurons = 5\n",
    "n_steps = 2\n",
    "\n",
    "X = tf.placeholder(tf.float32, [None, n_steps, n_inputs])\n",
    "seq_length = tf.placeholder(tf.int32, [None])\n",
    "\n",
    "basic_cell = tf.nn.rnn_cell.BasicRNNCell(num_units=n_neurons)\n",
    "output_seqs, states = tf.nn.dynamic_rnn(basic_cell, X, dtype=tf.float32)\n",
    "\n",
    "# note that here instance one is not as long as the other sequences\n",
    "# so we padded it with a zero vector\n",
    "X_batch = np.array([\n",
    "                   [[0, 2, 3], [2, 8, 9]], # instance 0\n",
    "                   [[5, 6, 8], [0, 0, 0]], # instance 1 (padded with a zero vector)\n",
    "                   [[6, 7, 8], [6, 5, 4]], # instance 2\n",
    "                   [[8, 2, 0], [2, 3, 6]], # instance 3\n",
    "                  ])\n",
    "seq_length_batch = np.array([3, 4, 3, 5])\n",
    "init_op = tf.global_variables_initializer()\n",
    "\n",
    "with tf.Session() as sess:\n",
    "        init_op.run()\n",
    "        outputs_val, states_val = sess.run([output_seqs, states], feed_dict={X: X_batch, seq_length: seq_length_batch})\n",
    "\n",
    "print(outputs_val)"
   ]
  },
  {
   "cell_type": "code",
   "execution_count": null,
   "metadata": {},
   "outputs": [],
   "source": []
  },
  {
   "cell_type": "code",
   "execution_count": null,
   "metadata": {},
   "outputs": [],
   "source": []
  }
 ],
 "metadata": {
  "kernelspec": {
   "display_name": "Python 3",
   "language": "python",
   "name": "python3"
  },
  "language_info": {
   "codemirror_mode": {
    "name": "ipython",
    "version": 3
   },
   "file_extension": ".py",
   "mimetype": "text/x-python",
   "name": "python",
   "nbconvert_exporter": "python",
   "pygments_lexer": "ipython3",
   "version": "3.5.2"
  }
 },
 "nbformat": 4,
 "nbformat_minor": 2
}
