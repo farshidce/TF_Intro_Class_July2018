{
 "cells": [
  {
   "cell_type": "code",
   "execution_count": 1,
   "metadata": {},
   "outputs": [],
   "source": [
    "import os\n",
    "import numpy as np\n",
    "import tensorflow as tf\n",
    "import matplotlib.pyplot as plt\n",
    "from IPython import display\n",
    "\n",
    "num_epochs = 5\n",
    "total_series_length = 50000\n",
    "truncated_backprop_length = 15 # number of steps to backpropagate through time\n",
    "state_size = 4\n",
    "num_classes = 2\n",
    "echo_step = 3\n",
    "batch_size = 5\n",
    "num_batches = total_series_length//batch_size//truncated_backprop_length\n",
    "%matplotlib notebook"
   ]
  },
  {
   "cell_type": "markdown",
   "metadata": {},
   "source": [
    "### Generate Training Data\n",
    "* Here we are just making random binary vectors.\n",
    "* Our \"label\" (i.e. the output) will be an echo of the input, shifted `echo_steps` to the right.\n",
    "* Notice the reshaping of the data into a matrix with `batch_size` rows."
   ]
  },
  {
   "cell_type": "code",
   "execution_count": 2,
   "metadata": {},
   "outputs": [],
   "source": [
    "def generateData():\n",
    "    x = np.array(np.random.choice(2, total_series_length, p=[0.5, 0.5]))\n",
    "    y = np.roll(x, echo_step) # roll by echo_step places to create our \"echo\" data\n",
    "    y[0:echo_step] = 0\n",
    "\n",
    "    x = x.reshape((batch_size, -1))\n",
    "    y = y.reshape((batch_size, -1))\n",
    "\n",
    "    return (x, y)"
   ]
  },
  {
   "cell_type": "markdown",
   "metadata": {},
   "source": [
    "* On each run, the batch data is fed to placeholders, which are the starting nodes of the computational graph.\n",
    "* Also the RNN state is supplied in a placeholder, which is saved from the output of the previous run.\n",
    "* Weights and biases of the network are again tensorflow `Variables` which makes then persistent across runs, and allows them to be updated incrementally for each batch.\n",
    "* At each run, we slide the \"batch window\" by `truncated_backprop_length` steps to the right"
   ]
  },
  {
   "cell_type": "code",
   "execution_count": 3,
   "metadata": {},
   "outputs": [],
   "source": [
    "batchX_placeholder = tf.placeholder(tf.float32, [batch_size, truncated_backprop_length])\n",
    "batchY_placeholder = tf.placeholder(tf.int32, [batch_size, truncated_backprop_length])\n",
    "\n",
    "init_state = tf.placeholder(tf.float32, [batch_size, state_size])\n",
    "\n",
    "W = tf.Variable(np.random.rand(state_size+1, state_size), dtype=tf.float32)\n",
    "b = tf.Variable(np.zeros((1,state_size)), dtype=tf.float32)\n",
    "\n",
    "W2 = tf.Variable(np.random.rand(state_size, num_classes),dtype=tf.float32)\n",
    "b2 = tf.Variable(np.zeros((1,num_classes)), dtype=tf.float32)"
   ]
  },
  {
   "cell_type": "markdown",
   "metadata": {},
   "source": [
    "* We want to split the batch data into adjacent time-steps\n",
    "* We do this by unstacking the columns (`axis=1`) into a Python list\n",
    "* This will allow the RNN to simultaneously train on different parts of the time series.\n",
    "* Note that we are using the convention `VARIABLENAME_series` to emphasize that the variable is a list representing a timeseries with multiple samples at each step.\n",
    "* Because training is being done simultaneously on `batch_size` different places in our time-series, this requires us to save `batch_size` number of instances of RNN states when propagating forward. \n",
    "* You can see that we are accounting for this as the `init_state` placeholder has `batch_size` number of rows."
   ]
  },
  {
   "cell_type": "code",
   "execution_count": 4,
   "metadata": {},
   "outputs": [],
   "source": [
    "# Unstack columns\n",
    "inputs_series = tf.split(batchX_placeholder, truncated_backprop_length, axis=1)\n",
    "labels_series = tf.unstack(batchY_placeholder, axis=1)"
   ]
  },
  {
   "cell_type": "markdown",
   "metadata": {},
   "source": [
    "### Forward Pass\n",
    "* Notice in the `tf.concat` operation we use to create `input_and_state_concatenated`, what we actually want to do is calculate the sum of two affine transformations:\n",
    "    * `current_input * Wa` and\n",
    "    * `current_state * Wb\n",
    "* By combining these two resulting tensors, this allows us to use only one matrix multiplication. \n",
    "* Then the bias `b` is broadcast on all samples in the batch\n",
    "<img src='../pics/RNN_no_frills_forward_pass.png'>"
   ]
  },
  {
   "cell_type": "code",
   "execution_count": 5,
   "metadata": {},
   "outputs": [],
   "source": [
    "current_state = init_state\n",
    "states_series = []\n",
    "for current_input in inputs_series:\n",
    "    current_input = tf.reshape(current_input, [batch_size, 1])\n",
    "    input_and_state_concatenated = tf.concat([current_input, current_state],axis=1)  # Increasing number of columns\n",
    "\n",
    "    next_state = tf.tanh(tf.matmul(input_and_state_concatenated, W) + b)  # Broadcasted addition\n",
    "    states_series.append(next_state)\n",
    "    current_state = next_state"
   ]
  },
  {
   "cell_type": "markdown",
   "metadata": {},
   "source": [
    "#### Side note: Why do we use `tf.tanh()` as our activation function, and not ReLU?\n",
    "* RNNs manage an internal state vector whose values should be able to increase or decrease when we add the output of some function. \n",
    "* The output from tanh can be positive or negative, allowing for increases and decreases in the state."
   ]
  },
  {
   "cell_type": "markdown",
   "metadata": {},
   "source": [
    "### Calculating loss\n",
    "* This is the final part of the graph: a fully connected softmax layer from the state to the output that will make the classes one-hot encoded. \n",
    "* We then calculate the loss of the batch.\n",
    "* `sparse_softmax_cross_entropy_with_logits` automatically calculates the softmax internaly and then computes the cross-entropy. \n",
    "* In this example, our classes are mutually exclusive (they are either `0` or `1`), thus we use **sparse** softmax.\n",
    "* The logits should be of shape `[batchsize, num_classes]` and the labels of shape `[batch_size]`."
   ]
  },
  {
   "cell_type": "code",
   "execution_count": 6,
   "metadata": {},
   "outputs": [],
   "source": [
    "logits_series = [tf.matmul(state, W2) + b2 for state in states_series] #Broadcasted addition\n",
    "predictions_series = [tf.nn.softmax(logits) for logits in logits_series]\n",
    "\n",
    "losses = [tf.nn.sparse_softmax_cross_entropy_with_logits(logits=logits, labels=labels) for logits, labels in zip(logits_series,labels_series)]\n",
    "total_loss = tf.reduce_mean(losses)\n",
    "\n",
    "train_step = tf.train.AdagradOptimizer(0.3).minimize(total_loss)"
   ]
  },
  {
   "cell_type": "markdown",
   "metadata": {},
   "source": [
    "#### Side note: What is `truncated_backprop_length` ???\n",
    "* When a RNN is trained, it is actually treated as a deep neural network with reoccurring weights in every layer. \n",
    "* These layers will not be unrolled to the beginning of time as that would be too computationally expensive.\n",
    "* Therefore, the layers are truncated at a limited number of time-steps. In the diagram above, the error is backpropagated three steps in our batch."
   ]
  },
  {
   "cell_type": "markdown",
   "metadata": {},
   "source": [
    "### Saving"
   ]
  },
  {
   "cell_type": "code",
   "execution_count": 7,
   "metadata": {},
   "outputs": [],
   "source": [
    "saver = tf.train.Saver()\n",
    "save_dir = 'logs/RNN_checkpoints'\n",
    "if not os.path.exists(save_dir):\n",
    "    os.makedirs(save_dir)\n",
    "save_path = os.path.join(save_dir, 'best_validation')"
   ]
  },
  {
   "cell_type": "markdown",
   "metadata": {},
   "source": [
    "### Visualization"
   ]
  },
  {
   "cell_type": "code",
   "execution_count": 8,
   "metadata": {},
   "outputs": [],
   "source": [
    "def plot_results(loss_list, predictions_series, batchX, batchY,dynamic=False):\n",
    "    plt.subplot(2, 3, 1)\n",
    "    if dynamic:\n",
    "        plt.gca()\n",
    "    plt.cla()\n",
    "    plt.plot(loss_list)\n",
    "\n",
    "    for batch_series_idx in range(5):\n",
    "        one_hot_output_series = np.array(predictions_series)[:, batch_series_idx, :]\n",
    "        single_output_series = np.array([(1 if out[0] < 0.5 else 0) for out in one_hot_output_series])\n",
    "\n",
    "        plt.subplot(2, 3, batch_series_idx + 2)\n",
    "        plt.cla()\n",
    "        plt.axis([0, truncated_backprop_length, 0, 2])\n",
    "        left_offset = range(truncated_backprop_length)\n",
    "        plt.bar(left_offset, batchX[batch_series_idx, :], width=1, color=\"blue\")\n",
    "        plt.bar(left_offset, batchY[batch_series_idx, :] * 0.5, width=1, color=\"red\")\n",
    "        plt.bar(left_offset, single_output_series * 0.3, width=1, color=\"green\")\n",
    "\n",
    "    plt.draw()\n",
    "    if dynamic:\n",
    "        display.clear_output(wait=True)\n",
    "        display.display(plt.gcf())\n",
    "        plt.pause(0.0001)"
   ]
  },
  {
   "cell_type": "code",
   "execution_count": 9,
   "metadata": {},
   "outputs": [
    {
     "data": {
      "text/plain": [
       "<Figure size 432x288 with 0 Axes>"
      ]
     },
     "metadata": {},
     "output_type": "display_data"
    },
    {
     "name": "stdout",
     "output_type": "stream",
     "text": [
      "New data, epoch 0\n",
      "Step 0 Loss 0.7992387\n",
      "Step 300 Loss 0.011274788\n",
      "Step 600 Loss 0.0027383005\n",
      "New data, epoch 1\n",
      "Step 0 Loss 0.16353023\n",
      "Step 300 Loss 0.0018222545\n",
      "Step 600 Loss 0.0012336114\n",
      "New data, epoch 2\n",
      "Step 0 Loss 0.28251594\n",
      "Step 300 Loss 0.0010317633\n",
      "Step 600 Loss 0.00079707283\n",
      "New data, epoch 3\n",
      "Step 0 Loss 0.16407555\n",
      "Step 300 Loss 0.0011717652\n",
      "Step 600 Loss 0.0009700803\n",
      "New data, epoch 4\n",
      "Step 0 Loss 0.1863494\n",
      "Step 300 Loss 0.0007709158\n",
      "Step 600 Loss 0.0007366294\n"
     ]
    }
   ],
   "source": [
    "dynamic_plotting = False\n",
    "\n",
    "with tf.Session() as sess:\n",
    "    sess.run(tf.global_variables_initializer())\n",
    "    plt.ion()\n",
    "    plt.figure()\n",
    "    plt.show()\n",
    "    loss_list = []\n",
    "\n",
    "    for epoch_idx in range(num_epochs):\n",
    "        x,y = generateData()\n",
    "        _current_state = np.zeros((batch_size, state_size))\n",
    "\n",
    "        print(\"New data, epoch\", epoch_idx)\n",
    "\n",
    "        for batch_idx in range(num_batches):\n",
    "            start_idx = batch_idx * truncated_backprop_length\n",
    "            end_idx = start_idx + truncated_backprop_length\n",
    "\n",
    "            batchX = x[:,start_idx:end_idx]\n",
    "            batchY = y[:,start_idx:end_idx]\n",
    "\n",
    "            _total_loss, _train_step, _current_state, _predictions_series = sess.run(\n",
    "                [total_loss, train_step, current_state, predictions_series],\n",
    "                feed_dict={\n",
    "                    batchX_placeholder:batchX,\n",
    "                    batchY_placeholder:batchY,\n",
    "                    init_state:_current_state\n",
    "                })\n",
    "\n",
    "            loss_list.append(_total_loss)\n",
    "\n",
    "            if batch_idx%300 == 0:\n",
    "                if dynamic_plotting:\n",
    "                    plot_results(loss_list, _predictions_series, batchX, batchY,dynamic=True)\n",
    "                    print(\"Step\",batch_idx, \"Loss\", _total_loss)    \n",
    "                    print(\"Step\",batch_idx, \"Loss\", _total_loss)\n",
    "                    print(\"Step\",batch_idx, \"Loss\", _total_loss)\n",
    "                    print(\"Step\",batch_idx, \"Loss\", _total_loss)\n",
    "                else:\n",
    "                    print(\"Step\",batch_idx, \"Loss\", _total_loss)"
   ]
  },
  {
   "cell_type": "code",
   "execution_count": 10,
   "metadata": {},
   "outputs": [
    {
     "data": {
      "image/png": "[encoded data removed]",
      "text/plain": [
       "<Figure size 432x288 with 6 Axes>"
      ]
     },
     "metadata": {},
     "output_type": "display_data"
    },
    {
     "data": {
      "image/png": "[encoded data removed]",
      "text/plain": [
       "<Figure size 432x288 with 6 Axes>"
      ]
     },
     "metadata": {},
     "output_type": "display_data"
    }
   ],
   "source": [
    "if not dynamic_plotting:\n",
    "    plot_results(loss_list, _predictions_series, batchX, batchY,dynamic=True)"
   ]
  }
 ],
 "metadata": {
  "kernelspec": {
   "display_name": "Python 3",
   "language": "python",
   "name": "python3"
  },
  "language_info": {
   "codemirror_mode": {
    "name": "ipython",
    "version": 3
   },
   "file_extension": ".py",
   "mimetype": "text/x-python",
   "name": "python",
   "nbconvert_exporter": "python",
   "pygments_lexer": "ipython3",
   "version": "3.5.2"
  }
 },
 "nbformat": 4,
 "nbformat_minor": 2
}
