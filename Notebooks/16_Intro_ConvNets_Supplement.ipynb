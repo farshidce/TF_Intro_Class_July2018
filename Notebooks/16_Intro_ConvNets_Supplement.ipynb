{
 "cells": [
  {
   "cell_type": "markdown",
   "metadata": {},
   "source": [
    "# Convolutional Neural Networks\n",
    "\n",
    "\n",
    "## Basic Basic CNN Architecture Schema\n",
    "\n",
    "<img src='../pics/cnn-architecture.png'>\n",
    "\n",
    "\n",
    "## Fully-connected layer = familiar neural network\n",
    "\n",
    "<img src='../pics/feedforward.jpeg'>\n",
    "\n",
    "## Convolutional Layers\n",
    "\n",
    "<img src='../pics/convolution_00.jpeg'>\n",
    "\n",
    "<img src='../pics/convolution_01.jpeg'>\n",
    "\n",
    "### Kernel, height/width=3, stride=2\n",
    "\n",
    "<img src='../pics/kernel1.png'>\n",
    "\n",
    "<img src='../pics/kernel2.png'>\n",
    "\n",
    "## Pooling\n",
    "\n",
    "<img src='../pics/pool.jpeg'>\n",
    "\n",
    "### Average Pooling\n",
    "\n",
    "<img src='../pics/avg-pool.png'>\n",
    "\n",
    "### Max Pooling\n",
    "\n",
    "<img src='../pics/max-pooling.png'>\n",
    "\n",
    "### Pooling as a down-sampling computation\n",
    "<img src='../pics/maxpool.jpeg'>"
   ]
  },
  {
   "cell_type": "code",
   "execution_count": null,
   "metadata": {
    "collapsed": true
   },
   "outputs": [],
   "source": []
  }
 ],
 "metadata": {
  "kernelspec": {
   "display_name": "Python 3",
   "language": "python",
   "name": "python3"
  },
  "language_info": {
   "codemirror_mode": {
    "name": "ipython",
    "version": 3
   },
   "file_extension": ".py",
   "mimetype": "text/x-python",
   "name": "python",
   "nbconvert_exporter": "python",
   "pygments_lexer": "ipython3",
   "version": "3.5.2"
  }
 },
 "nbformat": 4,
 "nbformat_minor": 1
}
