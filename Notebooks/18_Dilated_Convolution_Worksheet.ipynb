{
 "cells": [
  {
   "cell_type": "markdown",
   "metadata": {},
   "source": [
    "#### Dilated Convolutions\n",
    "\n",
    "* Dilated convolutions introduce another parameter to convolutional layers called the **dilation rate**. \n",
    "* This defines a spacing between the values in a kernel. \n",
    "* A 3x3 kernel with a dilation rate of 2 will have the same field of view as a 5x5 kernel, while only using 9 parameters. \n",
    "* Imagine taking a 5x5 kernel and deleting every second column and row.\n",
    "* This delivers a wider field of view at the same computational cost. \n",
    "* Dilated convolutions are particularly popular in the field of real-time segmentation. \n",
    "* Use them if you need a wide field of view and cannot afford multiple convolutions or larger kernels (due to computational costs)."
   ]
  },
  {
   "cell_type": "markdown",
   "metadata": {},
   "source": [
    "#### Example: A dilated convolution with a dilation rate of 2 and no padding\n",
    "<img src = '../pics/dilatedconv3x3rate2nopad.gif'>"
   ]
  },
  {
   "cell_type": "markdown",
   "metadata": {},
   "source": [
    "### Formal Definitions\n",
    "* Let $\\mathit{F} : \\mathbb{Z}^2 \\rightarrow \\mathbb{R}$ be a discrete function.\n",
    "* Let $\\Omega _r = [-r,r]^2 \\cap\\mathbb{Z}^2$ and let $\\mathit{k} : \\Omega_r \\rightarrow \\mathbb{R}$ be a discrete filter of size $(2r + 1)^2$. The discrete convolution operator $\\ast$ can be defined as:\n",
    "$$$$\n",
    "$$(\\mathit{F}\\ast\\mathit{k})(\\mathit{p}) = \\sum_{s+t=p}\\mathit{F(s)k(t)}$$\n",
    "$$$$\n",
    "* We now generalize this operator. Let $\\mathit{l}$ be a dilation factor and let $\\ast_{\\mathit{l}}$ be defined as:\n",
    "$$(\\mathit{F}\\ast_{\\mathit{l}}\\mathit{k})(\\mathit{p}) = \\sum_{s+\\mathit{l}t=p}\\mathit{F(s)k(t)}$$\n",
    "$$$$\n",
    "* We will refer to $\\ast_{\\mathit{l}}$ as a dilated convolution or an $\\mathit{l}$-dilated convolution. \n",
    "* The familiar discrete convolution $\\ast$ is simply the 1-dilated convolution."
   ]
  },
  {
   "cell_type": "markdown",
   "metadata": {},
   "source": [
    "<img src='../pics/dilated_conv_124.png'>"
   ]
  },
  {
   "cell_type": "markdown",
   "metadata": {},
   "source": [
    "#### What are dilation factors? Basically, the amount of space between kernel elements.\n",
    "* Blue numbers in the image below represent the dilation factors applied to the Kernel\n",
    "<img src='..\\pics\\dilation_factor.png'>"
   ]
  },
  {
   "cell_type": "markdown",
   "metadata": {},
   "source": [
    "### Doing dilated convolution in TensorFlow\n",
    "#### $\\cdot$ Either set dilation in `tf.nn.conv2d()` or use `tf.nn.atrous_conv2d()`"
   ]
  },
  {
   "cell_type": "code",
   "execution_count": 9,
   "metadata": {},
   "outputs": [],
   "source": [
    "import tensorflow as tf\n",
    "import numpy as np,sys\n",
    "from  scipy.signal import convolve2d\n",
    "\n",
    "np.random.seed(678)\n",
    "tf.set_random_seed(6789)\n",
    "sess = tf.Session()"
   ]
  },
  {
   "cell_type": "markdown",
   "metadata": {},
   "source": [
    "### Create a matrix to perform our experiments on"
   ]
  },
  {
   "cell_type": "code",
   "execution_count": 10,
   "metadata": {},
   "outputs": [],
   "source": [
    "mat_size = 10\n",
    "matrix = np.zeros((mat_size,mat_size)).astype(np.float32) \n",
    "\n",
    "for x in range(4,7):\n",
    "    for y in range(3,6):\n",
    "        matrix[y,x] = 1"
   ]
  },
  {
   "cell_type": "markdown",
   "metadata": {},
   "source": [
    "### Create a Kernel "
   ]
  },
  {
   "cell_type": "code",
   "execution_count": 11,
   "metadata": {},
   "outputs": [],
   "source": [
    "kernel = np.array([\n",
    "    [1,2,3],\n",
    "    [4,5,6],\n",
    "    [7,8,9]\n",
    "]).astype(np.float32) "
   ]
  },
  {
   "cell_type": "markdown",
   "metadata": {},
   "source": [
    "### ====== Original Set Up ======"
   ]
  },
  {
   "cell_type": "code",
   "execution_count": 12,
   "metadata": {},
   "outputs": [
    {
     "name": "stdout",
     "output_type": "stream",
     "text": [
      "====== Original Set Up ======\n",
      "Matrix Shape :  (10, 10)\n",
      "[[0. 0. 0. 0. 0. 0. 0. 0. 0. 0.]\n",
      " [0. 0. 0. 0. 0. 0. 0. 0. 0. 0.]\n",
      " [0. 0. 0. 0. 0. 0. 0. 0. 0. 0.]\n",
      " [0. 0. 0. 0. 1. 1. 1. 0. 0. 0.]\n",
      " [0. 0. 0. 0. 1. 1. 1. 0. 0. 0.]\n",
      " [0. 0. 0. 0. 1. 1. 1. 0. 0. 0.]\n",
      " [0. 0. 0. 0. 0. 0. 0. 0. 0. 0.]\n",
      " [0. 0. 0. 0. 0. 0. 0. 0. 0. 0.]\n",
      " [0. 0. 0. 0. 0. 0. 0. 0. 0. 0.]\n",
      " [0. 0. 0. 0. 0. 0. 0. 0. 0. 0.]]\n",
      "\n",
      "kernel Shape :  (3, 3)\n",
      "[[1. 2. 3.]\n",
      " [4. 5. 6.]\n",
      " [7. 8. 9.]]\n"
     ]
    }
   ],
   "source": [
    "print(\"Matrix Shape : \",matrix.shape)\n",
    "print(matrix)\n",
    "print()\n",
    "print(\"kernel Shape : \",kernel.shape)\n",
    "print(kernel)"
   ]
  },
  {
   "cell_type": "markdown",
   "metadata": {},
   "source": [
    "### ========== EXAMPLE 1 - Dilation Factor 1 ===========\n",
    "* This is what we think of as a \"normal\" convolution"
   ]
  },
  {
   "cell_type": "code",
   "execution_count": 13,
   "metadata": {},
   "outputs": [
    {
     "name": "stdout",
     "output_type": "stream",
     "text": [
      "\n",
      "====== Dilated Kernel 1 ======\n",
      "Kernal For \"Familiar\" Convolution for Numpy: \n",
      " [[1. 2. 3.]\n",
      " [4. 5. 6.]\n",
      " [7. 8. 9.]]\n",
      "\n",
      "========== Numpy 'familiar' Convolution Results ===============\n",
      "Numpy Results Shape:  (8, 8)\n",
      "[[ 0.  0.  0.  0.  0.  0.  0.  0.]\n",
      " [ 0.  0.  1.  3.  6.  5.  3.  0.]\n",
      " [ 0.  0.  5. 12. 21. 16.  9.  0.]\n",
      " [ 0.  0. 12. 27. 45. 33. 18.  0.]\n",
      " [ 0.  0. 11. 24. 39. 28. 15.  0.]\n",
      " [ 0.  0.  7. 15. 24. 17.  9.  0.]\n",
      " [ 0.  0.  0.  0.  0.  0.  0.  0.]\n",
      " [ 0.  0.  0.  0.  0.  0.  0.  0.]]\n",
      "\n",
      "========== Tensorfow Conv2D Results ===============\n",
      "\n",
      "Tensorfow Conv2D Results Shape:  (1, 8, 8, 1)\n",
      "[[ 0.  0.  0.  0.  0.  0.  0.  0.]\n",
      " [ 0.  0.  1.  3.  6.  5.  3.  0.]\n",
      " [ 0.  0.  5. 12. 21. 16.  9.  0.]\n",
      " [ 0.  0. 12. 27. 45. 33. 18.  0.]\n",
      " [ 0.  0. 11. 24. 39. 28. 15.  0.]\n",
      " [ 0.  0.  7. 15. 24. 17.  9.  0.]\n",
      " [ 0.  0.  0.  0.  0.  0.  0.  0.]\n",
      " [ 0.  0.  0.  0.  0.  0.  0.  0.]]\n"
     ]
    }
   ],
   "source": [
    "print(\"\\n====== Dilated Kernel 1 ======\")\n",
    "print('Kernal For \"Familiar\" Convolution for Numpy: \\n',kernel)\n",
    "print()\n",
    "print(\"========== Numpy 'familiar' Convolution Results ===============\")\n",
    "np_results = convolve2d(matrix,kernel,mode='valid')\n",
    "print(\"Numpy Results Shape: \",np_results.shape)\n",
    "print(np_results)\n",
    "\n",
    "print()\n",
    "print(\"========== Tensorfow Conv2D Results ===============\")\n",
    "tf_operation1_1 = tf.nn.conv2d(np.expand_dims(np.expand_dims(matrix,axis=0),axis=3),\n",
    "                            np.expand_dims(np.expand_dims(np.rot90(kernel,2),axis=2),axis=3),\n",
    "                            strides=[1,1,1,1],padding=\"VALID\",\n",
    "                            dilations=[1,1,1,1])\n",
    "\n",
    "tf_result = sess.run(tf_operation1_1)\n",
    "\n",
    "print()\n",
    "print(\"Tensorfow Conv2D Results Shape: \",tf_result.shape)\n",
    "print(np.squeeze(tf_result))"
   ]
  },
  {
   "cell_type": "markdown",
   "metadata": {},
   "source": [
    "### ========== Tensorfow Atrous Conv2D Results ===============\n",
    "* \"Atrous convolution\" = a convolution with holes, or a dilated convolution"
   ]
  },
  {
   "cell_type": "code",
   "execution_count": 14,
   "metadata": {},
   "outputs": [
    {
     "name": "stdout",
     "output_type": "stream",
     "text": [
      "Tensorfow Atrous Results Shape:  (1, 8, 8, 1)\n",
      "[[ 0.  0.  0.  0.  0.  0.  0.  0.]\n",
      " [ 0.  0.  1.  3.  6.  5.  3.  0.]\n",
      " [ 0.  0.  5. 12. 21. 16.  9.  0.]\n",
      " [ 0.  0. 12. 27. 45. 33. 18.  0.]\n",
      " [ 0.  0. 11. 24. 39. 28. 15.  0.]\n",
      " [ 0.  0.  7. 15. 24. 17.  9.  0.]\n",
      " [ 0.  0.  0.  0.  0.  0.  0.  0.]\n",
      " [ 0.  0.  0.  0.  0.  0.  0.  0.]]\n"
     ]
    }
   ],
   "source": [
    "tf_operation1_2 = tf.nn.atrous_conv2d(np.expand_dims(np.expand_dims(matrix,axis=0),axis=3),\n",
    "                                    np.expand_dims(np.expand_dims(np.rot90(kernel,2),axis=2),axis=3),\n",
    "                                    rate=1,padding=\"VALID\")\n",
    "tf_result = sess.run(tf_operation1_2)\n",
    "print(\"Tensorfow Atrous Results Shape: \",tf_result.shape)\n",
    "print(np.squeeze(tf_result))"
   ]
  },
  {
   "cell_type": "markdown",
   "metadata": {},
   "source": [
    "### ========== EXAMPLE 2 - Dilation Factor 2 ===========\n",
    "* Notice that now, while the TensorFlow operations continue to use the original 3x3 kernel as we change the dilation factor\n",
    "* However, in Numpy we are manually adjusting the kernel to reflect the dilation, but using the same `convolve2d()` numpy function."
   ]
  },
  {
   "cell_type": "code",
   "execution_count": 21,
   "metadata": {},
   "outputs": [
    {
     "name": "stdout",
     "output_type": "stream",
     "text": [
      "\n",
      "====== Dilated Kernel For Dilation Factor 2 ======\n",
      "[[1 0 2 0 3]\n",
      " [0 0 0 0 0]\n",
      " [4 0 5 0 6]\n",
      " [0 0 0 0 0]\n",
      " [7 0 8 0 9]]\n",
      "\n",
      "========== Numpy 'familiar' Convolution Results ===============\n",
      "Numpy Results Shape:  (6, 6)\n",
      "[[ 1.  1.  3.  2.  5.  3.]\n",
      " [ 5.  5. 12.  7. 16.  9.]\n",
      " [ 4.  4.  9.  5. 11.  6.]\n",
      " [11. 11. 24. 13. 28. 15.]\n",
      " [ 7.  7. 15.  8. 17.  9.]\n",
      " [ 7.  7. 15.  8. 17.  9.]]\n",
      "\n",
      "========== Tensorfow Conv2D Results ===============\n",
      "Tensorfow Conv2D Results Shape:  (1, 6, 6, 1)\n",
      "[[ 1.  1.  3.  2.  5.  3.]\n",
      " [ 5.  5. 12.  7. 16.  9.]\n",
      " [ 4.  4.  9.  5. 11.  6.]\n",
      " [11. 11. 24. 13. 28. 15.]\n",
      " [ 7.  7. 15.  8. 17.  9.]\n",
      " [ 7.  7. 15.  8. 17.  9.]]\n",
      "\n",
      "========== Tensorfow Atrous Conv2D Results ===============\n",
      "Tensorfow Atrous Results Shape:  (1, 6, 6, 1)\n",
      "[[ 1.  1.  3.  2.  5.  3.]\n",
      " [ 5.  5. 12.  7. 16.  9.]\n",
      " [ 4.  4.  9.  5. 11.  6.]\n",
      " [11. 11. 24. 13. 28. 15.]\n",
      " [ 7.  7. 15.  8. 17.  9.]\n",
      " [ 7.  7. 15.  8. 17.  9.]]\n"
     ]
    }
   ],
   "source": [
    "print(\"\\n====== Dilated Kernel For Dilation Factor 2 ======\")\n",
    "kernel_dilation2 = np.array([\n",
    "    [1,0,2,0,3],\n",
    "    [0,0,0,0,0],\n",
    "    [4,0,5,0,6],\n",
    "    [0,0,0,0,0],\n",
    "    [7,0,8,0,9]\n",
    "])\n",
    "print(kernel_dilation2)\n",
    "\n",
    "print()\n",
    "print(\"========== Numpy 'familiar' Convolution Results ===============\")\n",
    "np_results = convolve2d(matrix,kernel_dilation2,mode='valid')\n",
    "print(\"Numpy Results Shape: \",np_results.shape)\n",
    "print(np_results)\n",
    "\n",
    "print()\n",
    "print(\"========== Tensorfow Conv2D Results ===============\")\n",
    "tf_operation2_1 = tf.nn.conv2d(np.expand_dims(np.expand_dims(matrix,axis=0),axis=3),\n",
    "                            np.expand_dims(np.expand_dims(np.rot90(kernel,2),axis=2),axis=3),\n",
    "                            strides=[1,1,1,1],padding=\"VALID\",\n",
    "                            dilations=[1,2,2,1])\n",
    "tf_result = sess.run(tf_operation2_1)\n",
    "print(\"Tensorfow Conv2D Results Shape: \",tf_result.shape)\n",
    "print(np.squeeze(tf_result))\n",
    "\n",
    "print()\n",
    "print(\"========== Tensorfow Atrous Conv2D Results ===============\")\n",
    "tf_operation2_2 = tf.nn.atrous_conv2d(np.expand_dims(np.expand_dims(matrix,axis=0),axis=3),\n",
    "                                    np.expand_dims(np.expand_dims(np.rot90(kernel,2),axis=2),axis=3),\n",
    "                                    rate=2,padding=\"VALID\")\n",
    "tf_result = sess.run(tf_operation2_2)\n",
    "print(\"Tensorfow Atrous Results Shape: \",tf_result.shape)\n",
    "print(np.squeeze(tf_result))"
   ]
  },
  {
   "cell_type": "markdown",
   "metadata": {},
   "source": [
    "### ========== EXAMPLE 3 - Dilation Factor 3 ==========="
   ]
  },
  {
   "cell_type": "code",
   "execution_count": 22,
   "metadata": {},
   "outputs": [
    {
     "name": "stdout",
     "output_type": "stream",
     "text": [
      "\n",
      "====== Dilated Kernel for Dilation Factor 3 ======\n",
      "[[1 0 0 2 0 0 3]\n",
      " [0 0 0 0 0 0 0]\n",
      " [0 0 0 0 0 0 0]\n",
      " [4 0 0 5 0 0 6]\n",
      " [0 0 0 0 0 0 0]\n",
      " [0 0 0 0 0 0 0]\n",
      " [7 0 0 8 0 0 9]]\n",
      "\n",
      "========== Numpy 'familiar' Convolution Results ===============\n",
      "Numpy Results Shape:  (4, 4)\n",
      "[[4. 5. 5. 5.]\n",
      " [4. 5. 5. 5.]\n",
      " [4. 5. 5. 5.]\n",
      " [7. 8. 8. 8.]]\n",
      "\n",
      "========== Tensorfow Conv2D Results ===============\n",
      "Tensorfow Conv2D Results Shape:  (1, 4, 4, 1)\n",
      "[[4. 5. 5. 5.]\n",
      " [4. 5. 5. 5.]\n",
      " [4. 5. 5. 5.]\n",
      " [7. 8. 8. 8.]]\n",
      "\n",
      "========== Tensorfow Atrous Conv2D Results ===============\n",
      "Tensorfow Atrous Results Shape:  (1, 4, 4, 1)\n",
      "[[4. 5. 5. 5.]\n",
      " [4. 5. 5. 5.]\n",
      " [4. 5. 5. 5.]\n",
      " [7. 8. 8. 8.]]\n"
     ]
    }
   ],
   "source": [
    "print(\"\\n====== Dilated Kernel for Dilation Factor 3 ======\")\n",
    "kernel_dilation3 = np.array([\n",
    "    [1,0,0,2,0,0,3],\n",
    "    [0,0,0,0,0,0,0],\n",
    "    [0,0,0,0,0,0,0],\n",
    "    [4,0,0,5,0,0,6],\n",
    "    [0,0,0,0,0,0,0],\n",
    "    [0,0,0,0,0,0,0],\n",
    "    [7,0,0,8,0,0,9]\n",
    "])\n",
    "print(kernel_dilation3)\n",
    "\n",
    "print()\n",
    "print(\"========== Numpy 'familiar' Convolution Results ===============\")\n",
    "np_results = convolve2d(matrix,kernel_dilation3,mode='valid')\n",
    "print(\"Numpy Results Shape: \",np_results.shape)\n",
    "print(np_results)\n",
    "\n",
    "print()\n",
    "print(\"========== Tensorfow Conv2D Results ===============\")\n",
    "tf_operation4_1 = tf.nn.conv2d(np.expand_dims(np.expand_dims(matrix,axis=0),axis=3),\n",
    "                            np.expand_dims(np.expand_dims(np.rot90(kernel,2),axis=2),axis=3),\n",
    "                            strides=[1,1,1,1],padding=\"VALID\",\n",
    "                            dilations=[1,3,3,1])\n",
    "\n",
    "tf_result = sess.run(tf_operation4_1)\n",
    "\n",
    "print(\"Tensorfow Conv2D Results Shape: \",tf_result.shape)\n",
    "print(np.squeeze(tf_result))\n",
    "\n",
    "print()\n",
    "print(\"========== Tensorfow Atrous Conv2D Results ===============\")\n",
    "tf_operation4_2 = tf.nn.atrous_conv2d(np.expand_dims(np.expand_dims(matrix,axis=0),axis=3),\n",
    "                                    np.expand_dims(np.expand_dims(np.rot90(kernel,2),axis=2),axis=3),\n",
    "                                    rate=3,padding=\"VALID\")\n",
    "tf_result = sess.run(tf_operation4_2)\n",
    "print(\"Tensorfow Atrous Results Shape: \",tf_result.shape)\n",
    "print(np.squeeze(tf_result))"
   ]
  },
  {
   "cell_type": "markdown",
   "metadata": {},
   "source": [
    "### ========== EXAMPLE 4 - Dilation Factor 4 ==========="
   ]
  },
  {
   "cell_type": "code",
   "execution_count": 23,
   "metadata": {},
   "outputs": [
    {
     "name": "stdout",
     "output_type": "stream",
     "text": [
      "\n",
      "====== Dilated Kernel for Dilation Factor 4 ======\n",
      "[[1 0 0 0 2 0 0 0 3]\n",
      " [0 0 0 0 0 0 0 0 0]\n",
      " [0 0 0 0 0 0 0 0 0]\n",
      " [0 0 0 0 0 0 0 0 0]\n",
      " [4 0 0 0 5 0 0 0 6]\n",
      " [0 0 0 0 0 0 0 0 0]\n",
      " [0 0 0 0 0 0 0 0 0]\n",
      " [0 0 0 0 0 0 0 0 0]\n",
      " [7 0 0 0 8 0 0 0 9]]\n",
      "\n",
      "========== Numpy 'familiar' Convolution Results ===============\n",
      "Numpy Results Shape:  (2, 2)\n",
      "[[5. 5.]\n",
      " [5. 5.]]\n",
      "\n",
      "========== Tensorfow Conv2D Results ===============\n",
      "Tensorfow Conv2D Results Shape:  (1, 2, 2, 1)\n",
      "[[5. 5.]\n",
      " [5. 5.]]\n",
      "\n",
      "========== Tensorfow Atrous Conv2D Results ===============\n",
      "Tensorfow Atrous Results Shape:  (1, 2, 2, 1)\n",
      "[[5. 5.]\n",
      " [5. 5.]]\n"
     ]
    }
   ],
   "source": [
    "print(\"\\n====== Dilated Kernel for Dilation Factor 4 ======\")\n",
    "kernel_dilation4 = np.array([\n",
    "    [1,0,0,0,2,0,0,0,3],\n",
    "    [0,0,0,0,0,0,0,0,0],\n",
    "    [0,0,0,0,0,0,0,0,0],\n",
    "    [0,0,0,0,0,0,0,0,0],\n",
    "    [4,0,0,0,5,0,0,0,6],\n",
    "    [0,0,0,0,0,0,0,0,0],\n",
    "    [0,0,0,0,0,0,0,0,0],\n",
    "    [0,0,0,0,0,0,0,0,0],\n",
    "    [7,0,0,0,8,0,0,0,9]\n",
    "])\n",
    "print(kernel_dilation4)\n",
    "\n",
    "print()\n",
    "print(\"========== Numpy 'familiar' Convolution Results ===============\")\n",
    "np_results = convolve2d(matrix,kernel_dilation4,mode='valid')\n",
    "print(\"Numpy Results Shape: \",np_results.shape)\n",
    "print(np_results)\n",
    "\n",
    "print()\n",
    "print(\"========== Tensorfow Conv2D Results ===============\")\n",
    "tf_operation4_1 = tf.nn.conv2d(np.expand_dims(np.expand_dims(matrix,axis=0),axis=3),\n",
    "                            np.expand_dims(np.expand_dims(np.rot90(kernel,2),axis=2),axis=3),\n",
    "                            strides=[1,1,1,1],padding=\"VALID\",\n",
    "                            dilations=[1,4,4,1])\n",
    "tf_result = sess.run(tf_operation4_1)\n",
    "print(\"Tensorfow Conv2D Results Shape: \",tf_result.shape)\n",
    "print(np.squeeze(tf_result))\n",
    "\n",
    "print()\n",
    "print(\"========== Tensorfow Atrous Conv2D Results ===============\")\n",
    "tf_operation4_2 = tf.nn.atrous_conv2d(np.expand_dims(np.expand_dims(matrix,axis=0),axis=3),\n",
    "                                    np.expand_dims(np.expand_dims(np.rot90(kernel,2),axis=2),axis=3),\n",
    "                                    rate=4,padding=\"VALID\")\n",
    "tf_result = sess.run(tf_operation4_2)\n",
    "print(\"Tensorfow Atrous Results Shape: \",tf_result.shape)\n",
    "print(np.squeeze(tf_result))"
   ]
  },
  {
   "cell_type": "markdown",
   "metadata": {},
   "source": [
    "### ====== Set Up With Dilation Factor of 4 ======"
   ]
  },
  {
   "cell_type": "code",
   "execution_count": 27,
   "metadata": {},
   "outputs": [
    {
     "name": "stdout",
     "output_type": "stream",
     "text": [
      "Matrix Shape :  (10, 10)\n",
      "[[0. 0. 0. 0. 0. 0. 0. 0. 0. 0.]\n",
      " [0. 0. 0. 0. 0. 0. 0. 0. 0. 0.]\n",
      " [0. 0. 0. 0. 0. 0. 0. 0. 0. 0.]\n",
      " [0. 0. 0. 0. 1. 1. 1. 0. 0. 0.]\n",
      " [0. 0. 0. 0. 1. 1. 1. 0. 0. 0.]\n",
      " [0. 0. 0. 0. 1. 1. 1. 0. 0. 0.]\n",
      " [0. 0. 0. 0. 0. 0. 0. 0. 0. 0.]\n",
      " [0. 0. 0. 0. 0. 0. 0. 0. 0. 0.]\n",
      " [0. 0. 0. 0. 0. 0. 0. 0. 0. 0.]\n",
      " [0. 0. 0. 0. 0. 0. 0. 0. 0. 0.]]\n",
      "\n",
      "kernel Shape :  (9, 9)\n",
      "[[1 0 0 0 2 0 0 0 3]\n",
      " [0 0 0 0 0 0 0 0 0]\n",
      " [0 0 0 0 0 0 0 0 0]\n",
      " [0 0 0 0 0 0 0 0 0]\n",
      " [4 0 0 0 5 0 0 0 6]\n",
      " [0 0 0 0 0 0 0 0 0]\n",
      " [0 0 0 0 0 0 0 0 0]\n",
      " [0 0 0 0 0 0 0 0 0]\n",
      " [7 0 0 0 8 0 0 0 9]]\n"
     ]
    }
   ],
   "source": [
    "print(\"Matrix Shape : \",matrix.shape)\n",
    "print(matrix)\n",
    "print()\n",
    "print(\"kernel Shape : \",kernel_dilation4.shape)\n",
    "print(kernel_dilation4)"
   ]
  },
  {
   "cell_type": "code",
   "execution_count": null,
   "metadata": {},
   "outputs": [],
   "source": []
  },
  {
   "cell_type": "code",
   "execution_count": null,
   "metadata": {},
   "outputs": [],
   "source": []
  }
 ],
 "metadata": {
  "kernelspec": {
   "display_name": "Python 3",
   "language": "python",
   "name": "python3"
  },
  "language_info": {
   "codemirror_mode": {
    "name": "ipython",
    "version": 3
   },
   "file_extension": ".py",
   "mimetype": "text/x-python",
   "name": "python",
   "nbconvert_exporter": "python",
   "pygments_lexer": "ipython3",
   "version": "3.6.5"
  }
 },
 "nbformat": 4,
 "nbformat_minor": 2
}
