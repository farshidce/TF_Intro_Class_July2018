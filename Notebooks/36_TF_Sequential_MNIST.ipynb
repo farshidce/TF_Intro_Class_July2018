{
 "cells": [
  {
   "cell_type": "markdown",
   "metadata": {
    "colab_type": "text",
    "id": "3BOMRnzSa7rk"
   },
   "source": [
    "# Sequential MNIST using RNNs"
   ]
  },
  {
   "cell_type": "markdown",
   "metadata": {
    "colab_type": "text",
    "id": "yNP2vmzaa7rm"
   },
   "source": [
    "* To classify images using an **RNN**, we consider **every image row** as a **sequence of pixels**. \n",
    "* Because MNIST image shape is 28*28px, we will then handle **28 sequences of 28 timesteps** for every sample."
   ]
  },
  {
   "cell_type": "markdown",
   "metadata": {
    "colab_type": "text",
    "id": "avKi_M3hdW7G"
   },
   "source": [
    "## System Information"
   ]
  },
  {
   "cell_type": "code",
   "execution_count": 1,
   "metadata": {
    "colab": {
     "autoexec": {
      "startup": false,
      "wait_interval": 0
     },
     "base_uri": "https://localhost:8080/",
     "height": 156
    },
    "colab_type": "code",
    "executionInfo": {
     "elapsed": 9542,
     "status": "ok",
     "timestamp": 1522578794644,
     "user": {
      "displayName": "CeShine Lee",
      "photoUrl": "//lh6.googleusercontent.com/-TKaCzeGtBXw/AAAAAAAAAAI/AAAAAAAAYB4/FhqIeNDBAlM/s50-c-k-no/photo.jpg",
      "userId": "114938319508229761672"
     },
     "user_tz": -480
    },
    "id": "A-fpqklBefZy",
    "outputId": "c04ded85-334d-4e69-b64d-3c977f050e13"
   },
   "outputs": [],
   "source": [
    "from pathlib import Path\n",
    "import random \n",
    "from datetime import datetime\n",
    "\n",
    "import tensorflow as tf\n",
    "from tensorflow.contrib import rnn\n",
    "import numpy as np\n",
    "import data"
   ]
  },
  {
   "cell_type": "markdown",
   "metadata": {},
   "source": [
    "### Load Data"
   ]
  },
  {
   "cell_type": "markdown",
   "metadata": {},
   "source": [
    "#### Step 1: Read in data"
   ]
  },
  {
   "cell_type": "code",
   "execution_count": 2,
   "metadata": {},
   "outputs": [
    {
     "name": "stdout",
     "output_type": "stream",
     "text": [
      "../data/mnist/train-images-idx3-ubyte.gz already exists\n",
      "../data/mnist/train-labels-idx1-ubyte.gz already exists\n",
      "../data/mnist/t10k-images-idx3-ubyte.gz already exists\n",
      "../data/mnist/t10k-labels-idx1-ubyte.gz already exists\n"
     ]
    }
   ],
   "source": [
    "batch_size=64\n",
    "mnist_folder = '../data/mnist'\n",
    "data.download_mnist(mnist_folder)\n",
    "train, val, test = data.read_mnist(mnist_folder, flatten=False)\n",
    "\n",
    "# Add validatation set into training as we don't need it for this example\n",
    "new_train_images = np.concatenate([train[0],val[0]],axis=0)\n",
    "new_train_labels = np.concatenate([train[1],val[1]],axis=0)\n",
    "train = (new_train_images,new_train_labels)\n",
    "del val\n",
    "\n",
    "# reshape\n",
    "train = (train[0].reshape(-1,784),train[1])\n",
    "test = (test[0].reshape(-1,784),test[1])"
   ]
  },
  {
   "cell_type": "code",
   "execution_count": 3,
   "metadata": {},
   "outputs": [
    {
     "name": "stdout",
     "output_type": "stream",
     "text": [
      "Shape of:\n",
      "- Training-set:\t\t(60000, 784)\n",
      "- Test-set:\t\t(10000, 784)\n",
      "- Training-labels:\t\t(60000, 10)\n",
      "- Test-set-labels:\t\t(10000, 10)\n"
     ]
    }
   ],
   "source": [
    "print(\"Shape of:\")\n",
    "print(\"- Training-set:\\t\\t{}\".format(train[0].shape))\n",
    "print(\"- Test-set:\\t\\t{}\".format(test[0].shape))\n",
    "print(\"- Training-labels:\\t\\t{}\".format(train[1].shape))\n",
    "print(\"- Test-set-labels:\\t\\t{}\".format(test[1].shape))"
   ]
  },
  {
   "cell_type": "markdown",
   "metadata": {},
   "source": [
    "### Create Batch Iterators"
   ]
  },
  {
   "cell_type": "code",
   "execution_count": 4,
   "metadata": {},
   "outputs": [],
   "source": [
    "def batch(iterable, batch_size=1):\n",
    "    num_samples = len(iterable)\n",
    "    for index in range(0, num_samples, batch_size):\n",
    "        yield iterable[index:min(index + batch_size, num_samples)]        \n",
    "\n",
    "def batch_sequences(iterable, batch_size=1,timesteps=28,num_input=28):\n",
    "    num_samples = len(iterable)\n",
    "    for index in range(0, num_samples, batch_size):\n",
    "        batch = iterable[index:min(index + batch_size, num_samples)]\n",
    "        # Reshape data to get 28 sequences of 28 elements\n",
    "        yield batch.reshape((-1, timesteps, num_input))"
   ]
  },
  {
   "cell_type": "code",
   "execution_count": 5,
   "metadata": {},
   "outputs": [],
   "source": [
    "# for x in batch(test[0][:10], 3):\n",
    "#     print(x.shape)\n",
    "\n",
    "# print()\n",
    "    \n",
    "# for x in batch_sequences(test[0][:10], 3):\n",
    "#     print(x.shape)\n",
    "    \n",
    "# print()\n",
    "    \n",
    "# for x in batch(test[1][:10], 3):\n",
    "#     print(x.shape)"
   ]
  },
  {
   "cell_type": "markdown",
   "metadata": {},
   "source": [
    "#### Create our iterators\n",
    "* Actually, as you'll see in the training loop, we're going to manually re-initialize them every epoch.\n",
    "* This is meant to be illustrative only. For best performance, use the dataset API."
   ]
  },
  {
   "cell_type": "code",
   "execution_count": 6,
   "metadata": {},
   "outputs": [],
   "source": [
    "batch_x = batch_sequences(train[0],batch_size=batch_size)\n",
    "batch_y = batch(train[1],batch_size=batch_size)"
   ]
  },
  {
   "cell_type": "code",
   "execution_count": 7,
   "metadata": {},
   "outputs": [],
   "source": [
    "#print(next(batch_x).shape, next(batch_y).shape)"
   ]
  },
  {
   "cell_type": "markdown",
   "metadata": {},
   "source": [
    "### Overview\n",
    "Every example from the MNIST dataset is a 28x28 image. We will apply an RNN two ways:\n",
    "* **Row-by-row:** The RNN cells are seeing the ith row of the image in the ith step, that is, a vector of size 28. The total number of time steps is 28.\n",
    "* **Pixel-by-pixel:** The RNN cells are seeing the ith pixel (a single number, row-first order) in the ith step. The total number of time steps is 28*28 = 784.\n",
    "* The pixel-by-pixel case is a lot harder because a decent model has to keep a very long-term memory.\n",
    "\n",
    "We’re going to build four models (two models for each case):\n",
    "* First we use a BasicLSTMCell class to build the LSTM layer.\n",
    "* Then refactor the first model by replacing BasicLSTMCell with LSTMBlockCell, and add some scaffoldding that should help us debug and tune the model later.\n",
    "* We can further increase the speed of the LSTM layer by using CudnnGRU instead (only for GPU so using GRUCell as example instead), as running long sequences from the pixel-by-pixel approach will drag down performance significantly. Tensorboard support is also added.\n",
    "* Finally we use the exact same GRU model on permuted sequential MNIST data, which shuffles the order of the pixels and makes the problem even harder."
   ]
  },
  {
   "cell_type": "markdown",
   "metadata": {
    "colab_type": "text",
    "id": "CiiU7wPsi7Im"
   },
   "source": [
    "### Basic LSTM Model"
   ]
  },
  {
   "cell_type": "code",
   "execution_count": 8,
   "metadata": {
    "colab": {
     "autoexec": {
      "startup": false,
      "wait_interval": 0
     }
    },
    "colab_type": "code",
    "id": "fCtnM4cdjRPg"
   },
   "outputs": [],
   "source": [
    "# Training Parameters\n",
    "learning_rate = 0.001\n",
    "#training_steps = 10000\n",
    "epochs = 40\n",
    "batch_size = 128\n",
    "display_step = batch_size * 3\n",
    "\n",
    "# Network Parameters\n",
    "num_input = 28 # MNIST data input (img shape: 28*28)\n",
    "timesteps = 28 # timesteps\n",
    "num_hidden = 256 # hidden layer num of features\n",
    "num_classes = 10 # MNIST total classes (0-9 digits)\n",
    "\n",
    "# tf Graph input\n",
    "X = tf.placeholder(\"float\", [None, timesteps, num_input])\n",
    "Y = tf.placeholder(\"float\", [None, num_classes])"
   ]
  },
  {
   "cell_type": "code",
   "execution_count": 9,
   "metadata": {
    "colab": {
     "autoexec": {
      "startup": false,
      "wait_interval": 0
     }
    },
    "colab_type": "code",
    "id": "cr8TEextjVFG"
   },
   "outputs": [],
   "source": [
    "# Define weights\n",
    "weights = {\n",
    "    'out': tf.Variable(tf.random_normal([num_hidden, num_classes]))\n",
    "}\n",
    "biases = {\n",
    "    'out': tf.Variable(tf.random_normal([num_classes]))\n",
    "}"
   ]
  },
  {
   "cell_type": "code",
   "execution_count": 10,
   "metadata": {
    "colab": {
     "autoexec": {
      "startup": false,
      "wait_interval": 0
     }
    },
    "colab_type": "code",
    "id": "BnMayzeIjZ4a"
   },
   "outputs": [],
   "source": [
    "def RNN(x, weights, biases):\n",
    "\n",
    "    # Prepare data shape to match `rnn` function requirements\n",
    "    # Current data input shape: (batch_size, timesteps, n_input)\n",
    "    # Required shape: 'timesteps' tensors list of shape (batch_size, n_input)\n",
    "\n",
    "    # Unstack to get a list of 'timesteps' tensors of shape (batch_size, n_input)\n",
    "    x = tf.unstack(x, timesteps, 1)\n",
    "\n",
    "    # Define a lstm cell with tensorflow\n",
    "    lstm_cell = rnn.BasicLSTMCell(num_hidden, forget_bias=1.0)\n",
    "\n",
    "    # Get lstm cell output\n",
    "    outputs, states = rnn.static_rnn(lstm_cell, x, dtype=tf.float32)\n",
    "\n",
    "    # Linear activation, using rnn inner loop last output\n",
    "    return tf.matmul(outputs[-1], weights['out']) + biases['out']"
   ]
  },
  {
   "cell_type": "code",
   "execution_count": 11,
   "metadata": {
    "colab": {
     "autoexec": {
      "startup": false,
      "wait_interval": 0
     },
     "base_uri": "https://localhost:8080/",
     "height": 176
    },
    "colab_type": "code",
    "executionInfo": {
     "elapsed": 3484,
     "status": "ok",
     "timestamp": 1522578803786,
     "user": {
      "displayName": "CeShine Lee",
      "photoUrl": "//lh6.googleusercontent.com/-TKaCzeGtBXw/AAAAAAAAAAI/AAAAAAAAYB4/FhqIeNDBAlM/s50-c-k-no/photo.jpg",
      "userId": "114938319508229761672"
     },
     "user_tz": -480
    },
    "id": "xSgImScnjaYe",
    "outputId": "e9e3bda9-bb2b-41f3-8254-b08a504f4f87"
   },
   "outputs": [],
   "source": [
    "logits = RNN(X, weights, biases)\n",
    "prediction = tf.nn.softmax(logits)\n",
    "\n",
    "# Define loss and optimizer\n",
    "loss_op = tf.reduce_mean(tf.nn.softmax_cross_entropy_with_logits_v2(\n",
    "    logits=logits, labels=Y))\n",
    "optimizer = tf.train.GradientDescentOptimizer(learning_rate=learning_rate)\n",
    "train_op = optimizer.minimize(loss_op)\n",
    "\n",
    "# Evaluate model (with test logits, for dropout to be disabled)\n",
    "correct_pred = tf.equal(tf.argmax(prediction, 1), tf.argmax(Y, 1))\n",
    "accuracy = tf.reduce_mean(tf.cast(correct_pred, tf.float32))\n",
    "\n",
    "# Initialize the variables (i.e. assign their default value)\n",
    "init = tf.global_variables_initializer()"
   ]
  },
  {
   "cell_type": "code",
   "execution_count": 12,
   "metadata": {
    "colab": {
     "autoexec": {
      "startup": false,
      "wait_interval": 0
     },
     "base_uri": "https://localhost:8080/",
     "height": 503
    },
    "colab_type": "code",
    "executionInfo": {
     "elapsed": 96134,
     "status": "ok",
     "timestamp": 1522578899954,
     "user": {
      "displayName": "CeShine Lee",
      "photoUrl": "//lh6.googleusercontent.com/-TKaCzeGtBXw/AAAAAAAAAAI/AAAAAAAAYB4/FhqIeNDBAlM/s50-c-k-no/photo.jpg",
      "userId": "114938319508229761672"
     },
     "user_tz": -480
    },
    "id": "B8Alb6-Ljgsc",
    "outputId": "108fb22b-80c8-4368-b861-4fc7f668f882"
   },
   "outputs": [
    {
     "name": "stdout",
     "output_type": "stream",
     "text": [
      "num batches:  468\n",
      "Epoch 0, Minibatch Loss= 1.7356, Training Accuracy= 0.398\n",
      "Epoch 1, Minibatch Loss= 1.4091, Training Accuracy= 0.500\n",
      "Epoch 2, Minibatch Loss= 1.1588, Training Accuracy= 0.633\n",
      "Epoch 3, Minibatch Loss= 0.9911, Training Accuracy= 0.680\n",
      "Epoch 4, Minibatch Loss= 0.8732, Training Accuracy= 0.719\n",
      "Epoch 5, Minibatch Loss= 0.7834, Training Accuracy= 0.758\n",
      "Epoch 6, Minibatch Loss= 0.7127, Training Accuracy= 0.758\n",
      "Epoch 7, Minibatch Loss= 0.6561, Training Accuracy= 0.789\n",
      "Epoch 8, Minibatch Loss= 0.6102, Training Accuracy= 0.781\n",
      "Epoch 9, Minibatch Loss= 0.5723, Training Accuracy= 0.805\n",
      "Epoch 10, Minibatch Loss= 0.5406, Training Accuracy= 0.812\n",
      "Epoch 11, Minibatch Loss= 0.5136, Training Accuracy= 0.805\n",
      "Epoch 12, Minibatch Loss= 0.4900, Training Accuracy= 0.820\n",
      "Epoch 13, Minibatch Loss= 0.4685, Training Accuracy= 0.820\n",
      "Epoch 14, Minibatch Loss= 0.4484, Training Accuracy= 0.836\n",
      "Epoch 15, Minibatch Loss= 0.4291, Training Accuracy= 0.844\n",
      "Epoch 16, Minibatch Loss= 0.4104, Training Accuracy= 0.859\n",
      "Epoch 17, Minibatch Loss= 0.3921, Training Accuracy= 0.875\n",
      "Epoch 18, Minibatch Loss= 0.3744, Training Accuracy= 0.891\n",
      "Epoch 19, Minibatch Loss= 0.3573, Training Accuracy= 0.891\n",
      "Epoch 20, Minibatch Loss= 0.3408, Training Accuracy= 0.906\n",
      "Epoch 21, Minibatch Loss= 0.3248, Training Accuracy= 0.898\n",
      "Epoch 22, Minibatch Loss= 0.3095, Training Accuracy= 0.914\n",
      "Epoch 23, Minibatch Loss= 0.2947, Training Accuracy= 0.922\n",
      "Epoch 24, Minibatch Loss= 0.2806, Training Accuracy= 0.922\n",
      "Epoch 25, Minibatch Loss= 0.2671, Training Accuracy= 0.922\n",
      "Epoch 26, Minibatch Loss= 0.2543, Training Accuracy= 0.922\n",
      "Epoch 27, Minibatch Loss= 0.2422, Training Accuracy= 0.930\n",
      "Epoch 28, Minibatch Loss= 0.2308, Training Accuracy= 0.938\n",
      "Epoch 29, Minibatch Loss= 0.2201, Training Accuracy= 0.945\n",
      "Epoch 30, Minibatch Loss= 0.2099, Training Accuracy= 0.953\n",
      "Epoch 31, Minibatch Loss= 0.2004, Training Accuracy= 0.953\n",
      "Epoch 32, Minibatch Loss= 0.1915, Training Accuracy= 0.953\n",
      "Epoch 33, Minibatch Loss= 0.1832, Training Accuracy= 0.953\n",
      "Epoch 34, Minibatch Loss= 0.1754, Training Accuracy= 0.953\n",
      "Epoch 35, Minibatch Loss= 0.1681, Training Accuracy= 0.953\n",
      "Epoch 36, Minibatch Loss= 0.1614, Training Accuracy= 0.961\n",
      "Epoch 37, Minibatch Loss= 0.1551, Training Accuracy= 0.961\n",
      "Epoch 38, Minibatch Loss= 0.1492, Training Accuracy= 0.961\n",
      "Epoch 39, Minibatch Loss= 0.1437, Training Accuracy= 0.961\n",
      "Epoch 40, Minibatch Loss= 0.1386, Training Accuracy= 0.969\n",
      "Epoch 41, Minibatch Loss= 0.1337, Training Accuracy= 0.969\n",
      "Epoch 42, Minibatch Loss= 0.1292, Training Accuracy= 0.969\n",
      "Epoch 43, Minibatch Loss= 0.1249, Training Accuracy= 0.969\n",
      "Epoch 44, Minibatch Loss= 0.1209, Training Accuracy= 0.969\n",
      "Epoch 45, Minibatch Loss= 0.1171, Training Accuracy= 0.969\n",
      "Epoch 46, Minibatch Loss= 0.1135, Training Accuracy= 0.969\n",
      "Epoch 47, Minibatch Loss= 0.1102, Training Accuracy= 0.969\n",
      "Epoch 48, Minibatch Loss= 0.1071, Training Accuracy= 0.969\n",
      "Epoch 49, Minibatch Loss= 0.1042, Training Accuracy= 0.969\n"
     ]
    },
    {
     "ename": "KeyboardInterrupt",
     "evalue": "",
     "output_type": "error",
     "traceback": [
      "\u001b[0;31m---------------------------------------------------------------------------\u001b[0m",
      "\u001b[0;31mKeyboardInterrupt\u001b[0m                         Traceback (most recent call last)",
      "\u001b[0;32m<ipython-input-12-bd5b6bdeffdf>\u001b[0m in \u001b[0;36m<module>\u001b[0;34m()\u001b[0m\n\u001b[1;32m     16\u001b[0m             \u001b[0mnext_image\u001b[0m \u001b[0;34m=\u001b[0m \u001b[0mnext\u001b[0m\u001b[0;34m(\u001b[0m\u001b[0mbatch_x\u001b[0m\u001b[0;34m)\u001b[0m\u001b[0;34m\u001b[0m\u001b[0m\n\u001b[1;32m     17\u001b[0m             \u001b[0mnext_label\u001b[0m \u001b[0;34m=\u001b[0m \u001b[0mnext\u001b[0m\u001b[0;34m(\u001b[0m\u001b[0mbatch_y\u001b[0m\u001b[0;34m)\u001b[0m\u001b[0;34m\u001b[0m\u001b[0m\n\u001b[0;32m---> 18\u001b[0;31m             \u001b[0msess\u001b[0m\u001b[0;34m.\u001b[0m\u001b[0mrun\u001b[0m\u001b[0;34m(\u001b[0m\u001b[0mtrain_op\u001b[0m\u001b[0;34m,\u001b[0m \u001b[0mfeed_dict\u001b[0m\u001b[0;34m=\u001b[0m\u001b[0;34m{\u001b[0m\u001b[0mX\u001b[0m\u001b[0;34m:\u001b[0m \u001b[0mnext_image\u001b[0m\u001b[0;34m,\u001b[0m \u001b[0mY\u001b[0m\u001b[0;34m:\u001b[0m \u001b[0mnext_label\u001b[0m\u001b[0;34m}\u001b[0m\u001b[0;34m)\u001b[0m\u001b[0;34m\u001b[0m\u001b[0m\n\u001b[0m\u001b[1;32m     19\u001b[0m \u001b[0;34m\u001b[0m\u001b[0m\n\u001b[1;32m     20\u001b[0m         \u001b[0;32mif\u001b[0m \u001b[0mepoch\u001b[0m \u001b[0;34m%\u001b[0m \u001b[0mdisplay_epoch\u001b[0m \u001b[0;34m==\u001b[0m \u001b[0;36m0\u001b[0m\u001b[0;34m:\u001b[0m\u001b[0;34m\u001b[0m\u001b[0m\n",
      "\u001b[0;32m/usr/local/lib/python3.5/dist-packages/tensorflow/python/client/session.py\u001b[0m in \u001b[0;36mrun\u001b[0;34m(self, fetches, feed_dict, options, run_metadata)\u001b[0m\n\u001b[1;32m    898\u001b[0m     \u001b[0;32mtry\u001b[0m\u001b[0;34m:\u001b[0m\u001b[0;34m\u001b[0m\u001b[0m\n\u001b[1;32m    899\u001b[0m       result = self._run(None, fetches, feed_dict, options_ptr,\n\u001b[0;32m--> 900\u001b[0;31m                          run_metadata_ptr)\n\u001b[0m\u001b[1;32m    901\u001b[0m       \u001b[0;32mif\u001b[0m \u001b[0mrun_metadata\u001b[0m\u001b[0;34m:\u001b[0m\u001b[0;34m\u001b[0m\u001b[0m\n\u001b[1;32m    902\u001b[0m         \u001b[0mproto_data\u001b[0m \u001b[0;34m=\u001b[0m \u001b[0mtf_session\u001b[0m\u001b[0;34m.\u001b[0m\u001b[0mTF_GetBuffer\u001b[0m\u001b[0;34m(\u001b[0m\u001b[0mrun_metadata_ptr\u001b[0m\u001b[0;34m)\u001b[0m\u001b[0;34m\u001b[0m\u001b[0m\n",
      "\u001b[0;32m/usr/local/lib/python3.5/dist-packages/tensorflow/python/client/session.py\u001b[0m in \u001b[0;36m_run\u001b[0;34m(self, handle, fetches, feed_dict, options, run_metadata)\u001b[0m\n\u001b[1;32m   1133\u001b[0m     \u001b[0;32mif\u001b[0m \u001b[0mfinal_fetches\u001b[0m \u001b[0;32mor\u001b[0m \u001b[0mfinal_targets\u001b[0m \u001b[0;32mor\u001b[0m \u001b[0;34m(\u001b[0m\u001b[0mhandle\u001b[0m \u001b[0;32mand\u001b[0m \u001b[0mfeed_dict_tensor\u001b[0m\u001b[0;34m)\u001b[0m\u001b[0;34m:\u001b[0m\u001b[0;34m\u001b[0m\u001b[0m\n\u001b[1;32m   1134\u001b[0m       results = self._do_run(handle, final_targets, final_fetches,\n\u001b[0;32m-> 1135\u001b[0;31m                              feed_dict_tensor, options, run_metadata)\n\u001b[0m\u001b[1;32m   1136\u001b[0m     \u001b[0;32melse\u001b[0m\u001b[0;34m:\u001b[0m\u001b[0;34m\u001b[0m\u001b[0m\n\u001b[1;32m   1137\u001b[0m       \u001b[0mresults\u001b[0m \u001b[0;34m=\u001b[0m \u001b[0;34m[\u001b[0m\u001b[0;34m]\u001b[0m\u001b[0;34m\u001b[0m\u001b[0m\n",
      "\u001b[0;32m/usr/local/lib/python3.5/dist-packages/tensorflow/python/client/session.py\u001b[0m in \u001b[0;36m_do_run\u001b[0;34m(self, handle, target_list, fetch_list, feed_dict, options, run_metadata)\u001b[0m\n\u001b[1;32m   1314\u001b[0m     \u001b[0;32mif\u001b[0m \u001b[0mhandle\u001b[0m \u001b[0;32mis\u001b[0m \u001b[0;32mNone\u001b[0m\u001b[0;34m:\u001b[0m\u001b[0;34m\u001b[0m\u001b[0m\n\u001b[1;32m   1315\u001b[0m       return self._do_call(_run_fn, feeds, fetches, targets, options,\n\u001b[0;32m-> 1316\u001b[0;31m                            run_metadata)\n\u001b[0m\u001b[1;32m   1317\u001b[0m     \u001b[0;32melse\u001b[0m\u001b[0;34m:\u001b[0m\u001b[0;34m\u001b[0m\u001b[0m\n\u001b[1;32m   1318\u001b[0m       \u001b[0;32mreturn\u001b[0m \u001b[0mself\u001b[0m\u001b[0;34m.\u001b[0m\u001b[0m_do_call\u001b[0m\u001b[0;34m(\u001b[0m\u001b[0m_prun_fn\u001b[0m\u001b[0;34m,\u001b[0m \u001b[0mhandle\u001b[0m\u001b[0;34m,\u001b[0m \u001b[0mfeeds\u001b[0m\u001b[0;34m,\u001b[0m \u001b[0mfetches\u001b[0m\u001b[0;34m)\u001b[0m\u001b[0;34m\u001b[0m\u001b[0m\n",
      "\u001b[0;32m/usr/local/lib/python3.5/dist-packages/tensorflow/python/client/session.py\u001b[0m in \u001b[0;36m_do_call\u001b[0;34m(self, fn, *args)\u001b[0m\n\u001b[1;32m   1320\u001b[0m   \u001b[0;32mdef\u001b[0m \u001b[0m_do_call\u001b[0m\u001b[0;34m(\u001b[0m\u001b[0mself\u001b[0m\u001b[0;34m,\u001b[0m \u001b[0mfn\u001b[0m\u001b[0;34m,\u001b[0m \u001b[0;34m*\u001b[0m\u001b[0margs\u001b[0m\u001b[0;34m)\u001b[0m\u001b[0;34m:\u001b[0m\u001b[0;34m\u001b[0m\u001b[0m\n\u001b[1;32m   1321\u001b[0m     \u001b[0;32mtry\u001b[0m\u001b[0;34m:\u001b[0m\u001b[0;34m\u001b[0m\u001b[0m\n\u001b[0;32m-> 1322\u001b[0;31m       \u001b[0;32mreturn\u001b[0m \u001b[0mfn\u001b[0m\u001b[0;34m(\u001b[0m\u001b[0;34m*\u001b[0m\u001b[0margs\u001b[0m\u001b[0;34m)\u001b[0m\u001b[0;34m\u001b[0m\u001b[0m\n\u001b[0m\u001b[1;32m   1323\u001b[0m     \u001b[0;32mexcept\u001b[0m \u001b[0merrors\u001b[0m\u001b[0;34m.\u001b[0m\u001b[0mOpError\u001b[0m \u001b[0;32mas\u001b[0m \u001b[0me\u001b[0m\u001b[0;34m:\u001b[0m\u001b[0;34m\u001b[0m\u001b[0m\n\u001b[1;32m   1324\u001b[0m       \u001b[0mmessage\u001b[0m \u001b[0;34m=\u001b[0m \u001b[0mcompat\u001b[0m\u001b[0;34m.\u001b[0m\u001b[0mas_text\u001b[0m\u001b[0;34m(\u001b[0m\u001b[0me\u001b[0m\u001b[0;34m.\u001b[0m\u001b[0mmessage\u001b[0m\u001b[0;34m)\u001b[0m\u001b[0;34m\u001b[0m\u001b[0m\n",
      "\u001b[0;32m/usr/local/lib/python3.5/dist-packages/tensorflow/python/client/session.py\u001b[0m in \u001b[0;36m_run_fn\u001b[0;34m(feed_dict, fetch_list, target_list, options, run_metadata)\u001b[0m\n\u001b[1;32m   1305\u001b[0m       \u001b[0mself\u001b[0m\u001b[0;34m.\u001b[0m\u001b[0m_extend_graph\u001b[0m\u001b[0;34m(\u001b[0m\u001b[0;34m)\u001b[0m\u001b[0;34m\u001b[0m\u001b[0m\n\u001b[1;32m   1306\u001b[0m       return self._call_tf_sessionrun(\n\u001b[0;32m-> 1307\u001b[0;31m           options, feed_dict, fetch_list, target_list, run_metadata)\n\u001b[0m\u001b[1;32m   1308\u001b[0m \u001b[0;34m\u001b[0m\u001b[0m\n\u001b[1;32m   1309\u001b[0m     \u001b[0;32mdef\u001b[0m \u001b[0m_prun_fn\u001b[0m\u001b[0;34m(\u001b[0m\u001b[0mhandle\u001b[0m\u001b[0;34m,\u001b[0m \u001b[0mfeed_dict\u001b[0m\u001b[0;34m,\u001b[0m \u001b[0mfetch_list\u001b[0m\u001b[0;34m)\u001b[0m\u001b[0;34m:\u001b[0m\u001b[0;34m\u001b[0m\u001b[0m\n",
      "\u001b[0;32m/usr/local/lib/python3.5/dist-packages/tensorflow/python/client/session.py\u001b[0m in \u001b[0;36m_call_tf_sessionrun\u001b[0;34m(self, options, feed_dict, fetch_list, target_list, run_metadata)\u001b[0m\n\u001b[1;32m   1407\u001b[0m       return tf_session.TF_SessionRun_wrapper(\n\u001b[1;32m   1408\u001b[0m           \u001b[0mself\u001b[0m\u001b[0;34m.\u001b[0m\u001b[0m_session\u001b[0m\u001b[0;34m,\u001b[0m \u001b[0moptions\u001b[0m\u001b[0;34m,\u001b[0m \u001b[0mfeed_dict\u001b[0m\u001b[0;34m,\u001b[0m \u001b[0mfetch_list\u001b[0m\u001b[0;34m,\u001b[0m \u001b[0mtarget_list\u001b[0m\u001b[0;34m,\u001b[0m\u001b[0;34m\u001b[0m\u001b[0m\n\u001b[0;32m-> 1409\u001b[0;31m           run_metadata)\n\u001b[0m\u001b[1;32m   1410\u001b[0m     \u001b[0;32melse\u001b[0m\u001b[0;34m:\u001b[0m\u001b[0;34m\u001b[0m\u001b[0m\n\u001b[1;32m   1411\u001b[0m       \u001b[0;32mwith\u001b[0m \u001b[0merrors\u001b[0m\u001b[0;34m.\u001b[0m\u001b[0mraise_exception_on_not_ok_status\u001b[0m\u001b[0;34m(\u001b[0m\u001b[0;34m)\u001b[0m \u001b[0;32mas\u001b[0m \u001b[0mstatus\u001b[0m\u001b[0;34m:\u001b[0m\u001b[0;34m\u001b[0m\u001b[0m\n",
      "\u001b[0;31mKeyboardInterrupt\u001b[0m: "
     ]
    }
   ],
   "source": [
    "display_epoch = 1\n",
    "num_batches = len(train[0])//batch_size\n",
    "print(\"num batches: \", num_batches)\n",
    "\n",
    "# Start training\n",
    "with tf.Session() as sess:\n",
    "    \n",
    "    # Run the initializer\n",
    "    sess.run(init)\n",
    "\n",
    "    for epoch in range(epochs):\n",
    "        batch_x = batch_sequences(train[0],batch_size=batch_size)\n",
    "        batch_y = batch(train[1],batch_size=batch_size)        \n",
    "        \n",
    "        for step in range(1, num_batches):\n",
    "            next_image = next(batch_x)\n",
    "            next_label = next(batch_y)\n",
    "            sess.run(train_op, feed_dict={X: next_image, Y: next_label})\n",
    "\n",
    "        if epoch % display_epoch == 0:\n",
    "            # Calculate batch loss and accuracy\n",
    "            loss, acc = sess.run([loss_op, accuracy], feed_dict={X: next_image,\n",
    "                                                                 Y: next_label})\n",
    "\n",
    "            print(\"Epoch \" + str(epoch) + \", Minibatch Loss= \" + \\\n",
    "                  \"{:.4f}\".format(loss) + \", Training Accuracy= \" + \\\n",
    "                  \"{:.3f}\".format(acc))\n",
    "\n",
    "    print(\"Optimization Finished!\")\n",
    "\n",
    "    # Calculate accuracy for 128 mnist test images\n",
    "    test_len = 128\n",
    "    test_data = test[0][:test_len].reshape((-1, timesteps, num_input))\n",
    "    test_label = test[1][:test_len]\n",
    "    print(\"Testing Accuracy:\", \\\n",
    "        sess.run(accuracy, feed_dict={X: test_data, Y: test_label}))"
   ]
  }
 ],
 "metadata": {
  "accelerator": "GPU",
  "colab": {
   "collapsed_sections": [],
   "default_view": {},
   "name": "sequential_mnist.ipynb",
   "provenance": [],
   "toc_visible": true,
   "version": "0.3.2",
   "views": {}
  },
  "kernelspec": {
   "display_name": "Python 3",
   "language": "python",
   "name": "python3"
  },
  "language_info": {
   "codemirror_mode": {
    "name": "ipython",
    "version": 3
   },
   "file_extension": ".py",
   "mimetype": "text/x-python",
   "name": "python",
   "nbconvert_exporter": "python",
   "pygments_lexer": "ipython3",
   "version": "3.5.2"
  }
 },
 "nbformat": 4,
 "nbformat_minor": 1
}
