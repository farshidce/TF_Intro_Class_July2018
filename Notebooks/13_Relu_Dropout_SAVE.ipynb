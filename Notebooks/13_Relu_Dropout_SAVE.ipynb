{
 "cells": [
  {
   "cell_type": "code",
   "execution_count": 1,
   "metadata": {},
   "outputs": [
    {
     "name": "stdout",
     "output_type": "stream",
     "text": [
      "Extracting ../data/mnist/train-images-idx3-ubyte.gz\n",
      "Extracting ../data/mnist/train-labels-idx1-ubyte.gz\n",
      "Extracting ../data/mnist/t10k-images-idx3-ubyte.gz\n",
      "Extracting ../data/mnist/t10k-labels-idx1-ubyte.gz\n"
     ]
    }
   ],
   "source": [
    "import tensorflow as tf\n",
    "from tensorflow.examples.tutorials.mnist import input_data\n",
    "import math\n",
    "\n",
    "from tensorflow.python.framework import ops\n",
    "import warnings\n",
    "import random\n",
    "import os\n",
    "\n",
    "warnings.filterwarnings(\"ignore\")\n",
    "\n",
    "os.environ['TF_CPP_MIN_LOG_LEVEL'] = '3'\n",
    "\n",
    "logs_path = 'logs/13_14_relu_dropout_save_restore/' # logging path\n",
    "batch_size = 100 # batch size while performing traing \n",
    "learning_rate = 0.003 # Learning rate \n",
    "\n",
    "dataPath = \"../data/mnist\"\n",
    "\n",
    "if not os.path.exists(dataPath):\n",
    "    os.makedirs(dataPath)\n",
    "\n",
    "from mnist_loader import read_data_sets\n",
    "mnist = read_data_sets(dataPath, one_hot=True)\n",
    "    \n",
    "X = tf.placeholder(tf.float32, [None, 784], name='InputData') # mnist data image of shape 28*28=784\n",
    "XX = tf.reshape(X, [-1, 784]) # reshape input\n",
    "Y_ = tf.placeholder(tf.float32, [None, 10], name='LabelData') # 0-9 digits recognition => 10 classes\n",
    "\n",
    "lr = tf.placeholder(tf.float32) # Learning rate \n",
    "pkeep = tf.placeholder(tf.float32) # dropout probablity \n",
    "\n",
    "L = 200 # number of neurons in layer 1\n",
    "M = 100 # number of neurons in layer 2\n",
    "N = 60 # number of neurons in layer 3\n",
    "O = 30 # number of neurons in layer 4"
   ]
  },
  {
   "cell_type": "code",
   "execution_count": 2,
   "metadata": {},
   "outputs": [],
   "source": [
    "W1 = tf.Variable(tf.truncated_normal([784, L], stddev=0.1)) # Initialize random weights for the hidden layer 1 \n",
    "B1 = tf.Variable(tf.zeros([L])) # Bias vector for layer 1\n",
    "\n",
    "W2 = tf.Variable(tf.truncated_normal([L, M], stddev=0.1)) # Initialize random weights for the hidden layer 2 \n",
    "B2 = tf.Variable(tf.ones([M])) # Bias vector for layer 2\n",
    "\n",
    "W3 = tf.Variable(tf.truncated_normal([M, N], stddev=0.1)) # Initialize random weights for the hidden layer 3 \n",
    "B3 = tf.Variable(tf.ones([N])) # Bias vector for layer 3\n",
    "\n",
    "W4 = tf.Variable(tf.truncated_normal([N, O], stddev=0.1)) # Initialize random weights for the hidden layer 4\n",
    "B4 = tf.Variable(tf.ones([O])) # Bias vector for layer 4\n",
    "\n",
    "W5 = tf.Variable(tf.truncated_normal([O, 10], stddev=0.1)) # Initialize random weights for the hidden layer 5 \n",
    "B5 = tf.Variable(tf.ones([10])) # Bias vector for layer 5\n",
    "\n",
    "XX = tf.reshape(X, [-1, 28*28])\n",
    "\n",
    "Y1 = tf.nn.relu(tf.matmul(XX, W1) + B1) # Output from layer 1\n",
    "Y1d = tf.nn.dropout(Y1, pkeep)\n",
    "\n",
    "Y2 = tf.nn.relu(tf.matmul(Y1d, W2) + B2) # Output from layer 2\n",
    "Y2d = tf.nn.dropout(Y2, pkeep)\n",
    "\n",
    "Y3 = tf.nn.relu(tf.matmul(Y2d, W3) + B3) # Output from layer 3\n",
    "Y3d = tf.nn.dropout(Y3, pkeep)\n",
    "\n",
    "Y4 = tf.nn.relu(tf.matmul(Y3d, W4) + B4) # Output from layer 4\n",
    "Y4d = tf.nn.dropout(Y4, pkeep)\n",
    "\n",
    "Ylogits = tf.matmul(Y4d, W5) + B5 # computing the logits\n",
    "Y = tf.nn.softmax(Ylogits) # output from layer 5"
   ]
  },
  {
   "cell_type": "code",
   "execution_count": 3,
   "metadata": {},
   "outputs": [],
   "source": [
    "cross_entropy = tf.nn.softmax_cross_entropy_with_logits_v2(logits=Ylogits, labels=Y_) # final outcome using softmax cross entropy \n",
    "cost_op = tf.reduce_mean(cross_entropy)*100\n",
    "\n",
    "correct_prediction = tf.equal(tf.argmax(Y, 1), tf.argmax(Y_, 1))\n",
    "accuracy = tf.reduce_mean(tf.cast(correct_prediction, tf.float32))\n",
    "\n",
    "# Optimization op (backprop)\n",
    "train_op = tf.train.AdamOptimizer(learning_rate).minimize(cost_op)"
   ]
  },
  {
   "cell_type": "code",
   "execution_count": 4,
   "metadata": {},
   "outputs": [],
   "source": [
    "# Initialize the variables (i.e. assign their default value)\n",
    "init_op = tf.global_variables_initializer()\n",
    "\n",
    "# Construct model and encapsulating all ops into scopes, making Tensorboard's Graph visualization more convenient\n",
    "\n",
    "# Create a summary to monitor cost tensor\n",
    "tf.summary.scalar(\"cost\", cost_op)\n",
    "\n",
    "# Create a summary to monitor accuracy tensor\n",
    "tf.summary.scalar(\"accuracy\", accuracy)\n",
    "\n",
    "# Merge all summaries into a single op\n",
    "summary_op = tf.summary.merge_all()"
   ]
  },
  {
   "cell_type": "markdown",
   "metadata": {},
   "source": [
    "### Saving your file so you can restore it later\n",
    "* The `tf.train.Saver()` class allows us to save the graph's variables in binary files.\n",
    "* The **meta graph** is a protocol buffer which saves the complete Tensorflow graph - i.e. all variables, operations, collections, etc.. This file has a `.meta` extension by default, or can be specifide in the `meta_graph_suffix` paramater in the `Saver.save()` method. The `write_meta_graph` parameter in the `Saver.save()` method controls whether we write a meta graph or not.\n",
    "* The **checkpoint file** is a binary file which contains all the values of the weights, biases, gradients and all the other variables saved. There is a `.data*` file which contains our traing variables, and a file named `checkpoint` that simply keeps a record of the latest checkpoint files saved.\n",
    "* Remember that Tensorflow variables are only alive inside a session, so you have to save the model inside a session with the `.save()` method.\n",
    "* If you want to keep only the `n` latest models, then you can use the `max_to_keep` parameter when first defining your `Saver()`.\n",
    "* If you don't specify anything in the `Saver()` then it saves all the variables as its default. If we only want to save some of them, we give the `Saver()` a list of the Variable names we want to save as its first argument."
   ]
  },
  {
   "cell_type": "code",
   "execution_count": 5,
   "metadata": {},
   "outputs": [
    {
     "name": "stdout",
     "output_type": "stream",
     "text": [
      "Epoch:  1  Accuracy:  0.9483  Saving\n",
      "Epoch:  3  Accuracy:  0.9601  Saving\n",
      "Epoch:  5  Accuracy:  0.9611  Saving\n",
      "Epoch:  7  Accuracy:  0.9616  Saving\n",
      "Epoch:  9  Accuracy:  0.9672  Saving\n",
      "Epoch:  11  Accuracy:  0.9672 \n",
      "Epoch:  13  Accuracy:  0.9643 \n",
      "Epoch:  15  Accuracy:  0.9668 \n",
      "Accuracy:  0.9665\n",
      "done\n"
     ]
    }
   ],
   "source": [
    "training_epochs = 16\n",
    "display_epoch = 2\n",
    "best_accuracy = 0\n",
    "\n",
    "with tf.Session() as sess:\n",
    "    sess.run(tf.global_variables_initializer())\n",
    "    \n",
    "    saver = tf.train.Saver(max_to_keep=4)  # define a saver for saving and restoring\n",
    "    writer = tf.summary.FileWriter(logs_path, graph=tf.get_default_graph()) # for tensorboard\n",
    "    \n",
    "    for epoch in range(training_epochs):\n",
    "        batch_count = int(mnist.train.num_examples/batch_size)\n",
    "        for i in range(batch_count):\n",
    "            batch_x, batch_y = mnist.train.next_batch(batch_size)\n",
    "            max_learning_rate = 0.003\n",
    "            min_learning_rate = 0.0001\n",
    "            decay_speed = 2000 \n",
    "            learning_rate = min_learning_rate + (max_learning_rate - min_learning_rate\\\n",
    "                                                ) * math.exp(-i/decay_speed)\n",
    "            _, summary = sess.run([train_op, summary_op], {X: batch_x, Y_: batch_y, pkeep: 0.75, lr: learning_rate})\n",
    "            \n",
    "            writer.add_summary(summary, epoch * batch_count + i)\n",
    "        \n",
    "        if (epoch+1) % display_epoch == 0:\n",
    "            acc = accuracy.eval(feed_dict={X: mnist.test.images, Y_: mnist.test.labels, pkeep: 0.75})\n",
    "            if acc > best_accuracy:\n",
    "                best_accuracy = acc\n",
    "                saver.save(sess, save_path=logs_path, \n",
    "                           write_meta_graph=True)\n",
    "                print(\"Epoch: \", epoch, \" Accuracy: \", acc,\" Saving to {}\".format(logs_path))\n",
    "            else:\n",
    "                print(\"Epoch: \", epoch, \" Accuracy: \", acc,\"\")\n",
    "                \n",
    "    print(\"Accuracy: \", accuracy.eval(feed_dict={X: mnist.test.images, Y_: mnist.test.labels, pkeep: 0.75}))\n",
    "    print(\"done\")"
   ]
  },
  {
   "cell_type": "code",
   "execution_count": null,
   "metadata": {},
   "outputs": [],
   "source": []
  }
 ],
 "metadata": {
  "kernelspec": {
   "display_name": "Python 3",
   "language": "python",
   "name": "python3"
  },
  "language_info": {
   "codemirror_mode": {
    "name": "ipython",
    "version": 3
   },
   "file_extension": ".py",
   "mimetype": "text/x-python",
   "name": "python",
   "nbconvert_exporter": "python",
   "pygments_lexer": "ipython3",
   "version": "3.5.2"
  }
 },
 "nbformat": 4,
 "nbformat_minor": 2
}
