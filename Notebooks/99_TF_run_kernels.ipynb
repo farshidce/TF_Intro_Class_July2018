{
 "cells": [
  {
   "cell_type": "code",
   "execution_count": 1,
   "metadata": {},
   "outputs": [],
   "source": [
    "\"\"\"\n",
    "Simple examples of convolution to do some basic filters\n",
    "Also demonstrates the use of TensorFlow data readers.\n",
    "\n",
    "We will use some popular filters for our image.\n",
    "It seems to be working with grayscale images, but not with rgb images.\n",
    "It's probably because I didn't choose the right kernels for rgb images.\n",
    "\n",
    "kernels for rgb images have dimensions 3 x 3 x 3 x 3\n",
    "kernels for grayscale images have dimensions 3 x 3 x 1 x 1\n",
    "\n",
    "\"\"\"\n",
    "import os\n",
    "os.environ['TF_CPP_MIN_LOG_LEVEL']='2'\n",
    "\n",
    "import sys\n",
    "sys.path.append('..')\n",
    "\n",
    "from matplotlib import gridspec as gridspec\n",
    "from matplotlib import pyplot as plt\n",
    "import tensorflow as tf\n",
    "import numpy as np\n",
    "\n",
    "import kernels"
   ]
  },
  {
   "cell_type": "code",
   "execution_count": 2,
   "metadata": {},
   "outputs": [],
   "source": [
    "def read_one_image(filename):\n",
    "    ''' This method is to show how to read image from a file into a tensor.\n",
    "    The output is a tensor object.\n",
    "    '''\n",
    "    image_string = tf.read_file(filename)\n",
    "    image_decoded = tf.image.decode_image(image_string)\n",
    "    image = tf.cast(image_decoded, tf.float32) / 256.0\n",
    "    return image\n",
    "\n",
    "def convolve(image, kernels, rgb=True, strides=[1, 3, 3, 1], padding='SAME'):\n",
    "    images = [image[0]]\n",
    "    for i, kernel in enumerate(kernels):\n",
    "        filtered_image = tf.nn.conv2d(image, \n",
    "                                      kernel, \n",
    "                                      strides=strides,\n",
    "                                      padding=padding)[0]\n",
    "        if i == 2:\n",
    "            filtered_image = tf.minimum(tf.nn.relu(filtered_image), 255)\n",
    "        images.append(filtered_image)\n",
    "    return images\n",
    "\n",
    "def show_images(images, rgb=True):\n",
    "    gs = gridspec.GridSpec(1, len(images))\n",
    "    for i, image in enumerate(images):\n",
    "        plt.subplot(gs[0, i])\n",
    "        if rgb:\n",
    "            plt.imshow(image)\n",
    "        else: \n",
    "            image = image.reshape(image.shape[0], image.shape[1])\n",
    "            plt.imshow(image, cmap='gray')\n",
    "        plt.axis('off')\n",
    "    plt.show()"
   ]
  },
  {
   "cell_type": "code",
   "execution_count": 3,
   "metadata": {},
   "outputs": [],
   "source": [
    "def show_images_v2(images, rgb=True, cols=1):\n",
    "    n_images=len(images)\n",
    "\n",
    "    fig = plt.figure()\n",
    "    \n",
    "    for i in range(n_images):\n",
    "        ax = fig.add_subplot(cols,np.ceil(n_images/float(cols)), i+1)\n",
    "        if rgb:\n",
    "            ax.imshow(images[i])\n",
    "        else:\n",
    "            ax.imshow(images[i], cmap='Greys_r')\n",
    "    fig.set_size_inches(np.array(fig.get_size_inches()) * n_images)\n",
    "    plt.show()"
   ]
  },
  {
   "cell_type": "code",
   "execution_count": 4,
   "metadata": {},
   "outputs": [],
   "source": [
    "def main(imagepath):\n",
    "    rgb = False\n",
    "    if rgb:\n",
    "        kernels_list = [kernels.BLUR_FILTER_RGB, \n",
    "                        kernels.SHARPEN_FILTER_RGB, \n",
    "                        kernels.EDGE_FILTER_RGB,\n",
    "                        kernels.TOP_SOBEL_RGB,\n",
    "                        kernels.EMBOSS_FILTER_RGB]\n",
    "    else:\n",
    "        kernels_list = [kernels.BLUR_FILTER,\n",
    "                        kernels.SHARPEN_FILTER,\n",
    "                        kernels.EDGE_FILTER,\n",
    "                        kernels.TOP_SOBEL,\n",
    "                        kernels.EMBOSS_FILTER]\n",
    "\n",
    "    kernels_list = kernels_list[1:]\n",
    "    image = read_one_image(imagepath)\n",
    "    if not rgb:\n",
    "        image = tf.image.rgb_to_grayscale(image)\n",
    "    image = tf.expand_dims(image, 0) # make it into a batch of 1 element\n",
    "    images = convolve(image, kernels_list, rgb)\n",
    "    with tf.Session() as sess:\n",
    "        images = sess.run(images) # convert images from tensors to float values\n",
    "    show_images(images, rgb)"
   ]
  },
  {
   "cell_type": "code",
   "execution_count": 5,
   "metadata": {},
   "outputs": [
    {
     "name": "stdout",
     "output_type": "stream",
     "text": [
      "C.csv\t\t\t\t      mossy_rocks_landscape.jpg\r\n",
      "CAT.csv\t\t\t\t      puppy1200x650.jpg\r\n",
      "KO.csv\t\t\t\t      puppy424x640.jpg\r\n",
      "MacroTrends_AAL.csv\t\t      puppy483x720.jpg\r\n",
      "UTX.csv\t\t\t\t      stock_market_data-AAL.csv\r\n",
      "aal.us.txt\t\t\t      t10k-images-idx3-ubyte.gz\r\n",
      "birth_weight.csv\t\t      t10k-labels-idx1-ubyte.gz\r\n",
      "green-cascading-waterfall.jpg\t      train-images-idx3-ubyte.gz\r\n",
      "hpq.us.txt\t\t\t      train-labels-idx1-ubyte.gz\r\n",
      "international-airline-passengers.csv\r\n"
     ]
    }
   ],
   "source": [
    "!ls ../data"
   ]
  },
  {
   "cell_type": "code",
   "execution_count": 6,
   "metadata": {},
   "outputs": [
    {
     "data": {
      "image/png": "[encoded data removed]",
      "text/plain": [
       "<Figure size 432x288 with 5 Axes>"
      ]
     },
     "metadata": {},
     "output_type": "display_data"
    }
   ],
   "source": [
    "main('../data/puppy1200x650.jpg')"
   ]
  },
  {
   "cell_type": "code",
   "execution_count": null,
   "metadata": {},
   "outputs": [],
   "source": []
  }
 ],
 "metadata": {
  "kernelspec": {
   "display_name": "Python 3",
   "language": "python",
   "name": "python3"
  },
  "language_info": {
   "codemirror_mode": {
    "name": "ipython",
    "version": 3
   },
   "file_extension": ".py",
   "mimetype": "text/x-python",
   "name": "python",
   "nbconvert_exporter": "python",
   "pygments_lexer": "ipython3",
   "version": "3.5.2"
  }
 },
 "nbformat": 4,
 "nbformat_minor": 2
}
