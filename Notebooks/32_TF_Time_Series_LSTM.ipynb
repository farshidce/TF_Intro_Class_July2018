{
 "cells": [
  {
   "cell_type": "code",
   "execution_count": 1,
   "metadata": {},
   "outputs": [],
   "source": [
    "import numpy as np\n",
    "import tensorflow as tf\n",
    "from tensorflow.python.ops import rnn, rnn_cell\n",
    "import time_series_preprocessor as tsp\n",
    "import matplotlib.pyplot as plt\n",
    "from tensorflow.python.ops import metrics_impl\n",
    "\n",
    "from tensorflow.python.framework import ops\n",
    "import warnings\n",
    "import random\n",
    "import os\n",
    "\n",
    "\n",
    "warnings.filterwarnings(\"ignore\")\n",
    "#os.environ['TF_CPP_MIN_LOG_LEVEL'] = '5'\n",
    "tf.logging.set_verbosity(tf.logging.ERROR)\n",
    "ops.reset_default_graph()"
   ]
  },
  {
   "cell_type": "markdown",
   "metadata": {},
   "source": [
    "## Using LSTM RNNs for Time Series Prediction"
   ]
  },
  {
   "cell_type": "markdown",
   "metadata": {},
   "source": [
    "#### The repeating module in a standard RNN has just a single layer\n",
    "<img src='../pics/RNN-unrolled.png'>"
   ]
  },
  {
   "cell_type": "markdown",
   "metadata": {},
   "source": [
    "#### The repeating module in an LSTM has four interacting layers\n",
    "<img src='../pics/LSTM_vs_RNN.jpg'>"
   ]
  },
  {
   "cell_type": "markdown",
   "metadata": {},
   "source": [
    "#### LSTM cell state `C` is like its memory\n",
    "<img src='../pics/LSTM-C-line_ch1.png'>"
   ]
  },
  {
   "cell_type": "markdown",
   "metadata": {},
   "source": [
    "#### LSTM forget gate decides what, in the memory, we should forget (or downweight)\n",
    "<img src='../pics/LSTM-focus-f_ch2.png'>"
   ]
  },
  {
   "cell_type": "markdown",
   "metadata": {},
   "source": [
    "#### The input gate decides what new information we store in the cell state\n",
    "<img src='../pics/LSTM-focus-i_ch3.png'>"
   ]
  },
  {
   "cell_type": "markdown",
   "metadata": {},
   "source": [
    "#### Now we update the cell state, forgetting what we decided to forget, and adding new info scaled by how much we decided to update each state value\n",
    "<img src='../pics/LSTM-focus-C_ch4.png'>"
   ]
  },
  {
   "cell_type": "markdown",
   "metadata": {},
   "source": [
    "#### Finally we output a filtered version of our cell state\n",
    "<img src='../pics/LSTM-focus-o_ch5.png'>"
   ]
  },
  {
   "cell_type": "markdown",
   "metadata": {},
   "source": [
    "### To Summarize:\n",
    "* Cell state ($\\textbf{c_t}$) - Represents the **internal memory of the cell** which stores both short-term and long-term memories\n",
    "* Hidden state ($\\textbf{h_t}$) - This is output state information calculated w.r.t. current input, previous hidden state and current cell input which you eventually use to predict the next steps in the sequence. Additionally, the hidden state can decide to only retrieve the short or long-term or both types of memory stored in the cell state to make the next prediction.\n",
    "* Input gate ($\\textbf{i_t}$) - Decides how much information from current input flows into the cell state\n",
    "* Forget gate ($\\textbf{f_t}$) - Decides how much information from the current input and the previous cell state flows into the current cell state\n",
    "* Output gate ($\\textbf{o_t}$) - Decides how much information from the current cell state flows into the hidden state, so that if needed LSTM can only pick the long-term memories or short-term memories and long-term memories"
   ]
  },
  {
   "cell_type": "markdown",
   "metadata": {},
   "source": [
    "### Different diagrammatic view of the same thing\n",
    "<img src='../pics/lstm_xszk4d.webp'>"
   ]
  },
  {
   "cell_type": "markdown",
   "metadata": {},
   "source": [
    "### Summary of the equations:\n",
    "#### input gate, forget gate, and output gate\n",
    "$$i_t = \\sigma(W_{xi}x_t + W_{hi}h_{t-1}+b_i)$$\n",
    "$$f_t = \\sigma(W_{xf}x_t + W_{hf}h_{t-1}+b_f)$$\n",
    "$$o_t = \\sigma(W_{xo}x_t + W_{ho}h_{t-1}+b_o)$$\n",
    "\n",
    "#### Input transform\n",
    "$$c_{in_t} = \\tanh(W_{xc}x_t + W_{hc}h_{t-1} + b_{c\\_in})$$\n",
    "\n",
    "#### State update\n",
    "$$c_t = f_t \\cdot c_{t-1} + i_t \\cdot c\\_in_t$$\n",
    "$$h_t=o_t \\cdot tanh(c_t)$$"
   ]
  },
  {
   "cell_type": "markdown",
   "metadata": {},
   "source": [
    "#### Approximation of what LSTM looks like in Tensorflow code:"
   ]
  },
  {
   "cell_type": "raw",
   "metadata": {},
   "source": [
    "W_z = get_variable(\"W_z\", [self.input_size, self._num_blocks])\n",
    "W_i = get_variable(\"W_i\", [self.input_size, self._num_blocks])\n",
    "W_f = get_variable(\"W_f\", [self.input_size, self._num_blocks])\n",
    "W_o = get_variable(\"W_o\", [self.input_size, self._num_blocks])\n",
    "\n",
    "R_z = get_variable(\"R_z\", [self._num_blocks, self._num_blocks])\n",
    "R_i = get_variable(\"R_i\", [self._num_blocks, self._num_blocks])\n",
    "R_f = get_variable(\"R_f\", [self._num_blocks, self._num_blocks])\n",
    "R_o = get_variable(\"R_o\", [self._num_blocks, self._num_blocks])\n",
    "\n",
    "b_z = get_variable(\"b_z\", [1, self._num_blocks])\n",
    "b_i = get_variable(\"b_i\", [1, self._num_blocks])\n",
    "b_f = get_variable(\"b_f\", [1, self._num_blocks])\n",
    "b_o = get_variable(\"b_o\", [1, self._num_blocks])\n",
    "\n",
    "p_i = get_variable(\"p_i\", [self._num_blocks])\n",
    "p_f = get_variable(\"p_f\", [self._num_blocks])\n",
    "p_o = get_variable(\"p_o\", [self._num_blocks])\n",
    "\n",
    "g = h = tf.tanh\n",
    "\n",
    "z = g(tf.matmul(inputs, W_z) + tf.matmul(y_prev, R_z) + b_z)\n",
    "i = tf.sigmoid(tf.matmul(inputs, W_i) + tf.matmul(y_prev, R_i) + tf.multiply(c_prev, p_i) + b_i)\n",
    "f = tf.sigmoid(tf.matmul(inputs, W_f) + tf.matmul(y_prev, R_f) + tf.multiply(c_prev, p_f) + b_f)\n",
    "c = tf.multiply(i, z) + tf.multiply(f, c_prev)\n",
    "o = tf.sigmoid(tf.matmul(inputs, W_o) + tf.matmul(y_prev, R_o) + tf.multiply(c, p_o) + b_o)\n",
    "y = tf.multiply(h(c), o)"
   ]
  },
  {
   "cell_type": "code",
   "execution_count": 2,
   "metadata": {},
   "outputs": [],
   "source": [
    "# Hyperparameters\n",
    "input_dim = 1\n",
    "seq_size = 5\n",
    "hidden_dim = 5\n",
    "\n",
    "# Weight variables and input placeholders\n",
    "#W_out = tf.Variable(tf.random_normal([hidden_dim, 1]), name='W_out')\n",
    "W_out = tf.get_variable(\"W_out\", shape=[hidden_dim, 1], dtype=tf.float32, initializer=None, regularizer=None, trainable=True, collections=None)\n",
    "\n",
    "# b_out = tf.Variable(tf.random_normal([1]), name='b_out')\n",
    "b_out = tf.get_variable(\"b_out\", shape=[1], dtype=tf.float32, initializer=None, regularizer=None, trainable=True, collections=None)\n",
    "\n",
    "x = tf.placeholder(tf.float32, [None, seq_size, input_dim])\n",
    "y = tf.placeholder(tf.float32, [None, seq_size])"
   ]
  },
  {
   "cell_type": "code",
   "execution_count": 3,
   "metadata": {},
   "outputs": [],
   "source": [
    "def LSTM_Model():\n",
    "        \"\"\"\n",
    "        :param x: inputs of size [T, batch_size, input_size]\n",
    "        :param W: matrix of fully-connected output layer weights\n",
    "        :param b: vector of fully-connected output layer biases\n",
    "        \"\"\"\n",
    "        cell = rnn_cell.BasicLSTMCell(hidden_dim)\n",
    "        outputs, states = rnn.dynamic_rnn(cell, x, dtype=tf.float32)\n",
    "        num_examples = tf.shape(x)[0]\n",
    "        W_repeated = tf.tile(tf.expand_dims(W_out, 0), [num_examples, 1, 1])\n",
    "        out = tf.matmul(outputs, W_repeated) + b_out\n",
    "        out = tf.squeeze(out)\n",
    "        return out\n",
    "\n",
    "train_loss = []\n",
    "test_loss = []\n",
    "step_list = []"
   ]
  },
  {
   "cell_type": "code",
   "execution_count": 4,
   "metadata": {},
   "outputs": [],
   "source": [
    "def trainNetwork(train_x, train_y, test_x, test_y):\n",
    "        with tf.Session() as sess:\n",
    "            tf.get_variable_scope().reuse_variables()\n",
    "            sess.run(tf.global_variables_initializer())\n",
    "            max_patience = 3\n",
    "            patience = max_patience\n",
    "            min_test_err = float('inf')\n",
    "            step = 0\n",
    "            while patience > 0:\n",
    "                _, train_err = sess.run([train_op, cost], feed_dict={x: train_x, y: train_y})\n",
    "                if step % 100 == 0:\n",
    "                    test_err = sess.run(cost, feed_dict={x: test_x, y: test_y})\n",
    "                    print('step: {}\\t\\ttrain err: {:.3f}\\t\\ttest err: {:.2f}'.format(step, train_err, test_err))\n",
    "                    train_loss.append(train_err)\n",
    "                    test_loss.append(test_err) \n",
    "                    step_list.append(step)                   \n",
    "\n",
    "                    if test_err < min_test_err:\n",
    "                        min_test_err = test_err\n",
    "                        patience = max_patience\n",
    "                    else:\n",
    "                        patience -= 1\n",
    "                step += 1                \n",
    "            save_path = saver.save(sess, 'model/model.ckpt')\n",
    "            print('Model saved to {}'.format(save_path))\n",
    "\n",
    "# Cost optimizer\n",
    "cost = tf.reduce_mean(tf.square(LSTM_Model()- y))\n",
    "train_op = tf.train.AdamOptimizer(learning_rate=0.003).minimize(cost)\n",
    "\n",
    "# Auxiliary ops\n",
    "saver = tf.train.Saver()\n",
    "def testLSTM(sess, test_x):\n",
    "        tf.get_variable_scope().reuse_variables()\n",
    "        saver.restore(sess, 'model/model.ckpt')\n",
    "        output = sess.run(LSTM_Model(), feed_dict={x: test_x})\n",
    "        return output\n",
    "\n",
    "def plot_results(train_x, predictions, actual, filename):\n",
    "    plt.figure()\n",
    "    num_train = len(train_x)\n",
    "    plt.plot(list(range(num_train)), train_x, color='b', label='training data')\n",
    "    plt.plot(list(range(num_train, num_train + len(predictions))), predictions, color='r', label='predicted')\n",
    "    plt.plot(list(range(num_train, num_train + len(actual))), actual, color='g', label='test data')\n",
    "    plt.legend()\n",
    "    if filename is not None:\n",
    "        plt.savefig(filename)\n",
    "    else:\n",
    "        plt.show()"
   ]
  },
  {
   "cell_type": "code",
   "execution_count": 5,
   "metadata": {},
   "outputs": [],
   "source": [
    "data = tsp.load_series('../data/international-airline-passengers.csv')\n",
    "train_data, actual_vals = tsp.split_data(data=data, percent_train=0.75)"
   ]
  },
  {
   "cell_type": "code",
   "execution_count": 6,
   "metadata": {},
   "outputs": [
    {
     "data": {
      "text/html": [
       "<div>\n",
       "<style scoped>\n",
       "    .dataframe tbody tr th:only-of-type {\n",
       "        vertical-align: middle;\n",
       "    }\n",
       "\n",
       "    .dataframe tbody tr th {\n",
       "        vertical-align: top;\n",
       "    }\n",
       "\n",
       "    .dataframe thead th {\n",
       "        text-align: right;\n",
       "    }\n",
       "</style>\n",
       "<table border=\"1\" class=\"dataframe\">\n",
       "  <thead>\n",
       "    <tr style=\"text-align: right;\">\n",
       "      <th></th>\n",
       "      <th>0</th>\n",
       "      <th>1</th>\n",
       "    </tr>\n",
       "  </thead>\n",
       "  <tbody>\n",
       "    <tr>\n",
       "      <th>0</th>\n",
       "      <td>1949-01</td>\n",
       "      <td>112</td>\n",
       "    </tr>\n",
       "    <tr>\n",
       "      <th>1</th>\n",
       "      <td>1949-02</td>\n",
       "      <td>118</td>\n",
       "    </tr>\n",
       "    <tr>\n",
       "      <th>2</th>\n",
       "      <td>1949-03</td>\n",
       "      <td>132</td>\n",
       "    </tr>\n",
       "    <tr>\n",
       "      <th>3</th>\n",
       "      <td>1949-04</td>\n",
       "      <td>129</td>\n",
       "    </tr>\n",
       "    <tr>\n",
       "      <th>4</th>\n",
       "      <td>1949-05</td>\n",
       "      <td>121</td>\n",
       "    </tr>\n",
       "  </tbody>\n",
       "</table>\n",
       "</div>"
      ],
      "text/plain": [
       "         0    1\n",
       "0  1949-01  112\n",
       "1  1949-02  118\n",
       "2  1949-03  132\n",
       "3  1949-04  129\n",
       "4  1949-05  121"
      ]
     },
     "execution_count": 6,
     "metadata": {},
     "output_type": "execute_result"
    }
   ],
   "source": [
    "import pandas as pd\n",
    "df = pd.read_csv('../data/international-airline-passengers.csv',header=None)\n",
    "df.head()"
   ]
  },
  {
   "cell_type": "code",
   "execution_count": 7,
   "metadata": {},
   "outputs": [],
   "source": [
    "train_x, train_y = [], []\n",
    "for i in range(len(train_data) - seq_size - 1):\n",
    "    train_x.append(np.expand_dims(train_data[i:i+seq_size], axis=1).tolist())\n",
    "    train_y.append(train_data[i+1:i+seq_size+1])\n",
    "\n",
    "test_x, test_y = [], []\n",
    "for i in range(len(actual_vals) - seq_size - 1):\n",
    "    test_x.append(np.expand_dims(actual_vals[i:i+seq_size], axis=1).tolist())\n",
    "    test_y.append(actual_vals[i+1:i+seq_size+1])"
   ]
  },
  {
   "cell_type": "code",
   "execution_count": 8,
   "metadata": {},
   "outputs": [
    {
     "name": "stdout",
     "output_type": "stream",
     "text": [
      "step: 0\t\ttrain err: 1.450\t\ttest err: 6.96\n",
      "step: 100\t\ttrain err: 0.243\t\ttest err: 1.42\n",
      "step: 200\t\ttrain err: 0.111\t\ttest err: 0.73\n",
      "step: 300\t\ttrain err: 0.066\t\ttest err: 0.39\n",
      "step: 400\t\ttrain err: 0.048\t\ttest err: 0.27\n",
      "step: 500\t\ttrain err: 0.040\t\ttest err: 0.21\n",
      "step: 600\t\ttrain err: 0.038\t\ttest err: 0.19\n",
      "step: 700\t\ttrain err: 0.038\t\ttest err: 0.18\n",
      "step: 800\t\ttrain err: 0.038\t\ttest err: 0.18\n",
      "step: 900\t\ttrain err: 0.038\t\ttest err: 0.18\n",
      "step: 1000\t\ttrain err: 0.037\t\ttest err: 0.18\n",
      "step: 1100\t\ttrain err: 0.037\t\ttest err: 0.18\n",
      "step: 1200\t\ttrain err: 0.037\t\ttest err: 0.18\n",
      "Model saved to model/model.ckpt\n"
     ]
    },
    {
     "data": {
      "image/png": "[encoded data removed]",
      "text/plain": [
       "<Figure size 432x288 with 1 Axes>"
      ]
     },
     "metadata": {},
     "output_type": "display_data"
    }
   ],
   "source": [
    "trainNetwork(train_x, train_y, test_x, test_y)\n",
    "\n",
    "with tf.Session() as sess:\n",
    "    predicted_vals = testLSTM(sess, test_x)[:,0]\n",
    "    #print('predicted_vals', np.shape(predicted_vals))\n",
    "    # Following prediction results of the model given ground truth values\n",
    "    plot_results(train_data, predicted_vals, actual_vals, 'ground_truth_predition.png')\n",
    "\n",
    "    prev_seq = train_x[-1]\n",
    "    predicted_vals = []\n",
    "    for i in range(100):\n",
    "        next_seq = testLSTM(sess, [prev_seq])\n",
    "        predicted_vals.append(next_seq[-1])\n",
    "        prev_seq = np.vstack((prev_seq[1:], next_seq[-1]))\n",
    "\n",
    "#     # Following predictions results where only the training data was given\n",
    "#     plot_results(train_data, predicted_vals, actual_vals, 'prediction_on_train_set.png')"
   ]
  },
  {
   "cell_type": "code",
   "execution_count": 9,
   "metadata": {},
   "outputs": [],
   "source": [
    "def plot_error():\n",
    "\t# Plot loss over time\n",
    "\tplt.plot(step_list, train_loss, 'r--', label='LSTM training loss per iteration', linewidth=4)\n",
    "\tplt.title('LSTM training loss per iteration')\n",
    "\tplt.xlabel('Iteration')\n",
    "\tplt.ylabel('Training loss')\n",
    "\tplt.legend(loc='upper right')\n",
    "\tplt.show()\n",
    "\n",
    "\t# Plot accuracy over time\n",
    "\tplt.plot(step_list, test_loss, 'r--', label='LSTM test loss per iteration', linewidth=4)\n",
    "\tplt.title('LSTM test loss per iteration')\n",
    "\tplt.xlabel('Iteration')\n",
    "\tplt.ylabel('Test loss')\n",
    "\tplt.legend(loc='upper left')\n",
    "\tplt.show()"
   ]
  },
  {
   "cell_type": "code",
   "execution_count": 10,
   "metadata": {},
   "outputs": [
    {
     "data": {
      "image/png": "[encoded data removed]",
      "text/plain": [
       "<Figure size 432x288 with 1 Axes>"
      ]
     },
     "metadata": {},
     "output_type": "display_data"
    },
    {
     "data": {
      "image/png": "[encoded data removed]",
      "text/plain": [
       "<Figure size 432x288 with 1 Axes>"
      ]
     },
     "metadata": {},
     "output_type": "display_data"
    }
   ],
   "source": [
    "plot_error()"
   ]
  },
  {
   "cell_type": "code",
   "execution_count": null,
   "metadata": {},
   "outputs": [],
   "source": []
  }
 ],
 "metadata": {
  "kernelspec": {
   "display_name": "Python 3",
   "language": "python",
   "name": "python3"
  },
  "language_info": {
   "codemirror_mode": {
    "name": "ipython",
    "version": 3
   },
   "file_extension": ".py",
   "mimetype": "text/x-python",
   "name": "python",
   "nbconvert_exporter": "python",
   "pygments_lexer": "ipython3",
   "version": "3.5.2"
  }
 },
 "nbformat": 4,
 "nbformat_minor": 2
}
