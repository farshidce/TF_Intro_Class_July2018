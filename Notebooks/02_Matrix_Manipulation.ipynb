{
 "cells": [
  {
   "cell_type": "code",
   "execution_count": null,
   "metadata": {},
   "outputs": [],
   "source": [
    "import tensorflow as tf\n",
    "sess = tf.InteractiveSession()"
   ]
  },
  {
   "cell_type": "markdown",
   "metadata": {},
   "source": [
    "### Making and Initializing Data"
   ]
  },
  {
   "cell_type": "markdown",
   "metadata": {},
   "source": [
    "### Manually Input Data"
   ]
  },
  {
   "cell_type": "code",
   "execution_count": null,
   "metadata": {},
   "outputs": [],
   "source": [
    "x = tf.constant([[2, 5, 3, -5],\n",
    "                 [0, 3,-2, 5],\n",
    "                 [4, 3, 5, 3],\n",
    "                 [6, 1, 4, 0]])\n",
    "\n",
    "y = tf.constant([[4, -7, 4, -3, 4],\n",
    "                 [6, 4,-7, 4, 7],\n",
    "                 [2, 3, 2, 1, 4],\n",
    "                 [1, 5, 5, 5, 2]])\n",
    "\n",
    "floatx = tf.constant([[2., 5., 3., -5.],\n",
    "                      [0., 3.,-2., 5.],\n",
    "                      [4., 3., 5., 3.],\n",
    "                      [6., 1., 4., 0.]])\n",
    "\n",
    "xv = tf.Variable([[2, 5, 3, -5],\n",
    "                 [0, 3,-2, 5],\n",
    "                 [4, 3, 5, 3],\n",
    "                 [6, 1, 4, 0]])\n",
    "\n",
    "yv = tf.Variable([[4, -7, 4, -3, 4],\n",
    "                 [6, 4,-7, 4, 7],\n",
    "                 [2, 3, 2, 1, 4],\n",
    "                 [1, 5, 5, 5, 2]],trainable=False)"
   ]
  },
  {
   "cell_type": "markdown",
   "metadata": {},
   "source": [
    "#### `tf.eye()` - Initialize an Identity matrix"
   ]
  },
  {
   "cell_type": "code",
   "execution_count": null,
   "metadata": {},
   "outputs": [],
   "source": [
    "tf.eye(5).eval()"
   ]
  },
  {
   "cell_type": "code",
   "execution_count": null,
   "metadata": {},
   "outputs": [],
   "source": [
    "iv = tf.Variable(tf.eye(4))\n",
    "iv.initializer.run()\n",
    "iv.eval()"
   ]
  },
  {
   "cell_type": "code",
   "execution_count": null,
   "metadata": {},
   "outputs": [],
   "source": [
    "#Create a random 6x10 matrix\n",
    "A = tf.Variable(tf.random_normal([10,4]))\n",
    "A.initializer.run()\n",
    "\n",
    "#Multiply two matrices\n",
    "product = tf.matmul(A, iv).eval()\n",
    "product"
   ]
  },
  {
   "cell_type": "code",
   "execution_count": null,
   "metadata": {},
   "outputs": [],
   "source": [
    "# create a random matrix of 1s and 0s, size 4x10\n",
    "# tf.random_uniform(shape, minval=0, maxval=None, dtype=tf.float32)\n",
    "b = tf.Variable(tf.random_uniform([4,10], 0, 2, dtype= tf.int32))\n",
    "b.initializer.run()\n",
    "print(b.eval())"
   ]
  },
  {
   "cell_type": "code",
   "execution_count": null,
   "metadata": {},
   "outputs": [],
   "source": [
    "b_new = tf.cast(b.eval().T, dtype=tf.float32) #Cast to float32 data type\n",
    "\n",
    "# Add the two matrices\n",
    "t_sum = tf.add(product, b_new)\n",
    "t_sub = product - b_new\n",
    "print(\"A*iv + b\\n\", t_sum.eval())\n",
    "print(\"A*iv - b\\n\", t_sub.eval()) "
   ]
  },
  {
   "cell_type": "markdown",
   "metadata": {},
   "source": [
    "### Basic Tensor Manipulation"
   ]
  },
  {
   "cell_type": "code",
   "execution_count": null,
   "metadata": {},
   "outputs": [],
   "source": [
    "print(x)\n",
    "x.eval()"
   ]
  },
  {
   "cell_type": "markdown",
   "metadata": {},
   "source": [
    "#### `tf.reshape()`"
   ]
  },
  {
   "cell_type": "code",
   "execution_count": null,
   "metadata": {},
   "outputs": [],
   "source": [
    "tf.reshape(x, (2,8)).eval()"
   ]
  },
  {
   "cell_type": "code",
   "execution_count": null,
   "metadata": {},
   "outputs": [],
   "source": [
    "tf.reshape(x, (8,2)).eval()"
   ]
  },
  {
   "cell_type": "markdown",
   "metadata": {},
   "source": [
    "#### `tf.transpose()`"
   ]
  },
  {
   "cell_type": "code",
   "execution_count": null,
   "metadata": {},
   "outputs": [],
   "source": [
    "tf.transpose(x).eval() # Transpose matrix"
   ]
  },
  {
   "cell_type": "markdown",
   "metadata": {},
   "source": [
    "#### `tf.matmul()`\n",
    "* Matrix multiplication"
   ]
  },
  {
   "cell_type": "code",
   "execution_count": null,
   "metadata": {},
   "outputs": [],
   "source": [
    "tf.matmul(x, y).eval()"
   ]
  },
  {
   "cell_type": "markdown",
   "metadata": {},
   "source": [
    "### Reduction\n",
    "* Reduction applies an operation across one of the tensor's dimensions, leaving it with one less dimension.\n",
    "* Operations include (with the same parameters) product, minimum, maximum, mean, all, any, and accumulate_n)."
   ]
  },
  {
   "cell_type": "code",
   "execution_count": null,
   "metadata": {},
   "outputs": [],
   "source": [
    "x = tf.constant([[1, 2, 3],[3, 2, 1],[-1,-2,-3]])\n",
    "x.eval()"
   ]
  },
  {
   "cell_type": "code",
   "execution_count": null,
   "metadata": {},
   "outputs": [],
   "source": [
    "boolean_tensor = tf.constant([[True, False, True],[False, False, True],[True, False, True]])\n",
    "boolean_tensor.eval()"
   ]
  },
  {
   "cell_type": "markdown",
   "metadata": {},
   "source": [
    "### `tf.reduce_prod()`"
   ]
  },
  {
   "cell_type": "code",
   "execution_count": null,
   "metadata": {},
   "outputs": [],
   "source": [
    "tf.reduce_prod(x, reduction_indices=0).eval()"
   ]
  },
  {
   "cell_type": "markdown",
   "metadata": {},
   "source": [
    "### `tf.reduce_all()`"
   ]
  },
  {
   "cell_type": "code",
   "execution_count": null,
   "metadata": {},
   "outputs": [],
   "source": [
    "tf.reduce_all(boolean_tensor, reduction_indices=0).eval()"
   ]
  },
  {
   "cell_type": "markdown",
   "metadata": {},
   "source": [
    "### Tensor Slicing and Joining"
   ]
  },
  {
   "cell_type": "code",
   "execution_count": null,
   "metadata": {},
   "outputs": [],
   "source": [
    "# create some matrices\n",
    "t_matrix = tf.constant([[1,2,3],[4,5,6],[7,8,9]])\n",
    "t_array = tf.constant([1,2,3,4,9,8,6,5])\n",
    "t_array2= tf.constant([2,3,4,5,6,7,8,9])"
   ]
  },
  {
   "cell_type": "markdown",
   "metadata": {},
   "source": [
    "### `tf.slice(input_, begin, size)`"
   ]
  },
  {
   "cell_type": "code",
   "execution_count": null,
   "metadata": {},
   "outputs": [],
   "source": [
    "t_matrix.eval()"
   ]
  },
  {
   "cell_type": "code",
   "execution_count": null,
   "metadata": {},
   "outputs": [],
   "source": [
    "tf.slice(t_matrix, [1, 1], [2,2]).eval()"
   ]
  },
  {
   "cell_type": "code",
   "execution_count": null,
   "metadata": {},
   "outputs": [],
   "source": [
    "tf.slice(t_matrix, [1,2], [2,1]).eval()"
   ]
  },
  {
   "cell_type": "markdown",
   "metadata": {},
   "source": [
    "### `tf.split()`"
   ]
  },
  {
   "cell_type": "code",
   "execution_count": null,
   "metadata": {},
   "outputs": [],
   "source": [
    "tf.split(axis=0, num_or_size_splits=2, value=t_array) "
   ]
  },
  {
   "cell_type": "code",
   "execution_count": null,
   "metadata": {},
   "outputs": [],
   "source": [
    "print(tf.split(axis=0, num_or_size_splits=2, value=t_array) [0].eval())\n",
    "print(tf.split(axis=0, num_or_size_splits=2, value=t_array) [1].eval())"
   ]
  },
  {
   "cell_type": "markdown",
   "metadata": {},
   "source": [
    "### `tf.tile()`"
   ]
  },
  {
   "cell_type": "code",
   "execution_count": null,
   "metadata": {},
   "outputs": [],
   "source": [
    "tf.tile([1,2],[3]).eval()"
   ]
  },
  {
   "cell_type": "markdown",
   "metadata": {},
   "source": [
    "### `tf.pad()`"
   ]
  },
  {
   "cell_type": "code",
   "execution_count": null,
   "metadata": {},
   "outputs": [],
   "source": [
    "t_matrix.eval()"
   ]
  },
  {
   "cell_type": "code",
   "execution_count": null,
   "metadata": {},
   "outputs": [],
   "source": [
    "tf.pad(t_matrix, [[0,1],[2,1]]).eval()"
   ]
  },
  {
   "cell_type": "markdown",
   "metadata": {},
   "source": [
    "### `tf.concat()`"
   ]
  },
  {
   "cell_type": "code",
   "execution_count": null,
   "metadata": {},
   "outputs": [],
   "source": [
    "tf.concat(axis=0, values=[t_array, t_array2]).eval()"
   ]
  },
  {
   "cell_type": "code",
   "execution_count": null,
   "metadata": {},
   "outputs": [],
   "source": [
    "t_matrix2 = tf.concat(axis=0, values=[t_matrix,t_matrix])\n",
    "t_matrix2.eval()"
   ]
  },
  {
   "cell_type": "code",
   "execution_count": null,
   "metadata": {},
   "outputs": [],
   "source": [
    "t_matrix3 = tf.concat(axis=1, values=[t_matrix,t_matrix])\n",
    "t_matrix3.eval()"
   ]
  },
  {
   "cell_type": "markdown",
   "metadata": {},
   "source": [
    "### `tf.stack()`"
   ]
  },
  {
   "cell_type": "code",
   "execution_count": null,
   "metadata": {},
   "outputs": [],
   "source": [
    "tf.stack([t_array, t_array2]).eval()"
   ]
  },
  {
   "cell_type": "code",
   "execution_count": null,
   "metadata": {},
   "outputs": [],
   "source": [
    "tf.stack([t_array, t_array2],axis=1).eval()"
   ]
  },
  {
   "cell_type": "markdown",
   "metadata": {},
   "source": [
    "#### `tf.stack()` vs. `tf.concat()`\n",
    "* If the `axis` parameter is within the range of the existing dimensions, then a new axis will be inserted at that index."
   ]
  },
  {
   "cell_type": "code",
   "execution_count": null,
   "metadata": {},
   "outputs": [],
   "source": [
    "t1 = tf.random_normal([1, 3])\n",
    "t2 = tf.random_normal([1, 3])\n",
    "\n",
    "print(tf.stack([t1, t2], axis=1).shape.as_list() == [1, 2, 3])\n",
    "print(tf.concat([t1, t2], axis=1).shape.as_list() == [1, 6])"
   ]
  },
  {
   "cell_type": "markdown",
   "metadata": {},
   "source": [
    "### `tf.unstack()`"
   ]
  },
  {
   "cell_type": "code",
   "execution_count": null,
   "metadata": {},
   "outputs": [],
   "source": [
    "sess.run(t_matrix)"
   ]
  },
  {
   "cell_type": "code",
   "execution_count": null,
   "metadata": {},
   "outputs": [],
   "source": [
    "np_matrix = t_matrix.eval()\n",
    "print(np_matrix)\n",
    "print(type(np_matrix),np_matrix.dtype)\n",
    "print()\n",
    "print(np_matrix[0])\n",
    "print(type(np_matrix[0]),np_matrix[0].dtype)"
   ]
  },
  {
   "cell_type": "code",
   "execution_count": null,
   "metadata": {},
   "outputs": [],
   "source": [
    "unstacked_np_matrix = sess.run(tf.unstack(t_matrix))\n",
    "print(unstacked_np_matrix)\n",
    "print(type(unstacked_np_matrix))\n",
    "print()\n",
    "print(unstacked_np_matrix[0])\n",
    "print(type(unstacked_np_matrix[0]))"
   ]
  },
  {
   "cell_type": "code",
   "execution_count": null,
   "metadata": {},
   "outputs": [],
   "source": [
    "np_matrix[0].dtype"
   ]
  },
  {
   "cell_type": "markdown",
   "metadata": {},
   "source": [
    "You can also give `tf.unstack()` `axis` and `name` arguments."
   ]
  },
  {
   "cell_type": "code",
   "execution_count": null,
   "metadata": {},
   "outputs": [],
   "source": [
    "sess.run(tf.unstack(t_matrix, axis=1,name=\"Unstacked_into_arrays_of_columns\"))"
   ]
  },
  {
   "cell_type": "markdown",
   "metadata": {},
   "source": [
    "### `tf.reverse()`"
   ]
  },
  {
   "cell_type": "code",
   "execution_count": null,
   "metadata": {},
   "outputs": [],
   "source": [
    "tf.reverse(t_matrix, [False,True]).eval()"
   ]
  },
  {
   "cell_type": "markdown",
   "metadata": {},
   "source": [
    "### Elementwise Operations"
   ]
  },
  {
   "cell_type": "code",
   "execution_count": null,
   "metadata": {},
   "outputs": [],
   "source": [
    "# Create two random matrices\n",
    "a = tf.Variable(tf.random_normal([4,5], stddev=2))\n",
    "b = tf.Variable(tf.random_normal([4,5], stddev=2))\n",
    "\n",
    "#Element Wise Multiplication\n",
    "A = a * b\n",
    "\n",
    "#Multiplication with a scalar \n",
    "B = tf.multiply(2.0, A)\n",
    "\n",
    "# Elementwise division, its result is\n",
    "C = tf.divide(a,b)\n",
    "\n",
    "#Element Wise remainder of division\n",
    "D = tf.mod(a,b)\n",
    "\n",
    "init_op = tf.global_variables_initializer()\n",
    "with tf.Session() as sess:     \n",
    "    sess.run(init_op)     \n",
    "    writer = tf.summary.FileWriter('graphs', sess.graph)     \n",
    "    a, b, A_R, B_R, C_R, D_R = sess.run([a , b, A, B, C, D])\n",
    "    print(\"a\\n\",a,\"\\nb\\n\",b, \"a*b\\n\", A_R, \"\\n2*a*b\\n\", B_R, \"\\na/b\\n\", C_R, \"\\na%b\\n\", D_R)\n",
    "    \n",
    "writer.close() "
   ]
  },
  {
   "cell_type": "markdown",
   "metadata": {},
   "source": [
    "### TensorFlow Sequences"
   ]
  },
  {
   "cell_type": "code",
   "execution_count": null,
   "metadata": {},
   "outputs": [],
   "source": [
    "tf.range(10).eval()"
   ]
  },
  {
   "cell_type": "code",
   "execution_count": null,
   "metadata": {},
   "outputs": [],
   "source": [
    "tf.linspace(1.0,10.0,20).eval()"
   ]
  },
  {
   "cell_type": "code",
   "execution_count": null,
   "metadata": {},
   "outputs": [],
   "source": [
    "sess.close()"
   ]
  },
  {
   "cell_type": "code",
   "execution_count": null,
   "metadata": {},
   "outputs": [],
   "source": []
  }
 ],
 "metadata": {
  "kernelspec": {
   "display_name": "Python 3",
   "language": "python",
   "name": "python3"
  },
  "language_info": {
   "codemirror_mode": {
    "name": "ipython",
    "version": 3
   },
   "file_extension": ".py",
   "mimetype": "text/x-python",
   "name": "python",
   "nbconvert_exporter": "python",
   "pygments_lexer": "ipython3",
   "version": "3.5.2"
  }
 },
 "nbformat": 4,
 "nbformat_minor": 2
}
