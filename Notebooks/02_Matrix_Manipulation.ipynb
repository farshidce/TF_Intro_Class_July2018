{
 "cells": [
  {
   "cell_type": "code",
   "execution_count": 1,
   "metadata": {},
   "outputs": [],
   "source": [
    "import tensorflow as tf\n",
    "sess = tf.InteractiveSession()"
   ]
  },
  {
   "cell_type": "markdown",
   "metadata": {},
   "source": [
    "### Making and Initializing Data"
   ]
  },
  {
   "cell_type": "markdown",
   "metadata": {},
   "source": [
    "### Manually Input Data"
   ]
  },
  {
   "cell_type": "code",
   "execution_count": 2,
   "metadata": {},
   "outputs": [],
   "source": [
    "x = tf.constant([[2, 5, 3, -5],\n",
    "                 [0, 3,-2, 5],\n",
    "                 [4, 3, 5, 3],\n",
    "                 [6, 1, 4, 0]])\n",
    "\n",
    "y = tf.constant([[4, -7, 4, -3, 4],\n",
    "                 [6, 4,-7, 4, 7],\n",
    "                 [2, 3, 2, 1, 4],\n",
    "                 [1, 5, 5, 5, 2]])\n",
    "\n",
    "floatx = tf.constant([[2., 5., 3., -5.],\n",
    "                      [0., 3.,-2., 5.],\n",
    "                      [4., 3., 5., 3.],\n",
    "                      [6., 1., 4., 0.]])\n",
    "\n",
    "xv = tf.Variable([[2, 5, 3, -5],\n",
    "                 [0, 3,-2, 5],\n",
    "                 [4, 3, 5, 3],\n",
    "                 [6, 1, 4, 0]])\n",
    "\n",
    "yv = tf.Variable([[4, -7, 4, -3, 4],\n",
    "                 [6, 4,-7, 4, 7],\n",
    "                 [2, 3, 2, 1, 4],\n",
    "                 [1, 5, 5, 5, 2]],trainable=False)"
   ]
  },
  {
   "cell_type": "markdown",
   "metadata": {},
   "source": [
    "#### `tf.eye()` - Initialize an Identity matrix"
   ]
  },
  {
   "cell_type": "code",
   "execution_count": 3,
   "metadata": {},
   "outputs": [
    {
     "data": {
      "text/plain": [
       "array([[1., 0., 0., 0., 0.],\n",
       "       [0., 1., 0., 0., 0.],\n",
       "       [0., 0., 1., 0., 0.],\n",
       "       [0., 0., 0., 1., 0.],\n",
       "       [0., 0., 0., 0., 1.]], dtype=float32)"
      ]
     },
     "execution_count": 3,
     "metadata": {},
     "output_type": "execute_result"
    }
   ],
   "source": [
    "tf.eye(5).eval()"
   ]
  },
  {
   "cell_type": "code",
   "execution_count": 4,
   "metadata": {},
   "outputs": [
    {
     "data": {
      "text/plain": [
       "array([[1., 0., 0., 0.],\n",
       "       [0., 1., 0., 0.],\n",
       "       [0., 0., 1., 0.],\n",
       "       [0., 0., 0., 1.]], dtype=float32)"
      ]
     },
     "execution_count": 4,
     "metadata": {},
     "output_type": "execute_result"
    }
   ],
   "source": [
    "iv = tf.Variable(tf.eye(4))\n",
    "iv.initializer.run()\n",
    "iv.eval()"
   ]
  },
  {
   "cell_type": "code",
   "execution_count": 6,
   "metadata": {},
   "outputs": [
    {
     "data": {
      "text/plain": [
       "array([[ 0.42024967, -1.7084429 ,  0.11474677,  1.5988508 ],\n",
       "       [-0.45976564,  0.8524434 , -0.6911082 ,  1.3277458 ],\n",
       "       [-0.34366554, -1.5231467 , -0.43333977,  0.9084585 ],\n",
       "       [ 0.18274322,  0.16818914,  0.11447871, -0.9224351 ],\n",
       "       [-1.3964077 ,  1.1457081 , -0.758443  ,  0.86896116],\n",
       "       [-0.8240078 , -0.33347732, -0.31896985,  0.04920793],\n",
       "       [-0.69898313, -0.1582772 ,  0.6387067 ,  0.54621613],\n",
       "       [-0.63869405, -0.9603468 , -0.02122526,  1.136651  ],\n",
       "       [-0.47671613,  0.98116803,  0.46481946, -1.6145265 ],\n",
       "       [-0.92460644, -0.05472356,  0.6745219 ,  1.8333186 ]],\n",
       "      dtype=float32)"
      ]
     },
     "execution_count": 6,
     "metadata": {},
     "output_type": "execute_result"
    }
   ],
   "source": [
    "#Create a random 6x10 matrix\n",
    "A = tf.Variable(tf.random_normal([10,4]))\n",
    "A.initializer.run()\n",
    "\n",
    "# elementwise is tf.multiply()\n",
    "#Multiply two matrices\n",
    "product = tf.matmul(A, iv).eval()\n",
    "product"
   ]
  },
  {
   "cell_type": "code",
   "execution_count": 7,
   "metadata": {},
   "outputs": [
    {
     "name": "stdout",
     "output_type": "stream",
     "text": [
      "[[1 0 0 0 0 0 1 1 0 0]\n",
      " [1 0 1 0 1 1 1 0 1 0]\n",
      " [1 0 0 1 1 1 0 0 0 1]\n",
      " [1 1 0 1 0 1 0 0 0 1]]\n"
     ]
    }
   ],
   "source": [
    "# create a random matrix of 1s and 0s, size 4x10\n",
    "# tf.random_uniform(shape, minval=0, maxval=None, dtype=tf.float32)\n",
    "b = tf.Variable(tf.random_uniform([4,10], 0, 2, dtype= tf.int32))\n",
    "b.initializer.run()\n",
    "print(b.eval())"
   ]
  },
  {
   "cell_type": "code",
   "execution_count": 8,
   "metadata": {},
   "outputs": [
    {
     "name": "stdout",
     "output_type": "stream",
     "text": [
      "A*iv + b\n",
      " [[ 1.4202497  -0.7084429   1.1147468   2.5988507 ]\n",
      " [-0.45976564  0.8524434  -0.6911082   2.327746  ]\n",
      " [-0.34366554 -0.52314675 -0.43333977  0.9084585 ]\n",
      " [ 0.18274322  0.16818914  1.1144787   0.0775649 ]\n",
      " [-1.3964077   2.145708    0.241557    0.86896116]\n",
      " [-0.8240078   0.6665227   0.68103015  1.0492079 ]\n",
      " [ 0.30101687  0.8417228   0.6387067   0.54621613]\n",
      " [ 0.36130595 -0.9603468  -0.02122526  1.136651  ]\n",
      " [-0.47671613  1.981168    0.46481946 -1.6145265 ]\n",
      " [-0.92460644 -0.05472356  1.6745219   2.8333187 ]]\n",
      "A*iv - b\n",
      " [[-0.5797503  -2.708443   -0.88525325  0.59885085]\n",
      " [-0.45976564  0.8524434  -0.6911082   0.3277458 ]\n",
      " [-0.34366554 -2.5231466  -0.43333977  0.9084585 ]\n",
      " [ 0.18274322  0.16818914 -0.8855213  -1.922435  ]\n",
      " [-1.3964077   0.14570808 -1.758443    0.86896116]\n",
      " [-0.8240078  -1.3334773  -1.3189698  -0.9507921 ]\n",
      " [-1.6989832  -1.1582772   0.6387067   0.54621613]\n",
      " [-1.638694   -0.9603468  -0.02122526  1.136651  ]\n",
      " [-0.47671613 -0.01883197  0.46481946 -1.6145265 ]\n",
      " [-0.92460644 -0.05472356 -0.32547808  0.8333186 ]]\n"
     ]
    }
   ],
   "source": [
    "b_new = tf.cast(b.eval().T, dtype=tf.float32) #Cast to float32 data type\n",
    "\n",
    "# Add the two matrices\n",
    "t_sum = tf.add(product, b_new)\n",
    "t_sub = product - b_new\n",
    "print(\"A*iv + b\\n\", t_sum.eval())\n",
    "print(\"A*iv - b\\n\", t_sub.eval()) "
   ]
  },
  {
   "cell_type": "markdown",
   "metadata": {},
   "source": [
    "### Basic Tensor Manipulation"
   ]
  },
  {
   "cell_type": "code",
   "execution_count": 10,
   "metadata": {},
   "outputs": [
    {
     "data": {
      "text/plain": [
       "<tf.Tensor 'Const:0' shape=(4, 4) dtype=int32>"
      ]
     },
     "execution_count": 10,
     "metadata": {},
     "output_type": "execute_result"
    }
   ],
   "source": [
    "x"
   ]
  },
  {
   "cell_type": "code",
   "execution_count": 9,
   "metadata": {},
   "outputs": [
    {
     "name": "stdout",
     "output_type": "stream",
     "text": [
      "Tensor(\"Const:0\", shape=(4, 4), dtype=int32)\n"
     ]
    },
    {
     "data": {
      "text/plain": [
       "array([[ 2,  5,  3, -5],\n",
       "       [ 0,  3, -2,  5],\n",
       "       [ 4,  3,  5,  3],\n",
       "       [ 6,  1,  4,  0]], dtype=int32)"
      ]
     },
     "execution_count": 9,
     "metadata": {},
     "output_type": "execute_result"
    }
   ],
   "source": [
    "print(x)\n",
    "x.eval()"
   ]
  },
  {
   "cell_type": "markdown",
   "metadata": {},
   "source": [
    "#### `tf.reshape()`"
   ]
  },
  {
   "cell_type": "code",
   "execution_count": 11,
   "metadata": {},
   "outputs": [
    {
     "data": {
      "text/plain": [
       "array([[ 2,  5,  3, -5,  0,  3, -2,  5],\n",
       "       [ 4,  3,  5,  3,  6,  1,  4,  0]], dtype=int32)"
      ]
     },
     "execution_count": 11,
     "metadata": {},
     "output_type": "execute_result"
    }
   ],
   "source": [
    "tf.reshape(x, (2,8)).eval()"
   ]
  },
  {
   "cell_type": "code",
   "execution_count": 12,
   "metadata": {},
   "outputs": [
    {
     "data": {
      "text/plain": [
       "array([[ 2,  5],\n",
       "       [ 3, -5],\n",
       "       [ 0,  3],\n",
       "       [-2,  5],\n",
       "       [ 4,  3],\n",
       "       [ 5,  3],\n",
       "       [ 6,  1],\n",
       "       [ 4,  0]], dtype=int32)"
      ]
     },
     "execution_count": 12,
     "metadata": {},
     "output_type": "execute_result"
    }
   ],
   "source": [
    "tf.reshape(x, (8,2)).eval()"
   ]
  },
  {
   "cell_type": "markdown",
   "metadata": {},
   "source": [
    "#### `tf.transpose()`"
   ]
  },
  {
   "cell_type": "code",
   "execution_count": 16,
   "metadata": {},
   "outputs": [
    {
     "data": {
      "text/plain": [
       "array([[ 2,  5,  3, -5],\n",
       "       [ 0,  3, -2,  5],\n",
       "       [ 4,  3,  5,  3],\n",
       "       [ 6,  1,  4,  0]], dtype=int32)"
      ]
     },
     "execution_count": 16,
     "metadata": {},
     "output_type": "execute_result"
    }
   ],
   "source": [
    "x.eval()"
   ]
  },
  {
   "cell_type": "code",
   "execution_count": 13,
   "metadata": {},
   "outputs": [
    {
     "data": {
      "text/plain": [
       "array([[ 2,  0,  4,  6],\n",
       "       [ 5,  3,  3,  1],\n",
       "       [ 3, -2,  5,  4],\n",
       "       [-5,  5,  3,  0]], dtype=int32)"
      ]
     },
     "execution_count": 13,
     "metadata": {},
     "output_type": "execute_result"
    }
   ],
   "source": [
    "tf.transpose(x).eval() # Transpose matrix"
   ]
  },
  {
   "cell_type": "markdown",
   "metadata": {},
   "source": [
    "#### `tf.matmul()`\n",
    "* Matrix multiplication"
   ]
  },
  {
   "cell_type": "code",
   "execution_count": 17,
   "metadata": {},
   "outputs": [
    {
     "data": {
      "text/plain": [
       "array([[ 39, -10, -46,  -8,  45],\n",
       "       [ 19,  31,   0,  35,  23],\n",
       "       [ 47,  14,  20,  20,  63],\n",
       "       [ 38, -26,  25, -10,  47]], dtype=int32)"
      ]
     },
     "execution_count": 17,
     "metadata": {},
     "output_type": "execute_result"
    }
   ],
   "source": [
    "tf.matmul(x, y).eval()"
   ]
  },
  {
   "cell_type": "markdown",
   "metadata": {},
   "source": [
    "### Reduction\n",
    "* Reduction applies an operation across one of the tensor's dimensions, leaving it with one less dimension.\n",
    "* Operations include (with the same parameters) product, minimum, maximum, mean, all, any, and accumulate_n)."
   ]
  },
  {
   "cell_type": "code",
   "execution_count": 25,
   "metadata": {},
   "outputs": [
    {
     "data": {
      "text/plain": [
       "array([[ 1,  2,  3],\n",
       "       [ 3,  2,  1],\n",
       "       [-1, -2, -3]], dtype=int32)"
      ]
     },
     "execution_count": 25,
     "metadata": {},
     "output_type": "execute_result"
    }
   ],
   "source": [
    "x = tf.constant([[1, 2, 3],[3, 2, 1],[-1,-2,-3]])\n",
    "x.eval()"
   ]
  },
  {
   "cell_type": "markdown",
   "metadata": {},
   "source": [
    "### `tf.reduce_prod()`"
   ]
  },
  {
   "cell_type": "code",
   "execution_count": 20,
   "metadata": {},
   "outputs": [
    {
     "data": {
      "text/plain": [
       "array([[ 1,  2,  3],\n",
       "       [ 3,  2,  1],\n",
       "       [-1, -2, -3]], dtype=int32)"
      ]
     },
     "execution_count": 20,
     "metadata": {},
     "output_type": "execute_result"
    }
   ],
   "source": [
    "x.eval()"
   ]
  },
  {
   "cell_type": "code",
   "execution_count": 23,
   "metadata": {},
   "outputs": [
    {
     "data": {
      "text/plain": [
       "array([-3, -8, -9], dtype=int32)"
      ]
     },
     "execution_count": 23,
     "metadata": {},
     "output_type": "execute_result"
    }
   ],
   "source": [
    "tf.reduce_prod(x, reduction_indices=0).eval()"
   ]
  },
  {
   "cell_type": "markdown",
   "metadata": {},
   "source": [
    "### `tf.reduce_all()`"
   ]
  },
  {
   "cell_type": "code",
   "execution_count": 26,
   "metadata": {},
   "outputs": [
    {
     "data": {
      "text/plain": [
       "array([[ True, False,  True],\n",
       "       [False, False,  True],\n",
       "       [ True, False,  True]])"
      ]
     },
     "execution_count": 26,
     "metadata": {},
     "output_type": "execute_result"
    }
   ],
   "source": [
    "boolean_tensor = tf.constant([[True, False, True],[False, False, True],[True, False, True]])\n",
    "boolean_tensor.eval()"
   ]
  },
  {
   "cell_type": "code",
   "execution_count": 24,
   "metadata": {},
   "outputs": [
    {
     "data": {
      "text/plain": [
       "array([False, False,  True])"
      ]
     },
     "execution_count": 24,
     "metadata": {},
     "output_type": "execute_result"
    }
   ],
   "source": [
    "tf.reduce_all(boolean_tensor, reduction_indices=0).eval()"
   ]
  },
  {
   "cell_type": "markdown",
   "metadata": {},
   "source": [
    "### Tensor Slicing and Joining"
   ]
  },
  {
   "cell_type": "code",
   "execution_count": 27,
   "metadata": {},
   "outputs": [],
   "source": [
    "# create some matrices\n",
    "t_matrix = tf.constant([[1,2,3],[4,5,6],[7,8,9]])\n",
    "t_array = tf.constant([1,2,3,4,9,8,6,5])\n",
    "t_array2= tf.constant([2,3,4,5,6,7,8,9])"
   ]
  },
  {
   "cell_type": "markdown",
   "metadata": {},
   "source": [
    "### `tf.slice(input_, begin, size)`"
   ]
  },
  {
   "cell_type": "code",
   "execution_count": 28,
   "metadata": {},
   "outputs": [
    {
     "data": {
      "text/plain": [
       "array([[1, 2, 3],\n",
       "       [4, 5, 6],\n",
       "       [7, 8, 9]], dtype=int32)"
      ]
     },
     "execution_count": 28,
     "metadata": {},
     "output_type": "execute_result"
    }
   ],
   "source": [
    "t_matrix.eval()"
   ]
  },
  {
   "cell_type": "code",
   "execution_count": 29,
   "metadata": {},
   "outputs": [
    {
     "data": {
      "text/plain": [
       "array([[5, 6],\n",
       "       [8, 9]], dtype=int32)"
      ]
     },
     "execution_count": 29,
     "metadata": {},
     "output_type": "execute_result"
    }
   ],
   "source": [
    "tf.slice(t_matrix, [1, 1], [2,2]).eval()"
   ]
  },
  {
   "cell_type": "code",
   "execution_count": 30,
   "metadata": {},
   "outputs": [
    {
     "data": {
      "text/plain": [
       "array([[6],\n",
       "       [9]], dtype=int32)"
      ]
     },
     "execution_count": 30,
     "metadata": {},
     "output_type": "execute_result"
    }
   ],
   "source": [
    "tf.slice(t_matrix, [1,2], [2,1]).eval()"
   ]
  },
  {
   "cell_type": "markdown",
   "metadata": {},
   "source": [
    "### `tf.split()`"
   ]
  },
  {
   "cell_type": "code",
   "execution_count": 34,
   "metadata": {},
   "outputs": [
    {
     "data": {
      "text/plain": [
       "array([1, 2, 3, 4, 9, 8, 6, 5], dtype=int32)"
      ]
     },
     "execution_count": 34,
     "metadata": {},
     "output_type": "execute_result"
    }
   ],
   "source": [
    "t_array.eval()"
   ]
  },
  {
   "cell_type": "code",
   "execution_count": 31,
   "metadata": {},
   "outputs": [
    {
     "data": {
      "text/plain": [
       "[<tf.Tensor 'split:0' shape=(4,) dtype=int32>,\n",
       " <tf.Tensor 'split:1' shape=(4,) dtype=int32>]"
      ]
     },
     "execution_count": 31,
     "metadata": {},
     "output_type": "execute_result"
    }
   ],
   "source": [
    "tf.split(axis=0, num_or_size_splits=2, value=t_array) "
   ]
  },
  {
   "cell_type": "code",
   "execution_count": 32,
   "metadata": {},
   "outputs": [
    {
     "name": "stdout",
     "output_type": "stream",
     "text": [
      "[1 2 3 4]\n",
      "[9 8 6 5]\n"
     ]
    }
   ],
   "source": [
    "print(tf.split(axis=0, num_or_size_splits=2, value=t_array) [0].eval())\n",
    "print(tf.split(axis=0, num_or_size_splits=2, value=t_array) [1].eval())"
   ]
  },
  {
   "cell_type": "code",
   "execution_count": 35,
   "metadata": {},
   "outputs": [
    {
     "ename": "AttributeError",
     "evalue": "'list' object has no attribute 'eval'",
     "output_type": "error",
     "traceback": [
      "\u001b[0;31m---------------------------------------------------------------------------\u001b[0m",
      "\u001b[0;31mAttributeError\u001b[0m                            Traceback (most recent call last)",
      "\u001b[0;32m<ipython-input-35-c2c163587f0e>\u001b[0m in \u001b[0;36m<module>\u001b[0;34m()\u001b[0m\n\u001b[0;32m----> 1\u001b[0;31m \u001b[0mprint\u001b[0m\u001b[0;34m(\u001b[0m\u001b[0mtf\u001b[0m\u001b[0;34m.\u001b[0m\u001b[0msplit\u001b[0m\u001b[0;34m(\u001b[0m\u001b[0maxis\u001b[0m\u001b[0;34m=\u001b[0m\u001b[0;36m0\u001b[0m\u001b[0;34m,\u001b[0m \u001b[0mnum_or_size_splits\u001b[0m\u001b[0;34m=\u001b[0m\u001b[0;36m2\u001b[0m\u001b[0;34m,\u001b[0m \u001b[0mvalue\u001b[0m\u001b[0;34m=\u001b[0m\u001b[0mt_array\u001b[0m\u001b[0;34m)\u001b[0m\u001b[0;34m.\u001b[0m\u001b[0meval\u001b[0m\u001b[0;34m(\u001b[0m\u001b[0;34m)\u001b[0m\u001b[0;34m)\u001b[0m\u001b[0;34m\u001b[0m\u001b[0m\n\u001b[0m",
      "\u001b[0;31mAttributeError\u001b[0m: 'list' object has no attribute 'eval'"
     ]
    }
   ],
   "source": [
    "print(tf.split(axis=0, num_or_size_splits=2, value=t_array).eval())"
   ]
  },
  {
   "cell_type": "markdown",
   "metadata": {},
   "source": [
    "### `tf.tile()`"
   ]
  },
  {
   "cell_type": "code",
   "execution_count": 36,
   "metadata": {},
   "outputs": [
    {
     "data": {
      "text/plain": [
       "array([1, 2, 1, 2, 1, 2], dtype=int32)"
      ]
     },
     "execution_count": 36,
     "metadata": {},
     "output_type": "execute_result"
    }
   ],
   "source": [
    "tf.tile([1,2],[3]).eval()"
   ]
  },
  {
   "cell_type": "markdown",
   "metadata": {},
   "source": [
    "### `tf.pad()`"
   ]
  },
  {
   "cell_type": "code",
   "execution_count": 37,
   "metadata": {},
   "outputs": [
    {
     "data": {
      "text/plain": [
       "array([[1, 2, 3],\n",
       "       [4, 5, 6],\n",
       "       [7, 8, 9]], dtype=int32)"
      ]
     },
     "execution_count": 37,
     "metadata": {},
     "output_type": "execute_result"
    }
   ],
   "source": [
    "t_matrix.eval()"
   ]
  },
  {
   "cell_type": "code",
   "execution_count": 39,
   "metadata": {},
   "outputs": [
    {
     "data": {
      "text/plain": [
       "TensorShape([Dimension(3), Dimension(3)])"
      ]
     },
     "execution_count": 39,
     "metadata": {},
     "output_type": "execute_result"
    }
   ],
   "source": [
    "t_matrix.shape"
   ]
  },
  {
   "cell_type": "code",
   "execution_count": 38,
   "metadata": {},
   "outputs": [
    {
     "data": {
      "text/plain": [
       "array([[0, 0, 1, 2, 3, 0],\n",
       "       [0, 0, 4, 5, 6, 0],\n",
       "       [0, 0, 7, 8, 9, 0],\n",
       "       [0, 0, 0, 0, 0, 0]], dtype=int32)"
      ]
     },
     "execution_count": 38,
     "metadata": {},
     "output_type": "execute_result"
    }
   ],
   "source": [
    "tf.pad(t_matrix, [[0,1],[2,1]]).eval()"
   ]
  },
  {
   "cell_type": "markdown",
   "metadata": {},
   "source": [
    "### `tf.concat()`"
   ]
  },
  {
   "cell_type": "code",
   "execution_count": 40,
   "metadata": {},
   "outputs": [
    {
     "name": "stdout",
     "output_type": "stream",
     "text": [
      "[1 2 3 4 9 8 6 5]\n",
      "[2 3 4 5 6 7 8 9]\n"
     ]
    }
   ],
   "source": [
    "print(t_array.eval())\n",
    "print(t_array2.eval())"
   ]
  },
  {
   "cell_type": "code",
   "execution_count": 41,
   "metadata": {},
   "outputs": [
    {
     "data": {
      "text/plain": [
       "array([1, 2, 3, 4, 9, 8, 6, 5, 2, 3, 4, 5, 6, 7, 8, 9], dtype=int32)"
      ]
     },
     "execution_count": 41,
     "metadata": {},
     "output_type": "execute_result"
    }
   ],
   "source": [
    "tf.concat(axis=0, values=[t_array, t_array2]).eval()"
   ]
  },
  {
   "cell_type": "code",
   "execution_count": 43,
   "metadata": {},
   "outputs": [
    {
     "data": {
      "text/plain": [
       "array([[1, 2, 3],\n",
       "       [4, 5, 6],\n",
       "       [7, 8, 9]], dtype=int32)"
      ]
     },
     "execution_count": 43,
     "metadata": {},
     "output_type": "execute_result"
    }
   ],
   "source": [
    "t_matrix.eval()"
   ]
  },
  {
   "cell_type": "code",
   "execution_count": 42,
   "metadata": {},
   "outputs": [
    {
     "data": {
      "text/plain": [
       "array([[1, 2, 3],\n",
       "       [4, 5, 6],\n",
       "       [7, 8, 9],\n",
       "       [1, 2, 3],\n",
       "       [4, 5, 6],\n",
       "       [7, 8, 9]], dtype=int32)"
      ]
     },
     "execution_count": 42,
     "metadata": {},
     "output_type": "execute_result"
    }
   ],
   "source": [
    "t_matrix2 = tf.concat(axis=0, values=[t_matrix,t_matrix])\n",
    "t_matrix2.eval()"
   ]
  },
  {
   "cell_type": "code",
   "execution_count": 44,
   "metadata": {},
   "outputs": [
    {
     "data": {
      "text/plain": [
       "array([[1, 2, 3, 1, 2, 3],\n",
       "       [4, 5, 6, 4, 5, 6],\n",
       "       [7, 8, 9, 7, 8, 9]], dtype=int32)"
      ]
     },
     "execution_count": 44,
     "metadata": {},
     "output_type": "execute_result"
    }
   ],
   "source": [
    "t_matrix3 = tf.concat(axis=1, values=[t_matrix,t_matrix])\n",
    "t_matrix3.eval()"
   ]
  },
  {
   "cell_type": "markdown",
   "metadata": {},
   "source": [
    "### `tf.stack()`"
   ]
  },
  {
   "cell_type": "code",
   "execution_count": 45,
   "metadata": {},
   "outputs": [
    {
     "data": {
      "text/plain": [
       "array([[1, 2, 3, 4, 9, 8, 6, 5],\n",
       "       [2, 3, 4, 5, 6, 7, 8, 9]], dtype=int32)"
      ]
     },
     "execution_count": 45,
     "metadata": {},
     "output_type": "execute_result"
    }
   ],
   "source": [
    "tf.stack([t_array, t_array2]).eval()"
   ]
  },
  {
   "cell_type": "code",
   "execution_count": 46,
   "metadata": {},
   "outputs": [
    {
     "data": {
      "text/plain": [
       "array([[1, 2],\n",
       "       [2, 3],\n",
       "       [3, 4],\n",
       "       [4, 5],\n",
       "       [9, 6],\n",
       "       [8, 7],\n",
       "       [6, 8],\n",
       "       [5, 9]], dtype=int32)"
      ]
     },
     "execution_count": 46,
     "metadata": {},
     "output_type": "execute_result"
    }
   ],
   "source": [
    "tf.stack([t_array, t_array2],axis=1).eval()"
   ]
  },
  {
   "cell_type": "markdown",
   "metadata": {},
   "source": [
    "#### `tf.stack()` vs. `tf.concat()`\n",
    "* If the `axis` parameter is within the range of the existing dimensions, then a new axis will be inserted at that index."
   ]
  },
  {
   "cell_type": "code",
   "execution_count": 47,
   "metadata": {},
   "outputs": [
    {
     "name": "stdout",
     "output_type": "stream",
     "text": [
      "True\n",
      "True\n"
     ]
    }
   ],
   "source": [
    "t1 = tf.random_normal([1, 3])\n",
    "t2 = tf.random_normal([1, 3])\n",
    "\n",
    "print(tf.stack([t1, t2], axis=1).shape.as_list() == [1, 2, 3])\n",
    "print(tf.concat([t1, t2], axis=1).shape.as_list() == [1, 6])"
   ]
  },
  {
   "cell_type": "markdown",
   "metadata": {},
   "source": [
    "### `tf.unstack()`"
   ]
  },
  {
   "cell_type": "code",
   "execution_count": 48,
   "metadata": {},
   "outputs": [
    {
     "data": {
      "text/plain": [
       "array([[1, 2, 3],\n",
       "       [4, 5, 6],\n",
       "       [7, 8, 9]], dtype=int32)"
      ]
     },
     "execution_count": 48,
     "metadata": {},
     "output_type": "execute_result"
    }
   ],
   "source": [
    "sess.run(t_matrix)"
   ]
  },
  {
   "cell_type": "code",
   "execution_count": 49,
   "metadata": {},
   "outputs": [
    {
     "name": "stdout",
     "output_type": "stream",
     "text": [
      "[[1 2 3]\n",
      " [4 5 6]\n",
      " [7 8 9]]\n",
      "<class 'numpy.ndarray'> int32\n",
      "\n",
      "[1 2 3]\n",
      "<class 'numpy.ndarray'> int32\n"
     ]
    }
   ],
   "source": [
    "np_matrix = t_matrix.eval()\n",
    "print(np_matrix)\n",
    "print(type(np_matrix),np_matrix.dtype)\n",
    "print()\n",
    "print(np_matrix[0])\n",
    "print(type(np_matrix[0]),np_matrix[0].dtype)"
   ]
  },
  {
   "cell_type": "code",
   "execution_count": 50,
   "metadata": {},
   "outputs": [
    {
     "name": "stdout",
     "output_type": "stream",
     "text": [
      "[array([1, 2, 3], dtype=int32), array([4, 5, 6], dtype=int32), array([7, 8, 9], dtype=int32)]\n",
      "<class 'list'>\n",
      "\n",
      "[1 2 3]\n",
      "<class 'numpy.ndarray'>\n"
     ]
    }
   ],
   "source": [
    "unstacked_np_matrix = sess.run(tf.unstack(t_matrix))\n",
    "print(unstacked_np_matrix)\n",
    "print(type(unstacked_np_matrix))\n",
    "print()\n",
    "print(unstacked_np_matrix[0])\n",
    "print(type(unstacked_np_matrix[0]))"
   ]
  },
  {
   "cell_type": "code",
   "execution_count": 51,
   "metadata": {},
   "outputs": [
    {
     "data": {
      "text/plain": [
       "dtype('int32')"
      ]
     },
     "execution_count": 51,
     "metadata": {},
     "output_type": "execute_result"
    }
   ],
   "source": [
    "np_matrix[0].dtype"
   ]
  },
  {
   "cell_type": "markdown",
   "metadata": {},
   "source": [
    "You can also give `tf.unstack()` `axis` and `name` arguments."
   ]
  },
  {
   "cell_type": "code",
   "execution_count": 52,
   "metadata": {},
   "outputs": [
    {
     "data": {
      "text/plain": [
       "[array([1, 4, 7], dtype=int32),\n",
       " array([2, 5, 8], dtype=int32),\n",
       " array([3, 6, 9], dtype=int32)]"
      ]
     },
     "execution_count": 52,
     "metadata": {},
     "output_type": "execute_result"
    }
   ],
   "source": [
    "sess.run(tf.unstack(t_matrix, axis=1,name=\"Unstacked_into_arrays_of_columns\"))"
   ]
  },
  {
   "cell_type": "markdown",
   "metadata": {},
   "source": [
    "### `tf.reverse()`"
   ]
  },
  {
   "cell_type": "code",
   "execution_count": 53,
   "metadata": {},
   "outputs": [
    {
     "data": {
      "text/plain": [
       "array([[9, 8, 7],\n",
       "       [6, 5, 4],\n",
       "       [3, 2, 1]], dtype=int32)"
      ]
     },
     "execution_count": 53,
     "metadata": {},
     "output_type": "execute_result"
    }
   ],
   "source": [
    "tf.reverse(t_matrix, [False,True]).eval()"
   ]
  },
  {
   "cell_type": "markdown",
   "metadata": {},
   "source": [
    "### Elementwise Operations"
   ]
  },
  {
   "cell_type": "code",
   "execution_count": 54,
   "metadata": {},
   "outputs": [
    {
     "name": "stdout",
     "output_type": "stream",
     "text": [
      "a\n",
      " [[ 0.9748891  -3.4758568  -0.61576104 -0.9309627   0.93498355]\n",
      " [-0.16970812  0.75630325 -2.0760865  -1.6797256  -2.078811  ]\n",
      " [ 0.2681403  -1.9302405  -2.042519    2.4187844  -0.8403005 ]\n",
      " [-1.1321558   2.7637115   3.5283828   0.5175677  -0.8130753 ]] \n",
      "b\n",
      " [[ 1.9247587  -1.1157962  -0.9329151  -1.9644786  -2.2444432 ]\n",
      " [ 1.8820474   1.654654    0.59735435  0.9618467  -0.831687  ]\n",
      " [ 0.13152151  3.9739368   0.49224102 -0.19265108 -1.0293938 ]\n",
      " [-1.3907378  -0.60073626 -1.9103026  -3.033884   -1.1804694 ]] a*b\n",
      " [[ 1.8764262   3.8783479   0.57445276  1.8288562  -2.0985174 ]\n",
      " [-0.31939873  1.2514203  -1.2401593  -1.6156386   1.72892   ]\n",
      " [ 0.03526621 -7.670654   -1.0054117  -0.46598142  0.8650001 ]\n",
      " [ 1.5745318  -1.6602616  -6.7402787  -1.5702404   0.9598105 ]] \n",
      "2*a*b\n",
      " [[  3.7528524    7.7566957    1.1489055    3.6577125   -4.197035  ]\n",
      " [ -0.63879746   2.5028405   -2.4803185   -3.2312772    3.45784   ]\n",
      " [  0.07053243 -15.341308    -2.0108235   -0.93196285   1.7300003 ]\n",
      " [  3.1490636   -3.3205233  -13.480557    -3.1404808    1.919621  ]] \n",
      "a/b\n",
      " [[  0.5064994    3.115136     0.6600397    0.4738981   -0.41657707]\n",
      " [ -0.09017207   0.45707637  -3.4754689   -1.7463548    2.4995112 ]\n",
      " [  2.0387561   -0.48572502  -4.149429   -12.55526      0.8163062 ]\n",
      " [  0.8140685   -4.6005406   -1.8470281   -0.17059574   0.68877286]] \n",
      "a%b\n",
      " [[ 0.9748891  -0.12846816 -0.61576104 -0.9309627  -1.3094597 ]\n",
      " [ 1.7123393   0.75630325  0.3133309   0.24396777 -0.41543698]\n",
      " [ 0.00509727  2.0436964   0.41868603 -0.08567964 -0.8403005 ]\n",
      " [-1.1321558  -0.23996985 -0.2922225  -2.5163164  -0.8130753 ]]\n"
     ]
    }
   ],
   "source": [
    "# Create two random matrices\n",
    "a = tf.Variable(tf.random_normal([4,5], stddev=2))\n",
    "b = tf.Variable(tf.random_normal([4,5], stddev=2))\n",
    "\n",
    "#Element Wise Multiplication\n",
    "A = a * b\n",
    "\n",
    "#Multiplication with a scalar \n",
    "B = tf.multiply(2.0, A)\n",
    "\n",
    "# Elementwise division, its result is\n",
    "C = tf.divide(a,b)\n",
    "\n",
    "#Element Wise remainder of division\n",
    "D = tf.mod(a,b)\n",
    "\n",
    "init_op = tf.global_variables_initializer()\n",
    "with tf.Session() as sess:     \n",
    "    sess.run(init_op)     \n",
    "    writer = tf.summary.FileWriter('graphs', sess.graph)     \n",
    "    a, b, A_R, B_R, C_R, D_R = sess.run([a , b, A, B, C, D])\n",
    "    print(\"a\\n\",a,\"\\nb\\n\",b, \"a*b\\n\", A_R, \"\\n2*a*b\\n\", B_R, \"\\na/b\\n\", C_R, \"\\na%b\\n\", D_R)\n",
    "    \n",
    "writer.close() "
   ]
  },
  {
   "cell_type": "markdown",
   "metadata": {},
   "source": [
    "### TensorFlow Sequences"
   ]
  },
  {
   "cell_type": "code",
   "execution_count": 55,
   "metadata": {},
   "outputs": [
    {
     "data": {
      "text/plain": [
       "array([0, 1, 2, 3, 4, 5, 6, 7, 8, 9], dtype=int32)"
      ]
     },
     "execution_count": 55,
     "metadata": {},
     "output_type": "execute_result"
    }
   ],
   "source": [
    "tf.range(10).eval()"
   ]
  },
  {
   "cell_type": "code",
   "execution_count": 56,
   "metadata": {},
   "outputs": [
    {
     "data": {
      "text/plain": [
       "array([ 1.       ,  1.4736842,  1.9473684,  2.4210527,  2.8947368,\n",
       "        3.368421 ,  3.8421054,  4.315789 ,  4.7894735,  5.263158 ,\n",
       "        5.736842 ,  6.2105265,  6.684211 ,  7.157895 ,  7.631579 ,\n",
       "        8.105263 ,  8.578947 ,  9.052631 ,  9.526316 , 10.       ],\n",
       "      dtype=float32)"
      ]
     },
     "execution_count": 56,
     "metadata": {},
     "output_type": "execute_result"
    }
   ],
   "source": [
    "tf.linspace(1.0,10.0,20).eval()"
   ]
  },
  {
   "cell_type": "code",
   "execution_count": 57,
   "metadata": {},
   "outputs": [],
   "source": [
    "sess.close()"
   ]
  },
  {
   "cell_type": "code",
   "execution_count": null,
   "metadata": {},
   "outputs": [],
   "source": []
  }
 ],
 "metadata": {
  "kernelspec": {
   "display_name": "Python 3",
   "language": "python",
   "name": "python3"
  },
  "language_info": {
   "codemirror_mode": {
    "name": "ipython",
    "version": 3
   },
   "file_extension": ".py",
   "mimetype": "text/x-python",
   "name": "python",
   "nbconvert_exporter": "python",
   "pygments_lexer": "ipython3",
   "version": "3.5.2"
  }
 },
 "nbformat": 4,
 "nbformat_minor": 2
}
