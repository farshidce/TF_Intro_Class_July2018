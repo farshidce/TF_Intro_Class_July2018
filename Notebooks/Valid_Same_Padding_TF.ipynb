{
 "cells": [
  {
   "cell_type": "markdown",
   "metadata": {},
   "source": [
    "### Same vs Valid Padding"
   ]
  },
  {
   "cell_type": "markdown",
   "metadata": {},
   "source": [
    "* **Same** padding means that the size of the **output** feature-maps are the **same as the size of the input feature-maps** (under the assumption of stride=1). \n",
    "* For instance, if input is $n_{in}$ channels with feature-maps of size 28×28, then in the output you expect to get $n_{out}$ feature maps each of size 28×28 as well.\n",
    "* To achieve this we need to properly configure the convolution operator. If a kernel (filter) of size k×k is used, then the padding size p should be chosen to be p=k−12.\n",
    "\n",
    "* To see where this comes from, consider the following schematic figure, with an input 2D feature map of size 10×10 needs and a kernel of size 3×3.\n",
    "<img src='../pics/padding1.webp'>\n",
    "<img src='../pics/padding2.webp'>\n",
    "* In order to make the output feature maps of the same size, we need to compute the convolution operation of kernel matrix with the local patches of the input feature maps 10 times in each direction.\n",
    "* Intuitively, each cell of the input matrix must be placed at the center of the kernel. \n",
    "* So, starting from the first cell in the top-left corner, we need to **pad that cell with enough zeros to make it be the center of the kernel**. \n",
    "* And that means we need to pad the matrix with one zeros in each direction. If the kernel was of size 5×5 then, we would need to zeros.\n",
    "\n",
    "Another way to verify this, is to use the relationship between input and output sizes for kernel size k and padding p (as noted in https://arxiv.org/pdf/1603.07285...):\n",
    "\n",
    "$$\\Large{outputsize=(inputsize−kernelsize)+2paddingsize+1}$$\n",
    "$$\\Large{o=(i−k)+2p+1}$$\n",
    "\n",
    "So, when i=10, k=3, p=1 we get output size o=10–3+2×1+1=10\n",
    "\n",
    "and when when i=10, k=5, p=2 we get output size o=10–5+2×2+1=10m"
   ]
  },
  {
   "cell_type": "code",
   "execution_count": 1,
   "metadata": {},
   "outputs": [
    {
     "name": "stderr",
     "output_type": "stream",
     "text": [
      "/usr/local/lib/python3.5/dist-packages/h5py/__init__.py:36: FutureWarning: Conversion of the second argument of issubdtype from `float` to `np.floating` is deprecated. In future, it will be treated as `np.float64 == np.dtype(float).type`.\n",
      "  from ._conv import register_converters as _register_converters\n"
     ]
    }
   ],
   "source": [
    "import tensorflow as tf"
   ]
  },
  {
   "cell_type": "code",
   "execution_count": 2,
   "metadata": {},
   "outputs": [],
   "source": [
    "tf.reset_default_graph()\n",
    "sess = tf.InteractiveSession()"
   ]
  },
  {
   "cell_type": "markdown",
   "metadata": {},
   "source": [
    "* x: input image of shape [2, 3], 1 channel"
   ]
  },
  {
   "cell_type": "code",
   "execution_count": 3,
   "metadata": {},
   "outputs": [
    {
     "name": "stdout",
     "output_type": "stream",
     "text": [
      "(1, 2, 3, 1)\n"
     ]
    },
    {
     "data": {
      "text/plain": [
       "array([[[[1.],\n",
       "         [2.],\n",
       "         [3.]],\n",
       "\n",
       "        [[4.],\n",
       "         [5.],\n",
       "         [6.]]]], dtype=float32)"
      ]
     },
     "execution_count": 3,
     "metadata": {},
     "output_type": "execute_result"
    }
   ],
   "source": [
    "x = tf.constant([[1., 2., 3.],\n",
    "                 [4., 5., 6.]])\n",
    "\n",
    "x = tf.reshape(x, [1, 2, 3, 1])  # give a shape accepted by tf.nn.max_pool\n",
    "print(x.shape)\n",
    "x.eval()"
   ]
  },
  {
   "cell_type": "markdown",
   "metadata": {},
   "source": [
    "* valid_pad: max pool with 2x2 kernel, stride 2 and VALID padding.\n",
    "* same_pad: max pool with 2x2 kernel, stride 2 and SAME padding (this is the classic way to go)\n",
    "$$$$\n",
    "`tf.nn.max_pool(value, ksize, strides, padding, data_format='NHWC')`\n",
    "* NHWC = Num_samples x Height x Width x Channels"
   ]
  },
  {
   "cell_type": "code",
   "execution_count": 4,
   "metadata": {
    "scrolled": true
   },
   "outputs": [
    {
     "data": {
      "text/plain": [
       "TensorShape([Dimension(1), Dimension(1), Dimension(1), Dimension(1)])"
      ]
     },
     "execution_count": 4,
     "metadata": {},
     "output_type": "execute_result"
    }
   ],
   "source": [
    "valid_pad = tf.nn.max_pool(x, [1, 2, 2, 1], [1, 2, 2, 1], padding='VALID')\n",
    "valid_pad.get_shape() == [1, 1, 1, 1]  # valid_pad is [5.]\n",
    "valid_pad.get_shape()"
   ]
  },
  {
   "cell_type": "code",
   "execution_count": 5,
   "metadata": {},
   "outputs": [
    {
     "data": {
      "text/plain": [
       "array([[[[5.]]]], dtype=float32)"
      ]
     },
     "execution_count": 5,
     "metadata": {},
     "output_type": "execute_result"
    }
   ],
   "source": [
    "valid_pad.eval()"
   ]
  },
  {
   "cell_type": "code",
   "execution_count": 6,
   "metadata": {},
   "outputs": [
    {
     "data": {
      "text/plain": [
       "TensorShape([Dimension(1), Dimension(1), Dimension(2), Dimension(1)])"
      ]
     },
     "execution_count": 6,
     "metadata": {},
     "output_type": "execute_result"
    }
   ],
   "source": [
    "same_pad = tf.nn.max_pool(x, [1, 2, 2, 1], [1, 2, 2, 1], padding='SAME')\n",
    "same_pad.get_shape() == [1, 1, 2, 1]   # same_pad is  [5., 6.]\n",
    "same_pad.get_shape()"
   ]
  },
  {
   "cell_type": "code",
   "execution_count": 7,
   "metadata": {},
   "outputs": [
    {
     "data": {
      "text/plain": [
       "array([[[[5.],\n",
       "         [6.]]]], dtype=float32)"
      ]
     },
     "execution_count": 7,
     "metadata": {},
     "output_type": "execute_result"
    }
   ],
   "source": [
    "same_pad.eval()"
   ]
  },
  {
   "cell_type": "code",
   "execution_count": 8,
   "metadata": {},
   "outputs": [],
   "source": [
    "sess.close()"
   ]
  },
  {
   "cell_type": "code",
   "execution_count": null,
   "metadata": {},
   "outputs": [],
   "source": []
  }
 ],
 "metadata": {
  "kernelspec": {
   "display_name": "Python 3",
   "language": "python",
   "name": "python3"
  },
  "language_info": {
   "codemirror_mode": {
    "name": "ipython",
    "version": 3
   },
   "file_extension": ".py",
   "mimetype": "text/x-python",
   "name": "python",
   "nbconvert_exporter": "python",
   "pygments_lexer": "ipython3",
   "version": "3.5.2"
  }
 },
 "nbformat": 4,
 "nbformat_minor": 2
}
